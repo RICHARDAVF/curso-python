{
 "cells": [
  {
   "cell_type": "markdown",
   "id": "2d90dc6b",
   "metadata": {},
   "source": [
    "# Funciones Basicas\n",
    "\n",
    "Una función se define con la palabra clave `def` seguida del nombre de la funcion, parentesis `()` y dos puntos al final `:`."
   ]
  },
  {
   "cell_type": "code",
   "execution_count": 36,
   "id": "6dc7091f",
   "metadata": {},
   "outputs": [],
   "source": [
    "# Definición simple de una función en python\n",
    "def saludar():\n",
    "    print(\"¡Hola, Bienvenido a la sesión de funciones en python!\")\n",
    "    "
   ]
  },
  {
   "cell_type": "code",
   "execution_count": 37,
   "id": "af4f2af7",
   "metadata": {},
   "outputs": [
    {
     "name": "stdout",
     "output_type": "stream",
     "text": [
      "¡Hola, Bienvenido a la sesión de funciones en python!\n"
     ]
    }
   ],
   "source": [
    "#Llamada a la función\n",
    "saludar()"
   ]
  },
  {
   "cell_type": "markdown",
   "id": "f83ee4e7",
   "metadata": {},
   "source": [
    "### Parametros y argumentos"
   ]
  },
  {
   "cell_type": "code",
   "execution_count": 38,
   "id": "5d69c541",
   "metadata": {},
   "outputs": [
    {
     "name": "stdout",
     "output_type": "stream",
     "text": [
      "Hola,Ricardo, Que gusto verte en la sesión de funciones en python\n"
     ]
    }
   ],
   "source": [
    "# Función con parámetro 'nombre'\n",
    "def saludo_personalizado(nombre):\n",
    "    print(f\"Hola,{nombre}, Que gusto verte en la sesión de funciones en python\")\n",
    "# Llamada a la función con un argumento\n",
    "saludo_personalizado(\"Ricardo\")"
   ]
  },
  {
   "cell_type": "markdown",
   "id": "e4f16a3c",
   "metadata": {},
   "source": [
    "### Funciones de multiples parametros"
   ]
  },
  {
   "cell_type": "code",
   "execution_count": 39,
   "id": "6a217013",
   "metadata": {},
   "outputs": [
    {
     "name": "stdout",
     "output_type": "stream",
     "text": [
      "La suma de 5 y 10 es: 15\n"
     ]
    }
   ],
   "source": [
    "def sumar_numeros(a,b):\n",
    "    resultado = a+b\n",
    "    print(f\"La suma de {a} y {b} es: {resultado}\")\n",
    "# Llamada a la función con dos argumentos\n",
    "sumar_numeros(5,10)"
   ]
  },
  {
   "cell_type": "markdown",
   "id": "649f362f",
   "metadata": {},
   "source": [
    "### Valores de retorno `return`\n",
    "La palabra `return` se utliza para devolver un valor desde la funcion,. Esto permite que el resultado de la funcionsea utilizado en otras partes del programa"
   ]
  },
  {
   "cell_type": "code",
   "execution_count": 40,
   "id": "6750fa73",
   "metadata": {},
   "outputs": [
    {
     "name": "stdout",
     "output_type": "stream",
     "text": [
      "La suma es: 7\n"
     ]
    }
   ],
   "source": [
    "# Funcion para sumar\n",
    "def sumar(num1,num2):\n",
    "    return num1 + num2\n",
    "# Llamada a la función y almacenamiento del resultado\n",
    "resultado = sumar(3, 4)\n",
    "print(f\"La suma es: {resultado}\")"
   ]
  },
  {
   "cell_type": "code",
   "execution_count": 41,
   "id": "37092cdb",
   "metadata": {},
   "outputs": [
    {
     "data": {
      "text/plain": [
       "12"
      ]
     },
     "execution_count": 41,
     "metadata": {},
     "output_type": "execute_result"
    }
   ],
   "source": [
    "def operaciones_aritmeticas(a,b):\n",
    "    suma = a+b\n",
    "    resta = a-b\n",
    "    multiplicacion = a*b\n",
    "    division = a/b\n",
    "    return suma,resta,multiplicacion,division\n",
    "a = 4\n",
    "b = 8\n",
    "\n",
    "suma_,resta_,multiplicacion_,division_=operaciones_aritmeticas(a,b) \n",
    "suma_"
   ]
  },
  {
   "cell_type": "code",
   "execution_count": 42,
   "id": "d1dd5e49",
   "metadata": {},
   "outputs": [
    {
     "name": "stdout",
     "output_type": "stream",
     "text": [
      "Suma:12\n",
      "Resta: -4\n",
      "Multiplicacion:32\n",
      "Division:0.5\n"
     ]
    }
   ],
   "source": [
    "print(f\"Suma:{suma_}\\nResta: {resta_}\\nMultiplicacion:{multiplicacion_}\\nDivision:{division_}\")"
   ]
  },
  {
   "cell_type": "code",
   "execution_count": 43,
   "id": "637a7b92",
   "metadata": {},
   "outputs": [
    {
     "name": "stdout",
     "output_type": "stream",
     "text": [
      "Dentro de la funcion: Sesion 8\n",
      "Desde la funcion accedo a la global: Python\n"
     ]
    }
   ],
   "source": [
    "nombre_global = \"Python\"\n",
    "def mi_funcion():\n",
    "    nombre_local = \"Sesion 8\"\n",
    "    print(f\"Dentro de la funcion: {nombre_local}\")\n",
    "    print(f\"Desde la funcion accedo a la global: {nombre_global}\")\n",
    "mi_funcion()\n",
    "    "
   ]
  },
  {
   "cell_type": "code",
   "execution_count": 44,
   "id": "33179dd8",
   "metadata": {},
   "outputs": [
    {
     "name": "stdout",
     "output_type": "stream",
     "text": [
      "Desde la funcion accedo a la global: Python\n"
     ]
    }
   ],
   "source": [
    "def otra_funcion():\n",
    "    # print(f\"Dentro de la funcion: {nombre_local}\")\n",
    "    print(f\"Desde la funcion accedo a la global: {nombre_global}\")\n",
    "otra_funcion()\n",
    "    "
   ]
  },
  {
   "cell_type": "code",
   "execution_count": 45,
   "id": "fd16b445",
   "metadata": {},
   "outputs": [
    {
     "name": "stdout",
     "output_type": "stream",
     "text": [
      "Dentro de la funcion x es: 20\n",
      "Fuera de la funcion, el valor de x: 20\n"
     ]
    }
   ],
   "source": [
    "x = 10\n",
    "def modificar_x():\n",
    "    global x\n",
    "    x = 20\n",
    "    print(f\"Dentro de la funcion x es: {x}\")\n",
    "modificar_x()\n",
    "print(f\"Fuera de la funcion, el valor de x: {x}\")"
   ]
  },
  {
   "cell_type": "markdown",
   "id": "81ee3a98",
   "metadata": {},
   "source": [
    "### Ejercicio 1"
   ]
  },
  {
   "cell_type": "code",
   "execution_count": 46,
   "id": "22962450",
   "metadata": {},
   "outputs": [],
   "source": [
    "def sumar(a,b):\n",
    "    return a+b\n",
    "def restar(a,b):\n",
    "    return a-b\n",
    "def multiplicar(a,b):\n",
    "    return a*b\n",
    "def dividir(a,b):\n",
    "    if b==0:return f\"El valor de b, debe ser diferente a 0\"\n",
    "    return a/b\n"
   ]
  },
  {
   "cell_type": "code",
   "execution_count": 47,
   "id": "68b49683",
   "metadata": {},
   "outputs": [
    {
     "data": {
      "text/plain": [
       "4"
      ]
     },
     "execution_count": 47,
     "metadata": {},
     "output_type": "execute_result"
    }
   ],
   "source": [
    "b = 0\n",
    "sumar(a,b)"
   ]
  },
  {
   "cell_type": "code",
   "execution_count": 48,
   "id": "3d763359",
   "metadata": {},
   "outputs": [
    {
     "data": {
      "text/plain": [
       "4"
      ]
     },
     "execution_count": 48,
     "metadata": {},
     "output_type": "execute_result"
    }
   ],
   "source": [
    "restar(a,b)"
   ]
  },
  {
   "cell_type": "code",
   "execution_count": 49,
   "id": "0d144ae1",
   "metadata": {},
   "outputs": [
    {
     "data": {
      "text/plain": [
       "'El valor de b, debe ser diferente a 0'"
      ]
     },
     "execution_count": 49,
     "metadata": {},
     "output_type": "execute_result"
    }
   ],
   "source": [
    "dividir(a,b)"
   ]
  },
  {
   "cell_type": "markdown",
   "id": "ee8a3278",
   "metadata": {},
   "source": [
    "### Ejercicio 2"
   ]
  },
  {
   "cell_type": "code",
   "execution_count": 50,
   "id": "ddecb94a",
   "metadata": {},
   "outputs": [],
   "source": [
    "# Validar datos\n",
    "\n",
    "def validar_email(email):\n",
    "    if \"@\" in email and \".\" in email:\n",
    "        return True\n",
    "    return False\n"
   ]
  },
  {
   "cell_type": "code",
   "execution_count": 51,
   "id": "963f0776",
   "metadata": {},
   "outputs": [
    {
     "data": {
      "text/plain": [
       "True"
      ]
     },
     "execution_count": 51,
     "metadata": {},
     "output_type": "execute_result"
    }
   ],
   "source": [
    "email = \"ejemplo@.com\"\n",
    "validar_email(email)"
   ]
  },
  {
   "cell_type": "markdown",
   "id": "c40eb0fa",
   "metadata": {},
   "source": [
    "### Ejercicio 3"
   ]
  },
  {
   "cell_type": "code",
   "execution_count": 52,
   "id": "63b374a7",
   "metadata": {},
   "outputs": [],
   "source": [
    "# Generador de reportes\n",
    "def generar_reporte(productos):\n",
    "    total_ventas = 0\n",
    "    print(\" Reporte de ventas \".center(50,\"#\"))\n",
    "    for producto,precio in productos.items():\n",
    "        print(f\"Producto: {producto}| Precio: {precio}\")\n",
    "        total_ventas+=precio\n",
    "    print(\"-\"*50)\n",
    "    print(f\"Total de ventas: {total_ventas}\")\n",
    "    return total_ventas"
   ]
  },
  {
   "cell_type": "code",
   "execution_count": 53,
   "id": "498ea56d",
   "metadata": {},
   "outputs": [
    {
     "name": "stdout",
     "output_type": "stream",
     "text": [
      "############### Reporte de ventas ################\n",
      "Producto: Laptop| Precio: 1200\n",
      "Producto: Mouse| Precio: 50\n",
      "Producto: Teclado| Precio: 100\n",
      "Producto: Monitor| Precio: 500\n",
      "--------------------------------------------------\n",
      "Total de ventas: 1850\n",
      "EL valor total de las ventas del dia fue:1850\n"
     ]
    }
   ],
   "source": [
    "ventas_diarias = {\n",
    "    \"Laptop\":1200,\n",
    "    \"Mouse\":50,\n",
    "    \"Teclado\":100,\n",
    "    \"Monitor\":500\n",
    "}\n",
    "total_ventas = generar_reporte(ventas_diarias)\n",
    "print(f\"EL valor total de las ventas del dia fue:{total_ventas}\")"
   ]
  },
  {
   "cell_type": "code",
   "execution_count": null,
   "id": "68bb2d37",
   "metadata": {},
   "outputs": [],
   "source": []
  }
 ],
 "metadata": {
  "kernelspec": {
   "display_name": "Python 3",
   "language": "python",
   "name": "python3"
  },
  "language_info": {
   "codemirror_mode": {
    "name": "ipython",
    "version": 3
   },
   "file_extension": ".py",
   "mimetype": "text/x-python",
   "name": "python",
   "nbconvert_exporter": "python",
   "pygments_lexer": "ipython3",
   "version": "3.12.8"
  }
 },
 "nbformat": 4,
 "nbformat_minor": 5
}
