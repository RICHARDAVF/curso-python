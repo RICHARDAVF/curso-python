{
 "cells": [
  {
   "cell_type": "markdown",
   "id": "49964fcc",
   "metadata": {},
   "source": [
    "# Patron Singleton"
   ]
  },
  {
   "cell_type": "code",
   "execution_count": 133,
   "id": "3caad590",
   "metadata": {},
   "outputs": [
    {
     "name": "stdout",
     "output_type": "stream",
     "text": [
      "INFO: Creando la unica instancia de global config\n",
      "INFO: Cargando configuracion desde 'config.json'\n",
      "INFO: Configuracion cargada\n",
      " Verificado que ambas variables apunten a la misma instancia\n",
      "ID: de config1 : 2369256305008\n",
      "ID: de config2 : 2369256305008\n",
      "¿SOn la misma instalcia ? True\n",
      "Accediendo a la configuracion desde diferentes puntos del codigo\n",
      "URL de la base de datos (accedido desde config1 ) es sqlite://db.sqlite\n",
      "Clade de API (accedido desde config2) es abc123xyz\n"
     ]
    }
   ],
   "source": [
    "# Ejemplo\n",
    "class GlobalConfig:\n",
    "    \"\"\"\n",
    "        Classe singleton para gestionar la configuracion global de la aplicacion\n",
    "    \"\"\"\n",
    "    _instance = None\n",
    "    _config_data = {}\n",
    "    def __new__(cls)->None:\n",
    "        if cls._instance is None:\n",
    "            cls._instance = super(GlobalConfig,cls).__new__(cls)\n",
    "            print(\"INFO: Creando la unica instancia de global config\")\n",
    "        return cls._instance\n",
    "    def load_config(self,filepath:str)->None:\n",
    "        \"\"\"\n",
    "            Carga la configuracion desde un archivo\n",
    "        \"\"\"\n",
    "        print(f\"INFO: Cargando configuracion desde '{filepath}'\")\n",
    "        self._config_data = {\n",
    "            \"database\":\"sqlite://db.sqlite\",\n",
    "            \"api_key\":\"abc123xyz\",\n",
    "            \"max_connection\":10\n",
    "        }\n",
    "        print(f\"INFO: Configuracion cargada\")     \n",
    "    def get_setting(self,key:str)->None:\n",
    "        \"\"\"\n",
    "            Obtiene el valor de la configuracion\n",
    "        \"\"\"  \n",
    "        return self._config_data.get(key)\n",
    "    def set_setting(self,key:str,value:str):\n",
    "        \"\"\"\n",
    "            Establece un valor de configuracion\n",
    "        \"\"\"\n",
    "        self._config_data[key] = value\n",
    "        print(f\"INFO: Valor {key} actualizado a {value}\")\n",
    "if __name__ == \"__main__\":\n",
    "    config1 = GlobalConfig()\n",
    "    config1.load_config(\"config.json\")\n",
    "    \n",
    "    config2 = GlobalConfig()\n",
    "    \n",
    "    print(f\" Verificado que ambas variables apunten a la misma instancia\")\n",
    "    print(f\"ID: de config1 : {id(config1)}\")\n",
    "    print(f\"ID: de config2 : {id(config2)}\")\n",
    "    \n",
    "    print(f\"¿SOn la misma instalcia ? {config1 is config2}\")\n",
    "    \n",
    "    print(\"Accediendo a la configuracion desde diferentes puntos del codigo\")\n",
    "    \n",
    "    db_url = config1.get_setting(\"database\")\n",
    "    print(f\"URL de la base de datos (accedido desde config1 ) es {db_url}\")\n",
    "    api_key = config2.get_setting(\"api_key\")\n",
    "    print(f\"Clade de API (accedido desde config2) es {api_key}\")\n",
    "    \n",
    "    \n",
    "    "
   ]
  },
  {
   "cell_type": "markdown",
   "id": "e11a2d83",
   "metadata": {},
   "source": [
    "# Factory Method"
   ]
  },
  {
   "cell_type": "code",
   "execution_count": 134,
   "id": "11e3931d",
   "metadata": {},
   "outputs": [],
   "source": [
    "from abc import ABC, abstractmethod\n",
    "class Notification(ABC):\n",
    "    \"\"\"\n",
    "        Interfaz abstracta para los objetos de notificacion\n",
    "    \"\"\"\n",
    "    @abstractmethod\n",
    "    def send(self,message:str):\n",
    "        pass\n",
    "class EmailNotification(Notification):\n",
    "    \"\"\"\n",
    "        Notifica via email\n",
    "    \"\"\"\n",
    "    def send(self,message:str)->None:\n",
    "        print(f\"INFO: Enviando correo con el mensaje : {message}\")\n",
    "class SMSNotification(Notification):\n",
    "    \"\"\"\n",
    "        Notifica via email\n",
    "    \"\"\"\n",
    "    def send(self,message:str)->None:\n",
    "        print(f\"INFO: Enviando SMS con el mensaje : {message}\")\n",
    "class WhatsAppNotification(Notification):\n",
    "    \"\"\"\n",
    "        Notifica via email\n",
    "    \"\"\"\n",
    "    def send(self,message:str)->None:\n",
    "        print(f\"INFO: Enviando wp con el mensaje : {message}\")\n",
    "        \n",
    "\n",
    "class Factory:\n",
    "    \"\"\"\n",
    "        Clase que devuelve una instancia de la clase notificacion\n",
    "    \"\"\"\n",
    "    def create_notification(self,int_type:str)->Notification:\n",
    "        if int_type == \"email\":\n",
    "            return EmailNotification()\n",
    "        elif int_type==\"sms\":\n",
    "            return SMSNotification()\n",
    "        elif int_type==\"wp\":\n",
    "            return WhatsAppNotification()\n",
    "        else:\n",
    "            raise ValueError(\"Tipo de notificacion no soportado\")"
   ]
  },
  {
   "cell_type": "code",
   "execution_count": 135,
   "id": "b47fdcf4",
   "metadata": {},
   "outputs": [],
   "source": [
    "factory = Factory()\n"
   ]
  },
  {
   "cell_type": "code",
   "execution_count": 136,
   "id": "f58bdcd1",
   "metadata": {},
   "outputs": [
    {
     "name": "stdout",
     "output_type": "stream",
     "text": [
      "INFO: Enviando correo con el mensaje : Este es un correo de prueba\n"
     ]
    }
   ],
   "source": [
    "email_notification = factory.create_notification(\"email\")\n",
    "email_notification.send(message=\"Este es un correo de prueba\")"
   ]
  },
  {
   "cell_type": "code",
   "execution_count": 137,
   "id": "544de637",
   "metadata": {},
   "outputs": [
    {
     "name": "stdout",
     "output_type": "stream",
     "text": [
      "INFO: Enviando SMS con el mensaje : Este es un sms de prueba\n"
     ]
    }
   ],
   "source": [
    "sms_notification = factory.create_notification(\"sms\")\n",
    "sms_notification.send(message=\"Este es un sms de prueba\")"
   ]
  },
  {
   "cell_type": "code",
   "execution_count": 138,
   "id": "66b612dd",
   "metadata": {},
   "outputs": [
    {
     "name": "stdout",
     "output_type": "stream",
     "text": [
      "INFO: Enviando wp con el mensaje : Es un wp de prueba\n"
     ]
    }
   ],
   "source": [
    "otro_notification = factory.create_notification(\"wp\")\n",
    "otro_notification.send(message=\"Es un wp de prueba\")"
   ]
  },
  {
   "cell_type": "markdown",
   "id": "20006bb9",
   "metadata": {},
   "source": [
    "# Patron Observer"
   ]
  },
  {
   "cell_type": "code",
   "execution_count": 139,
   "id": "7740df4f",
   "metadata": {},
   "outputs": [],
   "source": [
    "from abc import ABC, abstractmethod\n",
    "class Observer(ABC):\n",
    "    \"\"\"Interfaz abstracta\"\"\"\n",
    "    @abstractmethod\n",
    "    def update(self,subject):\n",
    "        pass\n",
    "class Subject:\n",
    "    def __init__(self):\n",
    "        \"\"\"\n",
    "        Clase que mantiene la lista de observadores y notifica los cambios\n",
    "        \"\"\"\n",
    "        self._observer = []\n",
    "        self._state = None\n",
    "    def attach(self,observer):\n",
    "        \"\"\"Añade un obervador a la lista\"\"\"\n",
    "        if observer not in self._observer:\n",
    "            self._observer.append(observer)\n",
    "            print(f\"INFO: Obervador {observer.__class__.__name__} añadido\")\n",
    "    def detach(self,observer):\n",
    "        \"\"\"Notifica la eliminacion de un observer\"\"\"\n",
    "        try:\n",
    "            self._observer.remove(observer)\n",
    "        except ValueError:\n",
    "            pass\n",
    "    def notify(self):\n",
    "        \"\"\"Notifica a todos los obersevadores un cambio\"\"\"\n",
    "        print(f\"INFO: Notificamos a todos los obervadores\")\n",
    "        for observer in self._observer:\n",
    "            observer.update(self)\n",
    "    def set_state(self,new_state):\n",
    "        \"\"\"Cambia el estado del sujeto y notifica a los observadores\"\"\"\n",
    "        self._state = new_state\n",
    "        self.notify()\n",
    "    def get_state(self):\n",
    "        \"\"\"Obtiene el estado actual\"\"\"\n",
    "        return self._state"
   ]
  },
  {
   "cell_type": "code",
   "execution_count": 140,
   "id": "8fd5fc12",
   "metadata": {},
   "outputs": [],
   "source": [
    "class EmailNotification(Observer):\n",
    "    \"\"\"\n",
    "        Notifica via email\n",
    "    \"\"\"\n",
    "    def update(self,subject)->None:\n",
    "        print(f\"EMAIL: ALerta! EL estado ha cambiado a : {subject.get_state()}\")\n",
    "class SMSNotification(Observer):\n",
    "    \"\"\"\n",
    "        Notifica via email\n",
    "    \"\"\"\n",
    "    def update(self,subject)->None:\n",
    "        print(f\"SMS: ALerta! EL estado ha cambiado a : {subject.get_state()}\")\n",
    "class WhatsAppNotification(Observer):\n",
    "    \"\"\"\n",
    "        Notifica via email\n",
    "    \"\"\"\n",
    "    def update(self,subject)->None:\n",
    "        print(f\"WHATSAPP: ALerta! EL estado ha cambiado a : {subject.get_state()}\")\n",
    "class LogNotification(Observer):\n",
    "    \"\"\"\n",
    "        Notifica via email\n",
    "    \"\"\"\n",
    "    def update(self,subject)->None:\n",
    "        print(f\"LOG: ALerta! EL estado ha cambiado a : {subject.get_state()}\")"
   ]
  },
  {
   "cell_type": "code",
   "execution_count": 141,
   "id": "86008004",
   "metadata": {},
   "outputs": [],
   "source": [
    "manage = Subject()\n",
    "sms_notifier = SMSNotification()\n",
    "email_notifier = EmailNotification()\n",
    "log_notifier = LogNotification()\n"
   ]
  },
  {
   "cell_type": "code",
   "execution_count": 142,
   "id": "0cb262fc",
   "metadata": {},
   "outputs": [
    {
     "name": "stdout",
     "output_type": "stream",
     "text": [
      "INFO: Obervador SMSNotification añadido\n",
      "INFO: Obervador EmailNotification añadido\n",
      "INFO: Obervador LogNotification añadido\n"
     ]
    }
   ],
   "source": [
    "manage.attach(sms_notifier)\n",
    "manage.attach(email_notifier)\n",
    "manage.attach(log_notifier)\n"
   ]
  },
  {
   "cell_type": "code",
   "execution_count": 143,
   "id": "7bef6987",
   "metadata": {},
   "outputs": [
    {
     "name": "stdout",
     "output_type": "stream",
     "text": [
      "INFO: Notificamos a todos los obervadores\n",
      "SMS: ALerta! EL estado ha cambiado a : ERROR_CRITICO\n",
      "EMAIL: ALerta! EL estado ha cambiado a : ERROR_CRITICO\n",
      "LOG: ALerta! EL estado ha cambiado a : ERROR_CRITICO\n"
     ]
    }
   ],
   "source": [
    "manage.set_state(\"ERROR_CRITICO\")\n"
   ]
  },
  {
   "cell_type": "code",
   "execution_count": 144,
   "id": "178d6f91",
   "metadata": {},
   "outputs": [],
   "source": [
    "manage.detach(email_notifier)"
   ]
  },
  {
   "cell_type": "code",
   "execution_count": 145,
   "id": "2e1928e7",
   "metadata": {},
   "outputs": [
    {
     "name": "stdout",
     "output_type": "stream",
     "text": [
      "INFO: Notificamos a todos los obervadores\n",
      "SMS: ALerta! EL estado ha cambiado a : PROCESO_FINALIZADO\n",
      "LOG: ALerta! EL estado ha cambiado a : PROCESO_FINALIZADO\n"
     ]
    }
   ],
   "source": [
    "manage.set_state(\"PROCESO_FINALIZADO\")"
   ]
  }
 ],
 "metadata": {
  "kernelspec": {
   "display_name": "Python 3",
   "language": "python",
   "name": "python3"
  },
  "language_info": {
   "codemirror_mode": {
    "name": "ipython",
    "version": 3
   },
   "file_extension": ".py",
   "mimetype": "text/x-python",
   "name": "python",
   "nbconvert_exporter": "python",
   "pygments_lexer": "ipython3",
   "version": "3.12.8"
  }
 },
 "nbformat": 4,
 "nbformat_minor": 5
}
