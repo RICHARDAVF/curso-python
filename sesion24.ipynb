{
 "cells": [
  {
   "cell_type": "code",
   "execution_count": null,
   "id": "1992a7a0",
   "metadata": {},
   "outputs": [
    {
     "name": "stdout",
     "output_type": "stream",
     "text": [
      "Proceso principal iniciado: MainProcess\n"
     ]
    }
   ],
   "source": [
    "import  multiprocessing\n",
    "import time\n",
    "\n",
    "def worker_process():\n",
    "    print(\"hola mundo\")\n",
    "    print(f\"Proceso hijo iniciado: {multiprocessing.current_process().name}\")\n",
    "    time.sleep(2)\n",
    "    print(f\"Proceso hijo finalizado: {multiprocessing.current_process().name}\")\n",
    "    \n",
    "    \n",
    "if __name__ ==\"__main__\":\n",
    "    print(f\"Proceso principal iniciado: {multiprocessing.current_process().name}\")\n",
    "    w1 = multiprocessing.Process(target=worker_process,name=\"Proceso 1\")\n",
    "    w2 = multiprocessing.Process(target=worker_process,name=\"Proceso 2\")\n",
    "    w1.start()\n",
    "    w2.start()\n",
    "\n",
    "    w1.join()\n",
    "    w2.join()\n",
    "# worker_process()"
   ]
  }
 ],
 "metadata": {
  "kernelspec": {
   "display_name": "Python 3",
   "language": "python",
   "name": "python3"
  },
  "language_info": {
   "codemirror_mode": {
    "name": "ipython",
    "version": 3
   },
   "file_extension": ".py",
   "mimetype": "text/x-python",
   "name": "python",
   "nbconvert_exporter": "python",
   "pygments_lexer": "ipython3",
   "version": "3.12.8"
  }
 },
 "nbformat": 4,
 "nbformat_minor": 5
}
