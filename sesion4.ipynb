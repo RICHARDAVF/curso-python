{
 "cells": [
  {
   "cell_type": "markdown",
   "id": "df3f8574",
   "metadata": {},
   "source": [
    "# Listas y Manipulacion de Basica"
   ]
  },
  {
   "cell_type": "markdown",
   "id": "15a7df35",
   "metadata": {},
   "source": [
    "### Creación de una lista\n",
    "Una lista se define entre corchetes `[]` y sus elementos se separan por comas `,`. El acceso a los elementos se realiza mediante el indice, que comienza en `0`"
   ]
  },
  {
   "cell_type": "code",
   "execution_count": 37,
   "id": "cc48d050",
   "metadata": {},
   "outputs": [
    {
     "name": "stdout",
     "output_type": "stream",
     "text": [
      "La primera fruta es: manzana\n",
      "El tercer numero es: 3\n",
      "El ultimo elemento mixto es: True\n"
     ]
    }
   ],
   "source": [
    "# Creacion de listas\n",
    "frutas = [\"manzana\", \"banana\", \"cereza\", \"durazno\"] # Lista de frutas\n",
    "numeros = [1, 2, 3, 4, 5]               # Lista de numeros\n",
    "mixta = [\"texto\", 42, 3.14, True]       # Lista mixta\n",
    "\n",
    "# Acceso a elementos\n",
    "print(f\"La primera fruta es: {frutas[0]}\")  # Accede al primer elemento: manzana\n",
    "print(f\"El tercer numero es: {numeros[2]}\") # Accede al tercer elemento: 3\n",
    "print(f\"El ultimo elemento mixto es: {mixta[-1]}\") # Accede al ultimo elemento: True"
   ]
  },
  {
   "cell_type": "markdown",
   "id": "73b336d3",
   "metadata": {},
   "source": [
    "### Metodos basicos de listas\n",
    "- `append`: Añade un elemento al final de la lista.\n",
    "- `remove`: Elimina la primera ocurrencia de un valor.\n",
    "- `pop`: Elimina y devuelve el elemento con un indice especifico. Si no se especifica, elimina el ultimo\n",
    "- `insert`: Inserta un elemento en un indice dado"
   ]
  },
  {
   "cell_type": "code",
   "execution_count": 38,
   "id": "e2a65244",
   "metadata": {},
   "outputs": [
    {
     "data": {
      "text/plain": [
       "['manzana', 'banana', 'cereza', 'durazno', 'uva']"
      ]
     },
     "execution_count": 38,
     "metadata": {},
     "output_type": "execute_result"
    }
   ],
   "source": [
    "# uso de append\n",
    "frutas.append(\"uva\")\n",
    "frutas"
   ]
  },
  {
   "cell_type": "code",
   "execution_count": 39,
   "id": "bb6f5526",
   "metadata": {},
   "outputs": [
    {
     "data": {
      "text/plain": [
       "['manzana', 'cereza', 'durazno', 'uva']"
      ]
     },
     "execution_count": 39,
     "metadata": {},
     "output_type": "execute_result"
    }
   ],
   "source": [
    "# uso de remove\n",
    "frutas.remove(\"banana\")\n",
    "frutas"
   ]
  },
  {
   "cell_type": "code",
   "execution_count": 40,
   "id": "dba34d2f",
   "metadata": {},
   "outputs": [
    {
     "name": "stdout",
     "output_type": "stream",
     "text": [
      "Elemento eliminado: cereza\n"
     ]
    },
    {
     "data": {
      "text/plain": [
       "['manzana', 'durazno', 'uva']"
      ]
     },
     "execution_count": 40,
     "metadata": {},
     "output_type": "execute_result"
    }
   ],
   "source": [
    "# uso de pop\n",
    "elemento_eliminado = frutas.pop(1)\n",
    "print(f\"Elemento eliminado: {elemento_eliminado}\")\n",
    "frutas"
   ]
  },
  {
   "cell_type": "code",
   "execution_count": 41,
   "id": "13a39617",
   "metadata": {},
   "outputs": [
    {
     "data": {
      "text/plain": [
       "['manzana', 'kiwi', 'durazno', 'uva']"
      ]
     },
     "execution_count": 41,
     "metadata": {},
     "output_type": "execute_result"
    }
   ],
   "source": [
    "# uso de insert\n",
    "frutas.insert(1,\"kiwi\")\n",
    "frutas"
   ]
  },
  {
   "cell_type": "markdown",
   "id": "8bf3c2df",
   "metadata": {},
   "source": [
    "### Slicing\n",
    "El slicing permite obtener sublistas. La sitaxis es `[inicio:fin:paso]`. El fin no se incluye"
   ]
  },
  {
   "cell_type": "code",
   "execution_count": 42,
   "id": "7d3fde08",
   "metadata": {},
   "outputs": [],
   "source": [
    "vocales = [\"a\", \"e\", \"i\", \"o\", \"u\"]"
   ]
  },
  {
   "cell_type": "code",
   "execution_count": 43,
   "id": "c64aceb6",
   "metadata": {},
   "outputs": [
    {
     "name": "stdout",
     "output_type": "stream",
     "text": [
      "Sublista de vocales: ['e', 'i', 'o']\n"
     ]
    }
   ],
   "source": [
    "\n",
    "# Slicing basico\n",
    "sub_vocales = vocales[1:4]  # Obtiene [\"e\", \"i\", \"o\"] \n",
    "print(f\"Sublista de vocales: {sub_vocales}\")"
   ]
  },
  {
   "cell_type": "code",
   "execution_count": 44,
   "id": "87ff1622",
   "metadata": {},
   "outputs": [
    {
     "name": "stdout",
     "output_type": "stream",
     "text": [
      "Sublista desde el inicio: ['a', 'e', 'i']\n"
     ]
    }
   ],
   "source": [
    "# Desde el inicio hasta un indice\n",
    "sub_vocales_inicio = vocales[:3]  # Obtiene [\"a\", \"e\", \"i\"]\n",
    "print(f\"Sublista desde el inicio: {sub_vocales_inicio}\")"
   ]
  },
  {
   "cell_type": "code",
   "execution_count": 45,
   "id": "dbf929e6",
   "metadata": {},
   "outputs": [
    {
     "name": "stdout",
     "output_type": "stream",
     "text": [
      "Sublista hasta el final: ['i', 'o', 'u']\n"
     ]
    }
   ],
   "source": [
    "# Desde un indice hasta el final\n",
    "sub_vocales_fin = vocales[2:]\n",
    "print(f\"Sublista hasta el final: {sub_vocales_fin}\")  # Obtiene [\"i\", \"o\", \"u\"]"
   ]
  },
  {
   "cell_type": "code",
   "execution_count": 46,
   "id": "b44a2cdf",
   "metadata": {},
   "outputs": [
    {
     "name": "stdout",
     "output_type": "stream",
     "text": [
      "Copia de la lista de vocales: ['a', 'e', 'i', 'o', 'u']\n"
     ]
    }
   ],
   "source": [
    "copia_vocales = vocales[:]\n",
    "print(f\"Copia de la lista de vocales: {copia_vocales}\")"
   ]
  },
  {
   "cell_type": "code",
   "execution_count": 47,
   "id": "f15c787c",
   "metadata": {},
   "outputs": [
    {
     "name": "stdout",
     "output_type": "stream",
     "text": [
      "Vocales en orden inverso: ['u', 'o', 'i', 'e', 'a']\n"
     ]
    }
   ],
   "source": [
    "# Con paso\n",
    "vocales_inversa = vocales[::-1]  # Invierte la lista\n",
    "print(f\"Vocales en orden inverso: {vocales_inversa}\")"
   ]
  },
  {
   "cell_type": "markdown",
   "id": "3e99df11",
   "metadata": {},
   "source": [
    "### Iteracion sobre listas"
   ]
  },
  {
   "cell_type": "code",
   "execution_count": 48,
   "id": "ebcce9c7",
   "metadata": {},
   "outputs": [
    {
     "name": "stdout",
     "output_type": "stream",
     "text": [
      "Iterando sobre la lista de libros:\n",
      "- Cien años de soledad\n",
      "- 1984\n",
      "- El principito\n",
      "- Orgullo y prejuicio\n"
     ]
    }
   ],
   "source": [
    "libros = [\"Cien años de soledad\", \"1984\", \"El principito\", \"Orgullo y prejuicio\"]\n",
    "print(\"Iterando sobre la lista de libros:\")\n",
    "for libro in libros:\n",
    "    print(f\"- {libro}\") "
   ]
  },
  {
   "cell_type": "code",
   "execution_count": 49,
   "id": "345f97ed",
   "metadata": {},
   "outputs": [
    {
     "name": "stdout",
     "output_type": "stream",
     "text": [
      "Iterando con indice:\n",
      "1. Cien años de soledad\n",
      "2. 1984\n",
      "3. El principito\n",
      "4. Orgullo y prejuicio\n"
     ]
    }
   ],
   "source": [
    "# Iterar sobre una lista con indice\n",
    "print(\"Iterando con indice:\")\n",
    "for indice,libro in enumerate(libros):\n",
    "    print(f\"{indice + 1}. {libro}\")  # Imprime el indice (1-based) y el libro"
   ]
  },
  {
   "cell_type": "markdown",
   "id": "5c5b79cf",
   "metadata": {},
   "source": [
    "### Ejercicios"
   ]
  },
  {
   "cell_type": "code",
   "execution_count": 50,
   "id": "cd1f8c9d",
   "metadata": {},
   "outputs": [
    {
     "name": "stdout",
     "output_type": "stream",
     "text": [
      "\n",
      "--- Lista de Compras ---\n",
      "1. Añadir producto\n",
      "2. Ver productos\n",
      "3. Eliminar producto\n",
      "4. Salir\n"
     ]
    },
    {
     "name": "stdout",
     "output_type": "stream",
     "text": [
      "Opción no válida. Por favor, selecciona una opción del menú.\n",
      "\n",
      "--- Lista de Compras ---\n",
      "1. Añadir producto\n",
      "2. Ver productos\n",
      "3. Eliminar producto\n",
      "4. Salir\n",
      "Opción no válida. Por favor, selecciona una opción del menú.\n",
      "\n",
      "--- Lista de Compras ---\n",
      "1. Añadir producto\n",
      "2. Ver productos\n",
      "3. Eliminar producto\n",
      "4. Salir\n",
      "Opción no válida. Por favor, selecciona una opción del menú.\n",
      "\n",
      "--- Lista de Compras ---\n",
      "1. Añadir producto\n",
      "2. Ver productos\n",
      "3. Eliminar producto\n",
      "4. Salir\n",
      "Opción no válida. Por favor, selecciona una opción del menú.\n",
      "\n",
      "--- Lista de Compras ---\n",
      "1. Añadir producto\n",
      "2. Ver productos\n",
      "3. Eliminar producto\n",
      "4. Salir\n",
      "Opción no válida. Por favor, selecciona una opción del menú.\n",
      "\n",
      "--- Lista de Compras ---\n",
      "1. Añadir producto\n",
      "2. Ver productos\n",
      "3. Eliminar producto\n",
      "4. Salir\n",
      "Saliendo del programa.\n"
     ]
    }
   ],
   "source": [
    "# Ejercicio 1. Lista de compras interactiva: \n",
    "# Crea un programa que permita al usuario añadir, ver y eliminar productos de una lista de compras.\n",
    "lista_de_compras = []\n",
    "\n",
    "while True:\n",
    "    print(\"\\n--- Lista de Compras ---\")\n",
    "    print(\"1. Añadir producto\")\n",
    "    print(\"2. Ver productos\")\n",
    "    print(\"3. Eliminar producto\")\n",
    "    print(\"4. Salir\")\n",
    "    opcion = input(\"Selecciona una opción: \")\n",
    "    if opcion==\"1\":\n",
    "        producto = input(\"Introduce el nombre del producto: \")\n",
    "        lista_de_compras.append(producto)\n",
    "        print(f\"Producto '{producto}' añadido a la lista.\")\n",
    "    elif opcion==\"2\":\n",
    "        if not lista_de_compras:\n",
    "            print(\"La lista de compras está vacía.\")\n",
    "        else:\n",
    "            print(\"Productos en la lista de compras:\")\n",
    "            for i,producto in enumerate(lista_de_compras):\n",
    "                print(f\"{i+1}. {producto}\")\n",
    "    elif opcion==\"3\":\n",
    "        print(\"Productos en la lista de compras:\")\n",
    "        for i,producto in enumerate(lista_de_compras):\n",
    "            print(f\"{i+1}. {producto}\")\n",
    "        indice_eliminar = int(input(\"Introduce el número del producto a eliminar: \")) - 1\n",
    "        if 0<= indice_eliminar < len(lista_de_compras):\n",
    "            producto_eliminado = lista_de_compras.pop(indice_eliminar)\n",
    "            print(f\"Producto '{producto_eliminado}' eliminado de la lista.\")\n",
    "        else:\n",
    "            print(\"Índice no válido.\")\n",
    "    elif opcion==\"4\":\n",
    "        print(\"Saliendo del programa.\")\n",
    "        break\n",
    "    else:\n",
    "        print(\"Opción no válida. Por favor, selecciona una opción del menú.\")"
   ]
  },
  {
   "cell_type": "code",
   "execution_count": 60,
   "id": "d04a7f69",
   "metadata": {},
   "outputs": [
    {
     "name": "stdout",
     "output_type": "stream",
     "text": [
      "Números ordenados: [1, 2, 5, 5, 6, 9]\n"
     ]
    }
   ],
   "source": [
    "# Ejercicio 2: Ordenamiento manual de numeros\n",
    "# Ordena una lista de numeros de menor a mayor sin usar la funcion sort()\n",
    "numeros_desordenados = [5, 2, 9, 1, 5, 6]\n",
    "n = len(numeros_desordenados)\n",
    "# Algoritmo de ordenamiento burbuja\n",
    "for i in range(n):\n",
    "    for j in range(0,n-i-1):\n",
    "        if numeros_desordenados[j]>numeros_desordenados[j+1]:\n",
    "            # Intercambiar los elementos\n",
    "            numeros_desordenados[j],numeros_desordenados[j+1]=numeros_desordenados[j+1],numeros_desordenados[j] \n",
    "print(f\"Números ordenados: {numeros_desordenados}\")\n",
    "             "
   ]
  },
  {
   "cell_type": "code",
   "execution_count": 61,
   "id": "96d2ce4d",
   "metadata": {},
   "outputs": [
    {
     "name": "stdout",
     "output_type": "stream",
     "text": [
      "Lista original: [1, 2, 2, 3, 4, 4, 5]\n",
      "Lista sin duplicados: [1, 2, 3, 4, 5]\n"
     ]
    }
   ],
   "source": [
    "# Ejercicio 3: Eliminar duplicados\n",
    "# Elimina los elementos duplicados de una lista sin usar set()\n",
    "lista_con_duplicados = [1, 2, 2, 3, 4, 4, 5]\n",
    "lista_sin_duplicados = []\n",
    "\n",
    "for elemento in lista_con_duplicados:\n",
    "    if elemento not in lista_sin_duplicados:\n",
    "        lista_sin_duplicados.append(elemento)\n",
    "print(f\"Lista original: {lista_con_duplicados}\")\n",
    "print(f\"Lista sin duplicados: {lista_sin_duplicados}\")\n"
   ]
  }
 ],
 "metadata": {
  "kernelspec": {
   "display_name": "Python 3",
   "language": "python",
   "name": "python3"
  },
  "language_info": {
   "codemirror_mode": {
    "name": "ipython",
    "version": 3
   },
   "file_extension": ".py",
   "mimetype": "text/x-python",
   "name": "python",
   "nbconvert_exporter": "python",
   "pygments_lexer": "ipython3",
   "version": "3.12.8"
  }
 },
 "nbformat": 4,
 "nbformat_minor": 5
}
