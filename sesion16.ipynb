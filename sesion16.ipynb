{
 "cells": [
  {
   "cell_type": "markdown",
   "id": "cfafa28c",
   "metadata": {},
   "source": [
    "# Algoritmos de ordenamiento"
   ]
  },
  {
   "cell_type": "markdown",
   "id": "3b30be4a",
   "metadata": {},
   "source": [
    "### Bubble sort"
   ]
  },
  {
   "cell_type": "code",
   "execution_count": 83,
   "id": "46ab50e9",
   "metadata": {},
   "outputs": [
    {
     "name": "stdout",
     "output_type": "stream",
     "text": [
      "Lista original [64, 56, 12, 80, 23, 59, 100, 250, 5, 8, 19]\n"
     ]
    }
   ],
   "source": [
    "def bubble_sort(arr):\n",
    "    n = len(arr)\n",
    "    for i in range(n):\n",
    "        bad = False\n",
    "        for j in range(0,n-i-1):\n",
    "            if arr[j]>arr[j+1]:\n",
    "                arr[j],arr[j+1]=arr[j+1],arr[j]\n",
    "                bad=True\n",
    "        if not bad:\n",
    "            break\n",
    "    return arr\n",
    "mi_lista = [64,56,12,80,23,59,100,250,5,8,19]\n",
    "print(f\"Lista original\",mi_lista)"
   ]
  },
  {
   "cell_type": "code",
   "execution_count": 84,
   "id": "75e9804c",
   "metadata": {},
   "outputs": [
    {
     "name": "stdout",
     "output_type": "stream",
     "text": [
      "Mi lista ordenada: [5, 8, 12, 19, 23, 56, 59, 64, 80, 100, 250]\n"
     ]
    }
   ],
   "source": [
    "mi_lista_ordenada = bubble_sort(mi_lista)\n",
    "print(f\"Mi lista ordenada: {mi_lista_ordenada}\")"
   ]
  },
  {
   "cell_type": "markdown",
   "id": "cc44b1c6",
   "metadata": {},
   "source": [
    "### Insertion sort"
   ]
  },
  {
   "cell_type": "code",
   "execution_count": 85,
   "id": "916ce50c",
   "metadata": {},
   "outputs": [
    {
     "name": "stdout",
     "output_type": "stream",
     "text": [
      "Lista original [64, 56, 12, 80, 23, 59, 100, 250, 5, 8, 19]\n"
     ]
    }
   ],
   "source": [
    "def insertion_sort(arr):\n",
    "    for i in range(1,len(arr)):\n",
    "        key = arr[i]\n",
    "        j= i-1\n",
    "        while j>=0 and key<arr[j]:\n",
    "            arr[j+1] = arr[j]\n",
    "            j-=1\n",
    "        arr[j+1] = key\n",
    "    return arr\n",
    "mi_lista = [64,56,12,80,23,59,100,250,5,8,19]\n",
    "print(f\"Lista original\",mi_lista)"
   ]
  },
  {
   "cell_type": "code",
   "execution_count": 86,
   "id": "1679e9e7",
   "metadata": {},
   "outputs": [
    {
     "name": "stdout",
     "output_type": "stream",
     "text": [
      "Mi lista ordenada: [5, 8, 12, 19, 23, 56, 59, 64, 80, 100, 250]\n"
     ]
    }
   ],
   "source": [
    "mi_lista_ordenada = insertion_sort(mi_lista)\n",
    "print(f\"Mi lista ordenada: {mi_lista_ordenada}\")"
   ]
  },
  {
   "cell_type": "markdown",
   "id": "11c243bf",
   "metadata": {},
   "source": [
    "### Selection sort"
   ]
  },
  {
   "cell_type": "code",
   "execution_count": 87,
   "id": "44923dcc",
   "metadata": {},
   "outputs": [],
   "source": [
    "def selection_sort(arr):\n",
    "    n = len(arr)\n",
    "    for i in range(n):\n",
    "        min_idx = i\n",
    "        for j in range(i+1,n):\n",
    "            if arr[j]<arr[min_idx]:\n",
    "                min_idx=j\n",
    "        arr[i],arr[min_idx] = arr[min_idx],arr[i]\n",
    "    return arr"
   ]
  },
  {
   "cell_type": "code",
   "execution_count": 88,
   "id": "d851579d",
   "metadata": {},
   "outputs": [
    {
     "name": "stdout",
     "output_type": "stream",
     "text": [
      "Lista original [64, 56, 12, 80, 23, 59, 100, 250, 5, 8, 19]\n"
     ]
    }
   ],
   "source": [
    "mi_lista = [64,56,12,80,23,59,100,250,5,8,19]\n",
    "print(f\"Lista original\",mi_lista)"
   ]
  },
  {
   "cell_type": "code",
   "execution_count": 89,
   "id": "ad680996",
   "metadata": {},
   "outputs": [
    {
     "name": "stdout",
     "output_type": "stream",
     "text": [
      "Mi lista ordenada: [5, 8, 12, 19, 23, 56, 59, 64, 80, 100, 250]\n"
     ]
    }
   ],
   "source": [
    "mi_lista_ordenada = selection_sort(mi_lista)\n",
    "print(f\"Mi lista ordenada: {mi_lista_ordenada}\")"
   ]
  },
  {
   "cell_type": "markdown",
   "id": "440b8995",
   "metadata": {},
   "source": [
    "### Linear search"
   ]
  },
  {
   "cell_type": "code",
   "execution_count": 90,
   "id": "2acee836",
   "metadata": {},
   "outputs": [],
   "source": [
    "def linear_search(arr,target):\n",
    "    for i in range(len(arr)):\n",
    "        if arr[i]==target:\n",
    "            return i\n",
    "    return -1"
   ]
  },
  {
   "cell_type": "code",
   "execution_count": 91,
   "id": "0f3994a0",
   "metadata": {},
   "outputs": [
    {
     "name": "stdout",
     "output_type": "stream",
     "text": [
      "El elemento buscado esta en el indice: 6\n",
      "100\n"
     ]
    }
   ],
   "source": [
    "mi_lista = [64,56,12,80,23,59,100,250,5,8,19]\n",
    "target = 100\n",
    "index = linear_search(mi_lista, target)\n",
    "print(f\"El elemento buscado esta en el indice: {index}\")\n",
    "print(mi_lista[index])"
   ]
  },
  {
   "cell_type": "code",
   "execution_count": 92,
   "id": "fd793a79",
   "metadata": {},
   "outputs": [
    {
     "name": "stdout",
     "output_type": "stream",
     "text": [
      "El elemento buscado esta en el indice: 9\n",
      "8\n"
     ]
    }
   ],
   "source": [
    "target = 8\n",
    "index = linear_search(mi_lista, target)\n",
    "print(f\"El elemento buscado esta en el indice: {index}\")\n",
    "print(mi_lista[index])"
   ]
  },
  {
   "cell_type": "markdown",
   "id": "038cb5a3",
   "metadata": {},
   "source": [
    "### Binary search\n",
    "Tenemos que pasar una lista ordenada"
   ]
  },
  {
   "cell_type": "code",
   "execution_count": 93,
   "id": "9a9a8dab",
   "metadata": {},
   "outputs": [
    {
     "name": "stdout",
     "output_type": "stream",
     "text": [
      "El numero 64 se encuentra en el indice: 7\n"
     ]
    }
   ],
   "source": [
    "def binary_search(arr,target):\n",
    "    low = 0\n",
    "    high = len(arr)-1\n",
    "    while low<=high:\n",
    "        mid = (low+high)//2\n",
    "        if arr[mid]==target:\n",
    "            return mid\n",
    "        elif arr[mid]<target:\n",
    "            low = mid+1\n",
    "        else:\n",
    "            high = mid-1\n",
    "    return -1\n",
    "target = 64\n",
    "mi_lista_ordenada = [5, 8, 12, 19, 23, 56, 59, 64, 80, 100, 250]\n",
    "index = binary_search(mi_lista_ordenada, target)\n",
    "print(f\"El numero {target} se encuentra en el indice: {index}\")\n"
   ]
  },
  {
   "cell_type": "markdown",
   "id": "b0a4e74e",
   "metadata": {},
   "source": [
    "### Recursion"
   ]
  },
  {
   "cell_type": "code",
   "execution_count": 94,
   "id": "2c70f707",
   "metadata": {},
   "outputs": [
    {
     "name": "stdout",
     "output_type": "stream",
     "text": [
      "El factorial de 5! es 120\n"
     ]
    }
   ],
   "source": [
    "# basica\n",
    "def factorial(n):\n",
    "    if n==0 or n==1:\n",
    "        return 1\n",
    "    else:\n",
    "        return n*factorial(n-1) # 4! 4*3*2*1\n",
    "num = 5\n",
    "res = factorial(5)\n",
    "print(f\"El factorial de {num}! es {res}\")"
   ]
  },
  {
   "cell_type": "code",
   "execution_count": 95,
   "id": "a78f96bc",
   "metadata": {},
   "outputs": [],
   "source": [
    "import random\n",
    "import time\n",
    "def run_sorting_benchmark(algorithm, data_size=5000):\n",
    "    arr = [random.randint(0, 10000) for _ in range(data_size)]\n",
    "    start_time = time.time()\n",
    "    algorithm(arr)\n",
    "    end_time = time.time()\n",
    "    return end_time - start_time"
   ]
  },
  {
   "cell_type": "code",
   "execution_count": 96,
   "id": "5d8c6c37",
   "metadata": {},
   "outputs": [
    {
     "name": "stdout",
     "output_type": "stream",
     "text": [
      "Comparando tiempos de ejecucion\n",
      "Tiempo de ejecucion del bubble sort: 1.058941 segundos\n",
      "Tiempo de ejecucion del insertion sort: 0.505853 segundos\n",
      "Tiempo de ejecucion del selection sort: 0.426873 segundos\n"
     ]
    }
   ],
   "source": [
    "print(f\"Comparando tiempos de ejecucion\")\n",
    "time_bubble = run_sorting_benchmark(bubble_sort)\n",
    "print(f\"Tiempo de ejecucion del bubble sort: {time_bubble:.6f} segundos\")\n",
    "time_insertion = run_sorting_benchmark(insertion_sort)\n",
    "print(f\"Tiempo de ejecucion del insertion sort: {time_insertion:.6f} segundos\")\n",
    "time_selection = run_sorting_benchmark(selection_sort)  \n",
    "print(f\"Tiempo de ejecucion del selection sort: {time_selection:.6f} segundos\")"
   ]
  },
  {
   "cell_type": "code",
   "execution_count": 97,
   "id": "8984075a",
   "metadata": {},
   "outputs": [],
   "source": [
    "def search_simple(documents,keyword):\n",
    "    results = []\n",
    "    for i,doc in enumerate(documents):\n",
    "        if keyword.lower() in doc.lower():\n",
    "            results.append(i)\n",
    "    return results\n"
   ]
  },
  {
   "cell_type": "code",
   "execution_count": 99,
   "id": "17a7363f",
   "metadata": {},
   "outputs": [
    {
     "name": "stdout",
     "output_type": "stream",
     "text": [
      "Resultados de la busqueda: [0, 2, 4]\n"
     ]
    }
   ],
   "source": [
    "text_list = [\n",
    "    \"Python es un lenguaje de programacion\",\n",
    "    \"C++ es facil de aprender\",\n",
    "    \"Python es utilizado en ciencia de datos\",  \n",
    "    \"JavaScript es popular en desarrollo web\",\n",
    "    \"Python es versatil y potente\",\n",
    "    ]\n",
    "keyword = \"python\"\n",
    "result = search_simple(text_list,keyword)\n",
    "print(f\"Resultados de la busqueda: {result}\")"
   ]
  },
  {
   "cell_type": "code",
   "execution_count": 101,
   "id": "3ea849be",
   "metadata": {},
   "outputs": [
    {
     "name": "stdout",
     "output_type": "stream",
     "text": [
      "El 10 numero de la secuencia de Fibonacci es: 55\n",
      "Serie de Fibonacci hasta el 10: [0, 1, 1, 2, 3, 5, 8, 13, 21, 34]\n"
     ]
    }
   ],
   "source": [
    "def fibonacci(n):\n",
    "    if n<=1:\n",
    "        return n\n",
    "    else:\n",
    "        return fibonacci(n-1)+fibonacci(n-2)\n",
    "n = 10\n",
    "print(f\"El {n} numero de la secuencia de Fibonacci es: {fibonacci(n)}\")\n",
    "serie = [fibonacci(i) for i in range(n)]\n",
    "print(f\"Serie de Fibonacci hasta el {n}: {serie}\")"
   ]
  },
  {
   "cell_type": "code",
   "execution_count": null,
   "id": "33e629a1",
   "metadata": {},
   "outputs": [],
   "source": []
  }
 ],
 "metadata": {
  "kernelspec": {
   "display_name": "Python 3",
   "language": "python",
   "name": "python3"
  },
  "language_info": {
   "codemirror_mode": {
    "name": "ipython",
    "version": 3
   },
   "file_extension": ".py",
   "mimetype": "text/x-python",
   "name": "python",
   "nbconvert_exporter": "python",
   "pygments_lexer": "ipython3",
   "version": "3.12.8"
  }
 },
 "nbformat": 4,
 "nbformat_minor": 5
}
