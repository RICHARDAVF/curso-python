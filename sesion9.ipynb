{
 "cells": [
  {
   "cell_type": "markdown",
   "id": "a5e94262",
   "metadata": {},
   "source": [
    "# Argumentos por defecto y argumentos variables (args, kwargs)"
   ]
  },
  {
   "cell_type": "code",
   "execution_count": 4,
   "id": "be6f052e",
   "metadata": {},
   "outputs": [
    {
     "name": "stdout",
     "output_type": "stream",
     "text": [
      "Hola como estas,Richard\n"
     ]
    }
   ],
   "source": [
    "# Argumento por defecto\n",
    "def saludar(nombre,mensaje=\"Hola\"):\n",
    "    print(f\"{mensaje},{nombre}\")\n",
    "saludar(\"Richard\",mensaje=\"Hola como estas\")"
   ]
  },
  {
   "cell_type": "markdown",
   "id": "8bb66eb3",
   "metadata": {},
   "source": [
    "### Uso de `*args`"
   ]
  },
  {
   "cell_type": "code",
   "execution_count": 5,
   "id": "5f3d0e45",
   "metadata": {},
   "outputs": [
    {
     "name": "stdout",
     "output_type": "stream",
     "text": [
      "15\n"
     ]
    }
   ],
   "source": [
    "# args\n",
    "def sumar_todos(*args):\n",
    "    \"Suma todos lso argumentos numericos\"\n",
    "    total = 0\n",
    "    for num in args:\n",
    "        total+=num\n",
    "    return total\n",
    "print(sumar_todos(1,2,3,4,5))"
   ]
  },
  {
   "cell_type": "code",
   "execution_count": 6,
   "id": "6c9d1f38",
   "metadata": {},
   "outputs": [
    {
     "name": "stdout",
     "output_type": "stream",
     "text": [
      "150\n"
     ]
    }
   ],
   "source": [
    "print(sumar_todos(10,20,30,40,50))"
   ]
  },
  {
   "cell_type": "markdown",
   "id": "85064be2",
   "metadata": {},
   "source": [
    "### Uso de `**kwargs`"
   ]
  },
  {
   "cell_type": "code",
   "execution_count": 9,
   "id": "69086904",
   "metadata": {},
   "outputs": [
    {
     "name": "stdout",
     "output_type": "stream",
     "text": [
      "Creando perfil\n",
      "Nombre: Richard\n",
      "Edad: 27\n",
      "Ciudad: Lima\n"
     ]
    }
   ],
   "source": [
    "def crear_perfil(**kwargs):\n",
    "    \"\"\"Crea un perfil de usuario a partir de paraces clave-valor\"\"\"\n",
    "    print(\"Creando perfil\")\n",
    "    for clave,valor in kwargs.items():\n",
    "        print(f\"{clave.capitalize()}: {valor}\")\n",
    "crear_perfil(nombre=\"Richard\",edad=27,ciudad=\"Lima\")\n"
   ]
  },
  {
   "cell_type": "markdown",
   "id": "52a3582c",
   "metadata": {},
   "source": [
    "### Funciones lambda"
   ]
  },
  {
   "cell_type": "code",
   "execution_count": 11,
   "id": "be1f1b0a",
   "metadata": {},
   "outputs": [
    {
     "name": "stdout",
     "output_type": "stream",
     "text": [
      "11\n"
     ]
    }
   ],
   "source": [
    "sumar = lambda x,y:x+y\n",
    "print(sumar(7,4))"
   ]
  },
  {
   "cell_type": "code",
   "execution_count": null,
   "id": "4beb1cf0",
   "metadata": {},
   "outputs": [
    {
     "data": {
      "text/plain": [
       "[2, 4, 6, 8]"
      ]
     },
     "execution_count": 12,
     "metadata": {},
     "output_type": "execute_result"
    }
   ],
   "source": [
    "# Filtrar numeros pares de una lista\n",
    "numeros = [1,2,3,4,5,6,7,8,9]\n",
    "pares = list(filter(lambda x:x%2==0,numeros))\n",
    "pares"
   ]
  },
  {
   "cell_type": "code",
   "execution_count": 13,
   "id": "7b69fd44",
   "metadata": {},
   "outputs": [
    {
     "data": {
      "text/plain": [
       "[1, 3, 5, 7, 9]"
      ]
     },
     "execution_count": 13,
     "metadata": {},
     "output_type": "execute_result"
    }
   ],
   "source": [
    "impares = list(filter(lambda x:x%2!=0,numeros))\n",
    "impares"
   ]
  },
  {
   "cell_type": "code",
   "execution_count": 15,
   "id": "897d11bd",
   "metadata": {},
   "outputs": [
    {
     "data": {
      "text/plain": [
       "[{'nombre': 'Richard', 'nota': 6},\n",
       " {'nombre': 'Pedro', 'nota': 8},\n",
       " {'nombre': 'Ana', 'nota': 10},\n",
       " {'nombre': 'Juan', 'nota': 15}]"
      ]
     },
     "execution_count": 15,
     "metadata": {},
     "output_type": "execute_result"
    }
   ],
   "source": [
    "# Ordenar una,lista de diccionarios por valor especifico\n",
    "estudiantes = [\n",
    "    {\"nombre\":\"Ana\",\"nota\":10},\n",
    "    {\"nombre\":\"Richard\",\"nota\":6},\n",
    "    {\"nombre\":\"Juan\",\"nota\":15},\n",
    "    {\"nombre\":\"Pedro\",\"nota\":8},\n",
    "]\n",
    "lista_ordenada = sorted(estudiantes,key=lambda e:e[\"nota\"])\n",
    "lista_ordenada"
   ]
  },
  {
   "cell_type": "code",
   "execution_count": 16,
   "id": "c2c2f37a",
   "metadata": {},
   "outputs": [],
   "source": [
    "def saludo_formal(nombre):\n",
    "    return f\"Estimado: {nombre}\"\n",
    "mi_saludo = saludo_formal"
   ]
  },
  {
   "cell_type": "code",
   "execution_count": 17,
   "id": "0d058f67",
   "metadata": {},
   "outputs": [
    {
     "data": {
      "text/plain": [
       "'Estimado: Richard'"
      ]
     },
     "execution_count": 17,
     "metadata": {},
     "output_type": "execute_result"
    }
   ],
   "source": [
    "def ejecutar_saludo(funcion_saludo,nombre):\n",
    "    return funcion_saludo(nombre)\n",
    "ejecutar_saludo(mi_saludo,\"Richard\")\n"
   ]
  },
  {
   "cell_type": "markdown",
   "id": "8e3a194b",
   "metadata": {},
   "source": [
    "### Decoradores"
   ]
  },
  {
   "cell_type": "code",
   "execution_count": 19,
   "id": "ea9afef0",
   "metadata": {},
   "outputs": [],
   "source": [
    "def mi_decorador(funcion):\n",
    "    def envolver():\n",
    "        print(\"Antes de ejecutar la funcion\")\n",
    "        funcion()\n",
    "        print(\"Despues dde ejecutar la funcion\")\n",
    "    return envolver\n",
    "\n",
    "@mi_decorador\n",
    "def saludar_mundo():\n",
    "    print(\"Hola mundo\")"
   ]
  },
  {
   "cell_type": "code",
   "execution_count": 20,
   "id": "e6f8dbf7",
   "metadata": {},
   "outputs": [
    {
     "name": "stdout",
     "output_type": "stream",
     "text": [
      "Antes de ejecutar la funcion\n",
      "Hola mundo\n",
      "Despues dde ejecutar la funcion\n"
     ]
    }
   ],
   "source": [
    "saludar_mundo()"
   ]
  },
  {
   "cell_type": "code",
   "execution_count": 30,
   "id": "da4999c7",
   "metadata": {},
   "outputs": [
    {
     "name": "stdout",
     "output_type": "stream",
     "text": [
      "INFO: Llamando a la funcion 'sumar_valores' con args '(3, 5)', kwargs '{'c': 4, 'd': 6}' \n",
      "INFO: Funcion 'sumar_valores' finalizada, resultado: 18\n"
     ]
    },
    {
     "data": {
      "text/plain": [
       "18"
      ]
     },
     "execution_count": 30,
     "metadata": {},
     "output_type": "execute_result"
    }
   ],
   "source": [
    "import functools\n",
    "def logger(funcion):\n",
    "    @functools.wraps(funcion)\n",
    "    def envolver_logger(*args,**kwargs):\n",
    "        print(f\"INFO: Llamando a la funcion '{funcion.__name__}' con args '{args}', kwargs '{kwargs}' \")\n",
    "        resultado = funcion(*args,**kwargs)\n",
    "        print(f\"INFO: Funcion '{funcion.__name__}' finalizada, resultado: {resultado}\")\n",
    "        return resultado\n",
    "    return envolver_logger\n",
    "@logger\n",
    "def sumar_valores(a,b,c,d):\n",
    "    return a+b+c+d\n",
    "\n",
    "sumar_valores(3,5,c=4,d=6)"
   ]
  },
  {
   "cell_type": "code",
   "execution_count": 31,
   "id": "d8fa847e",
   "metadata": {},
   "outputs": [
    {
     "data": {
      "text/plain": [
       "25"
      ]
     },
     "execution_count": 31,
     "metadata": {},
     "output_type": "execute_result"
    }
   ],
   "source": [
    "def sumar(*args):\n",
    "    return sum(args)\n",
    "sumar(1,3,5,7,9)"
   ]
  },
  {
   "cell_type": "code",
   "execution_count": null,
   "id": "c6c656e4",
   "metadata": {},
   "outputs": [],
   "source": []
  }
 ],
 "metadata": {
  "kernelspec": {
   "display_name": "Python 3",
   "language": "python",
   "name": "python3"
  },
  "language_info": {
   "codemirror_mode": {
    "name": "ipython",
    "version": 3
   },
   "file_extension": ".py",
   "mimetype": "text/x-python",
   "name": "python",
   "nbconvert_exporter": "python",
   "pygments_lexer": "ipython3",
   "version": "3.12.8"
  }
 },
 "nbformat": 4,
 "nbformat_minor": 5
}
