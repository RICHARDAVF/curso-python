{
 "cells": [
  {
   "cell_type": "markdown",
   "id": "a4f6a606",
   "metadata": {},
   "source": [
    "# Systansis Básica y Operaciones en Python"
   ]
  },
  {
   "cell_type": "markdown",
   "id": "c9cfbe02",
   "metadata": {},
   "source": [
    "## Variables y Tipos de Datos"
   ]
  },
  {
   "cell_type": "code",
   "execution_count": 22,
   "id": "5d06651f",
   "metadata": {},
   "outputs": [
    {
     "name": "stdout",
     "output_type": "stream",
     "text": [
      "Edad: 30, Tipo: <class 'int'>\n",
      "Nombre: Juan, Tipo: <class 'str'>\n",
      "Altura: 1.75, Tipo: <class 'float'>\n",
      "Es estudiante: True, Tipo: <class 'bool'>\n"
     ]
    }
   ],
   "source": [
    "# Asignación de variables\n",
    "edad = 30\n",
    "nombre = \"Juan\"\n",
    "altura = 1.75\n",
    "es_estudiante = True\n",
    "\n",
    "# Imprimir el tipo de dato de cada variable\n",
    "print(f\"Edad: {edad}, Tipo: {type(edad)}\")\n",
    "print(f\"Nombre: {nombre}, Tipo: {type(nombre)}\")\n",
    "print(f\"Altura: {altura}, Tipo: {type(altura)}\")\n",
    "print(f\"Es estudiante: {es_estudiante}, Tipo: {type(es_estudiante)}\")"
   ]
  },
  {
   "cell_type": "markdown",
   "id": "adf80731",
   "metadata": {},
   "source": [
    "## Operadores"
   ]
  },
  {
   "cell_type": "code",
   "execution_count": 23,
   "id": "d3d7132f",
   "metadata": {},
   "outputs": [
    {
     "name": "stdout",
     "output_type": "stream",
     "text": [
      "Suma: 15\n",
      "Resta: 5\n",
      "Multiplicación: 50\n",
      "División: 2.0\n",
      "División entera: 2\n",
      "Módulo: 0\n",
      "Potencia: 100000\n"
     ]
    }
   ],
   "source": [
    "# Operadores aritméticos\n",
    "a = 10\n",
    "b = 5\n",
    "suma = a + b\n",
    "resta = a - b\n",
    "multiplicacion = a * b\n",
    "division = a / b\n",
    "division_entera = a // b\n",
    "modulo = a % b\n",
    "potencia = a ** b\n",
    "\n",
    "print(f\"Suma: {suma}\")\n",
    "print(f\"Resta: {resta}\")\n",
    "print(f\"Multiplicación: {multiplicacion}\")\n",
    "print(f\"División: {division}\")\n",
    "print(f\"División entera: {division_entera}\")\n",
    "print(f\"Módulo: {modulo}\")\n",
    "print(f\"Potencia: {potencia}\")\n"
   ]
  },
  {
   "cell_type": "code",
   "execution_count": 24,
   "id": "cf5e6ad6",
   "metadata": {},
   "outputs": [
    {
     "name": "stdout",
     "output_type": "stream",
     "text": [
      "x == y: False\n",
      "x != y: True\n",
      "x > y: False\n",
      "x < y: True\n",
      "x >= y: False\n",
      "x <= y: True\n"
     ]
    }
   ],
   "source": [
    "# Operadores de comparación\n",
    "x = 10\n",
    "y = 20\n",
    "print(f\"x == y: {x == y}\")\n",
    "print(f\"x != y: {x != y}\")\n",
    "print(f\"x > y: {x > y}\")\n",
    "print(f\"x < y: {x < y}\")\n",
    "print(f\"x >= y: {x >= y}\")\n",
    "print(f\"x <= y: {x <= y}\")"
   ]
  },
  {
   "cell_type": "code",
   "execution_count": 25,
   "id": "159bd88f",
   "metadata": {},
   "outputs": [
    {
     "name": "stdout",
     "output_type": "stream",
     "text": [
      "p and q: False\n",
      "p or q: True\n",
      "not p: False\n",
      "not q: True\n"
     ]
    }
   ],
   "source": [
    "# Operadores logicos\n",
    "p = True\n",
    "q = False\n",
    "print(f\"p and q: {p and q}\") \n",
    "print(f\"p or q: {p or q}\")\n",
    "print(f\"not p: {not p}\")\n",
    "print(f\"not q: {not q}\")   \n"
   ]
  },
  {
   "cell_type": "code",
   "execution_count": 26,
   "id": "423d0a93",
   "metadata": {},
   "outputs": [
    {
     "name": "stdout",
     "output_type": "stream",
     "text": [
      "¡Hola , mundo!\n",
      "Binvenido, Juan!\n",
      "Bienvenido, Juan!. Tienes 25 años.\n",
      "Hola, Richard! Encantado de conocerte.\n",
      "Tienes 27 años.\n"
     ]
    }
   ],
   "source": [
    "# Funciones basicas integradas de Python print() y  input()\n",
    "\n",
    "# Uso del print()\n",
    "print(\"¡Hola , mundo!\")\n",
    "nombre_usuario = \"Juan\"\n",
    "edad_usuario = 25\n",
    "print(\"Binvenido, \" + nombre_usuario + \"!\")\n",
    "print(f\"Bienvenido, {nombre_usuario}!. Tienes {edad_usuario} años.\")\n",
    "\n",
    "# Uso del input()\n",
    "nombre_ingresado = input(\"Por favor, ingresa tu nombre: \")\n",
    "print(f\"Hola, {nombre_ingresado}! Encantado de conocerte.\")\n",
    "edad_ingresada = int(input(\"Por favor, ingresa tu edad: \"))\n",
    "print(f\"Tienes {edad_ingresada} años.\")\n"
   ]
  },
  {
   "cell_type": "markdown",
   "id": "3d07cbea",
   "metadata": {},
   "source": [
    "## Ejercicios\n",
    "\n",
    "### 1.  Calculadora BASICA"
   ]
  },
  {
   "cell_type": "code",
   "execution_count": 29,
   "id": "57f70924",
   "metadata": {},
   "outputs": [
    {
     "name": "stdout",
     "output_type": "stream",
     "text": [
      "\n",
      "Suma: 6.0\n",
      "Resta: 6.0\n",
      "Multiplicación: 0.0\n",
      "División: Indefinida (no se puede dividir por cero)\n"
     ]
    }
   ],
   "source": [
    "\n",
    "# Solicitar al usuario que ingrese dos números y realizar operaciones aritméticas básicas\n",
    "num1 = float(input(\"Ingresa el primer número: \"))\n",
    "num2 = float(input(\"Ingresa el segundo número: \"))\n",
    "suma = num1 + num2\n",
    "resta = num1 - num2\n",
    "multiplicacion = num1 * num2\n",
    "division = num1 / num2 if num2 != 0 else \"Indefinida (no se puede dividir por cero)\"\n",
    "print(f\"\\nSuma: {suma}\")\n",
    "print(f\"Resta: {resta}\")\n",
    "print(f\"Multiplicación: {multiplicacion}\")\n",
    "print(f\"División: {division}\")\n"
   ]
  },
  {
   "cell_type": "markdown",
   "id": "040c03f4",
   "metadata": {},
   "source": [
    "### 2. Conversor de unidades (Celcius a Fahrenheit)"
   ]
  },
  {
   "cell_type": "code",
   "execution_count": 30,
   "id": "98f4aedc",
   "metadata": {},
   "outputs": [
    {
     "name": "stdout",
     "output_type": "stream",
     "text": [
      "20.0°C es igual a 68.0°F\n"
     ]
    }
   ],
   "source": [
    "# Conversor de temperatura de Celsius a Fahrenheit\n",
    "celsius = float(input(\"Ingresa la temperatura en Celsius: \"))\n",
    "fahrenheit = (celsius * 9/5) + 32\n",
    "print(f\"{celsius}°C es igual a {fahrenheit}°F\")"
   ]
  },
  {
   "cell_type": "markdown",
   "id": "28c264e4",
   "metadata": {},
   "source": [
    "### 3. Programa de saludo personalizado"
   ]
  },
  {
   "cell_type": "code",
   "execution_count": 31,
   "id": "69145f41",
   "metadata": {},
   "outputs": [
    {
     "name": "stdout",
     "output_type": "stream",
     "text": [
      "\n",
      "!Hola, Richard Avilés Ferro\n",
      "Me da gusto de conocer a alguien de Lima.\n",
      "Con 27 años,seguramente tienes muchas historias interesantes que contar.\n"
     ]
    }
   ],
   "source": [
    "# programda de saludo personalizado que solicita nombre, edad y ciudad\n",
    "nombre_completo = input(\"¿Cual es tu nombre completo?: \")\n",
    "edad = int(input(\"¿Cuantos años tienes?: \"))\n",
    "ciudad = input(\"¿De que ciudad eres?: \")\n",
    "\n",
    "print(f\"\\n!Hola, {nombre_completo}\")\n",
    "print(f\"Me da gusto de conocer a alguien de {ciudad}.\")\n",
    "print(f\"Con {edad} años,seguramente tienes muchas historias interesantes que contar.\")\n",
    "\n"
   ]
  },
  {
   "cell_type": "code",
   "execution_count": null,
   "id": "0a7af1c1",
   "metadata": {},
   "outputs": [],
   "source": []
  }
 ],
 "metadata": {
  "kernelspec": {
   "display_name": "Python 3",
   "language": "python",
   "name": "python3"
  },
  "language_info": {
   "codemirror_mode": {
    "name": "ipython",
    "version": 3
   },
   "file_extension": ".py",
   "mimetype": "text/x-python",
   "name": "python",
   "nbconvert_exporter": "python",
   "pygments_lexer": "ipython3",
   "version": "3.12.8"
  }
 },
 "nbformat": 4,
 "nbformat_minor": 5
}
