{
 "cells": [
  {
   "cell_type": "markdown",
   "id": "3c91c565",
   "metadata": {},
   "source": [
    "# Manajo de Archivos"
   ]
  },
  {
   "cell_type": "markdown",
   "id": "0d57f1f0",
   "metadata": {},
   "source": [
    "### Apertura y Cierre de archivos TXT"
   ]
  },
  {
   "cell_type": "code",
   "execution_count": 28,
   "id": "96055890",
   "metadata": {},
   "outputs": [],
   "source": [
    "# Ejemplo 1 : Escribir en un archivo\n",
    "f = open(\"ejemplo1.txt\",\"w\")\n",
    "f.write(\"Hola, esta es la primera linea\\n\")\n",
    "f.write(\"Hola, esta es la segunda linea\")\n",
    "f.close()"
   ]
  },
  {
   "cell_type": "code",
   "execution_count": 29,
   "id": "37ab519b",
   "metadata": {},
   "outputs": [
    {
     "name": "stdout",
     "output_type": "stream",
     "text": [
      "Hola, esta es la primera linea\n",
      "Hola, esta es la segunda linea\n"
     ]
    }
   ],
   "source": [
    "# Ejemplo 2: Leer un archivo\n",
    "\n",
    "f = open(\"ejemplo1.txt\",\"r\")\n",
    "contenido = f.read()\n",
    "print(contenido)\n"
   ]
  },
  {
   "cell_type": "code",
   "execution_count": 30,
   "id": "2b43166a",
   "metadata": {},
   "outputs": [],
   "source": [
    "# Ejemplo 3: Añadir cotenido a un archivo\n",
    "f = open(\"ejemplo1.txt\",\"a\")\n",
    "f.write(\"\\nEsta es una nueva linea agregada.\")\n",
    "f.close()"
   ]
  },
  {
   "cell_type": "code",
   "execution_count": 31,
   "id": "59838879",
   "metadata": {},
   "outputs": [
    {
     "name": "stdout",
     "output_type": "stream",
     "text": [
      "Hola, esta es la primera linea\n",
      "Hola, esta es la segunda linea\n",
      "Esta es una nueva linea agregada.\n"
     ]
    }
   ],
   "source": [
    "\n",
    "f = open(\"ejemplo1.txt\",\"r\")\n",
    "contenido = f.read()\n",
    "print(contenido)\n"
   ]
  },
  {
   "cell_type": "markdown",
   "id": "782150c0",
   "metadata": {},
   "source": [
    "### Context Manager `with`"
   ]
  },
  {
   "cell_type": "code",
   "execution_count": 32,
   "id": "e51a4959",
   "metadata": {},
   "outputs": [],
   "source": [
    "with open(\"ejemplo2.txt\",\"w\") as f:\n",
    "    f.write(\"Usando contexto de with\\n\")\n",
    "    f.write(\"Es la mejor practica en Python.\")\n",
    "    "
   ]
  },
  {
   "cell_type": "code",
   "execution_count": 33,
   "id": "af99e92c",
   "metadata": {},
   "outputs": [
    {
     "name": "stdout",
     "output_type": "stream",
     "text": [
      "Usando contexto de with\n",
      "Es la mejor practica en Python.\n"
     ]
    }
   ],
   "source": [
    "with open(\"ejemplo2.txt\",\"r\") as f:\n",
    "    contenido = f.read()\n",
    "    print(contenido)"
   ]
  },
  {
   "cell_type": "markdown",
   "id": "878d3dc4",
   "metadata": {},
   "source": [
    "### Manejo e archivos `CSV`"
   ]
  },
  {
   "cell_type": "code",
   "execution_count": 34,
   "id": "17624334",
   "metadata": {},
   "outputs": [],
   "source": [
    "# Crear archivo csv\n",
    "import csv\n",
    "\n",
    "ventas = [\n",
    "    {\"producto\":\"Laptop\",\"cantidad\":2,\"precio\":1200},\n",
    "    {\"producto\":\"Mouse\",\"cantidad\":10,\"precio\":30},\n",
    "    {\"producto\":\"Teclado\",\"cantidad\":5,\"precio\":75},\n",
    "]\n",
    "\n",
    "with open(\"ventas.csv\",\"w\",newline=\"\") as f:\n",
    "    nombres_columnas = [\"producto\",\"cantidad\",\"precio\"]\n",
    "    escritor = csv.DictWriter(f,fieldnames=nombres_columnas)\n",
    "    escritor.writeheader()\n",
    "    escritor.writerows(ventas)\n",
    "    \n"
   ]
  },
  {
   "cell_type": "code",
   "execution_count": 35,
   "id": "b54486bb",
   "metadata": {},
   "outputs": [
    {
     "name": "stdout",
     "output_type": "stream",
     "text": [
      "{'producto': 'Laptop', 'cantidad': '2', 'precio': '1200'}\n",
      "{'producto': 'Mouse', 'cantidad': '10', 'precio': '30'}\n",
      "{'producto': 'Teclado', 'cantidad': '5', 'precio': '75'}\n"
     ]
    }
   ],
   "source": [
    "# Leer archivo csv\n",
    "with open(\"ventas.csv\",\"r\") as f:\n",
    "    lector = csv.DictReader(f)\n",
    "    for fila in lector:\n",
    "        print(fila)"
   ]
  },
  {
   "cell_type": "markdown",
   "id": "5cb31ff9",
   "metadata": {},
   "source": [
    "### Manejo de archivos `JSON`"
   ]
  },
  {
   "cell_type": "code",
   "execution_count": 36,
   "id": "6573b3d0",
   "metadata": {},
   "outputs": [],
   "source": [
    "#Ejemplo : Escribir en un archivo JSON\n",
    "import json\n",
    "datos_ventas = {\n",
    "    \"tienda\":\"TenoStore\",\n",
    "    \"venta_semana\":[\n",
    "        {\"dia\":\"Lunes\",\"total\":1200},\n",
    "        {\"dia\":\"Martes\",\"total\":1400},\n",
    "        {\"dia\":\"Mircoles\",\"total\":2000},\n",
    "    ]\n",
    "}\n",
    "with open(\"reporte_ventas.json\",\"w\") as f:\n",
    "    json.dump(datos_ventas,f,indent=4)"
   ]
  },
  {
   "cell_type": "code",
   "execution_count": 37,
   "id": "e5189958",
   "metadata": {},
   "outputs": [
    {
     "name": "stdout",
     "output_type": "stream",
     "text": [
      "{'dia': 'Lunes', 'total': 1200}\n",
      "{'dia': 'Martes', 'total': 1400}\n",
      "{'dia': 'Mircoles', 'total': 2000}\n"
     ]
    }
   ],
   "source": [
    "with open(\"reporte_ventas.json\",\"r\") as f:\n",
    "    datos_cargados = json.load(f)\n",
    "    for venta in datos_cargados[\"venta_semana\"]:\n",
    "        print(venta)"
   ]
  },
  {
   "cell_type": "markdown",
   "id": "a5533fbf",
   "metadata": {},
   "source": [
    "### Manejo de rutas"
   ]
  },
  {
   "cell_type": "code",
   "execution_count": 39,
   "id": "39482a84",
   "metadata": {},
   "outputs": [
    {
     "data": {
      "text/plain": [
       "WindowsPath('c:/Users/richa/Desktop/COURSE')"
      ]
     },
     "execution_count": 39,
     "metadata": {},
     "output_type": "execute_result"
    }
   ],
   "source": [
    "from pathlib import Path\n",
    "\n",
    "# Ejemplo: Creacion y maniupulacion de rutas\n",
    "ruta_actual = Path.cwd()\n",
    "ruta_actual"
   ]
  },
  {
   "cell_type": "code",
   "execution_count": 41,
   "id": "aab66a30",
   "metadata": {},
   "outputs": [
    {
     "data": {
      "text/plain": [
       "WindowsPath('c:/Users/richa/Desktop/COURSE/logs')"
      ]
     },
     "execution_count": 41,
     "metadata": {},
     "output_type": "execute_result"
    }
   ],
   "source": [
    "# Crear nuevo Path\n",
    "ruta_logs = ruta_actual/\"logs\"\n",
    "ruta_logs"
   ]
  },
  {
   "cell_type": "code",
   "execution_count": 43,
   "id": "9964fb6c",
   "metadata": {},
   "outputs": [],
   "source": [
    "#Ejemplo: Verificar si la ruta existe\n",
    "if not ruta_logs.exists():\n",
    "    print(\"Creando ruta\")\n",
    "    ruta_logs.mkdir()"
   ]
  },
  {
   "cell_type": "code",
   "execution_count": 47,
   "id": "3f3facea",
   "metadata": {},
   "outputs": [],
   "source": [
    "# Crear un archivo en la ruta\n",
    "ruta_archivo_log = ruta_logs/\"app.log\"\n",
    "\n",
    "# Escribir archivo\n",
    "with ruta_archivo_log.open(\"w\") as f:\n",
    "    f.write(\"Log de la aplicacion 17/02/2025\\n\")\n",
    "    f.write(\"INFO:Inciando sistema\")"
   ]
  },
  {
   "cell_type": "code",
   "execution_count": null,
   "id": "07e2b674",
   "metadata": {},
   "outputs": [],
   "source": []
  }
 ],
 "metadata": {
  "kernelspec": {
   "display_name": "Python 3",
   "language": "python",
   "name": "python3"
  },
  "language_info": {
   "codemirror_mode": {
    "name": "ipython",
    "version": 3
   },
   "file_extension": ".py",
   "mimetype": "text/x-python",
   "name": "python",
   "nbconvert_exporter": "python",
   "pygments_lexer": "ipython3",
   "version": "3.12.8"
  }
 },
 "nbformat": 4,
 "nbformat_minor": 5
}
