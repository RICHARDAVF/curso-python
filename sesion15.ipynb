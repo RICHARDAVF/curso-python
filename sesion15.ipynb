{
 "cells": [
  {
   "cell_type": "markdown",
   "id": "3935a777",
   "metadata": {},
   "source": [
    "# Estructura de datos avanzados"
   ]
  },
  {
   "cell_type": "markdown",
   "id": "4b9ea948",
   "metadata": {},
   "source": [
    "### Counter"
   ]
  },
  {
   "cell_type": "code",
   "execution_count": 6,
   "id": "456ee903",
   "metadata": {},
   "outputs": [
    {
     "data": {
      "text/plain": [
       "{'manzana': 3, 'pera': 2, 'naranaja': 1, 'uva': 1}"
      ]
     },
     "execution_count": 6,
     "metadata": {},
     "output_type": "execute_result"
    }
   ],
   "source": [
    "# Contar los elementos de una lista\n",
    "from collections import Counter\n",
    "frutas = [\"manzana\",\"pera\",\"naranaja\",\"manzana\",\"uva\",\"pera\",\"manzana\"]\n",
    "conteo = {}\n",
    "for fruta in frutas:\n",
    "    if fruta not in conteo:\n",
    "        conteo[fruta]=1\n",
    "    else:\n",
    "        conteo[fruta]+=1\n",
    "conteo\n",
    "\n"
   ]
  },
  {
   "cell_type": "code",
   "execution_count": 7,
   "id": "41f0e6f2",
   "metadata": {},
   "outputs": [
    {
     "data": {
      "text/plain": [
       "Counter({'manzana': 3, 'pera': 2, 'naranaja': 1, 'uva': 1})"
      ]
     },
     "execution_count": 7,
     "metadata": {},
     "output_type": "execute_result"
    }
   ],
   "source": [
    "conteo_frutas = Counter(frutas)\n",
    "conteo_frutas"
   ]
  },
  {
   "cell_type": "markdown",
   "id": "2a1208f0",
   "metadata": {},
   "source": [
    "### defaultdict"
   ]
  },
  {
   "cell_type": "code",
   "execution_count": 9,
   "id": "338438d9",
   "metadata": {},
   "outputs": [],
   "source": [
    "from collections import defaultdict\n",
    "colores_por_fruta = defaultdict(list)\n",
    "colores_por_fruta[\"manzana\"].append(\"rojo\")\n",
    "colores_por_fruta[\"uva\"].append(\"morado\")\n",
    "colores_por_fruta[\"platano\"].append(\"amarillo\")"
   ]
  },
  {
   "cell_type": "code",
   "execution_count": 11,
   "id": "8486d04e",
   "metadata": {},
   "outputs": [
    {
     "data": {
      "text/plain": [
       "defaultdict(list,\n",
       "            {'manzana': ['rojo'], 'uva': ['morado'], 'platano': ['amarillo']})"
      ]
     },
     "execution_count": 11,
     "metadata": {},
     "output_type": "execute_result"
    }
   ],
   "source": [
    "colores_por_fruta"
   ]
  },
  {
   "cell_type": "markdown",
   "id": "759fe830",
   "metadata": {},
   "source": [
    "### namedtuple"
   ]
  },
  {
   "cell_type": "code",
   "execution_count": 13,
   "id": "61f5a604",
   "metadata": {},
   "outputs": [
    {
     "data": {
      "text/plain": [
       "Punto(x=10, y=15)"
      ]
     },
     "execution_count": 13,
     "metadata": {},
     "output_type": "execute_result"
    }
   ],
   "source": [
    "from collections import namedtuple\n",
    "Punto = namedtuple(\"Punto\",[\"x\",\"y\"])\n",
    "punto1 = Punto(x=10,y=15)\n",
    "punto1"
   ]
  },
  {
   "cell_type": "code",
   "execution_count": 15,
   "id": "0ff082ff",
   "metadata": {},
   "outputs": [
    {
     "data": {
      "text/plain": [
       "(10, 15)"
      ]
     },
     "execution_count": 15,
     "metadata": {},
     "output_type": "execute_result"
    }
   ],
   "source": [
    "(punto1.x,punto1.y)"
   ]
  },
  {
   "cell_type": "code",
   "execution_count": 17,
   "id": "0af627dd",
   "metadata": {},
   "outputs": [
    {
     "data": {
      "text/plain": [
       "(10, 15)"
      ]
     },
     "execution_count": 17,
     "metadata": {},
     "output_type": "execute_result"
    }
   ],
   "source": [
    "punto1[0],punto1[1]"
   ]
  },
  {
   "cell_type": "markdown",
   "id": "3baaf0bf",
   "metadata": {},
   "source": [
    "### Doble endend Queue"
   ]
  },
  {
   "cell_type": "code",
   "execution_count": 20,
   "id": "4587aa23",
   "metadata": {},
   "outputs": [],
   "source": [
    "from collections import deque\n",
    "cola_atencion = deque([\"Cliente A\",\"Cliente B\",\"Cliente C\"])\n",
    "cola_atencion.append(\"Cliente D\")"
   ]
  },
  {
   "cell_type": "code",
   "execution_count": 21,
   "id": "0500e01e",
   "metadata": {},
   "outputs": [
    {
     "data": {
      "text/plain": [
       "deque(['Cliente A', 'Cliente B', 'Cliente C', 'Cliente D'])"
      ]
     },
     "execution_count": 21,
     "metadata": {},
     "output_type": "execute_result"
    }
   ],
   "source": [
    "cola_atencion"
   ]
  },
  {
   "cell_type": "code",
   "execution_count": 22,
   "id": "f2a8f8db",
   "metadata": {},
   "outputs": [],
   "source": [
    "cola_atencion.appendleft(\"Cliente 0\")"
   ]
  },
  {
   "cell_type": "code",
   "execution_count": 23,
   "id": "7ac5fed4",
   "metadata": {},
   "outputs": [
    {
     "data": {
      "text/plain": [
       "deque(['Cliente 0', 'Cliente A', 'Cliente B', 'Cliente C', 'Cliente D'])"
      ]
     },
     "execution_count": 23,
     "metadata": {},
     "output_type": "execute_result"
    }
   ],
   "source": [
    "cola_atencion"
   ]
  },
  {
   "cell_type": "code",
   "execution_count": 24,
   "id": "93acdf7e",
   "metadata": {},
   "outputs": [
    {
     "data": {
      "text/plain": [
       "'Cliente D'"
      ]
     },
     "execution_count": 24,
     "metadata": {},
     "output_type": "execute_result"
    }
   ],
   "source": [
    "cola_atencion.pop()"
   ]
  },
  {
   "cell_type": "code",
   "execution_count": 25,
   "id": "15a58d1c",
   "metadata": {},
   "outputs": [
    {
     "data": {
      "text/plain": [
       "'Cliente 0'"
      ]
     },
     "execution_count": 25,
     "metadata": {},
     "output_type": "execute_result"
    }
   ],
   "source": [
    "cola_atencion.popleft()"
   ]
  },
  {
   "cell_type": "code",
   "execution_count": 26,
   "id": "794152d0",
   "metadata": {},
   "outputs": [
    {
     "data": {
      "text/plain": [
       "deque(['Cliente A', 'Cliente B', 'Cliente C'])"
      ]
     },
     "execution_count": 26,
     "metadata": {},
     "output_type": "execute_result"
    }
   ],
   "source": [
    "cola_atencion"
   ]
  },
  {
   "cell_type": "code",
   "execution_count": null,
   "id": "48d5083c",
   "metadata": {},
   "outputs": [
    {
     "data": {
      "text/plain": [
       "Counter({'es': 2,\n",
       "         'de': 2,\n",
       "         'python': 1,\n",
       "         'un': 1,\n",
       "         'lenguaje': 1,\n",
       "         'programacion': 1,\n",
       "         'interpretado': 1,\n",
       "         'alto': 1,\n",
       "         'nivel': 1,\n",
       "         'multiparadigma': 1,\n",
       "         'lo': 1,\n",
       "         'qu': 1,\n",
       "         'esignifica': 1,\n",
       "         'que': 1,\n",
       "         'soporta': 1,\n",
       "         'porgramacion': 1,\n",
       "         'orientada': 1,\n",
       "         'a': 1,\n",
       "         'objetos': 1})"
      ]
     },
     "execution_count": 29,
     "metadata": {},
     "output_type": "execute_result"
    }
   ],
   "source": [
    "from collections import Counter\n",
    "import re\n",
    "texto = \"Python es un lenguaje de programacion interpretado de alto nivel, es multiparadigma, lo qu esignifica que soporta porgramacion orientada a objetos.\"\n",
    "palabras = re.findall(r'\\b\\w+\\b',texto.lower())\n",
    "# conteto de palabras\n",
    "conteo = Counter(palabras)\n",
    "conteo"
   ]
  },
  {
   "cell_type": "code",
   "execution_count": null,
   "id": "152d3f54",
   "metadata": {},
   "outputs": [],
   "source": []
  }
 ],
 "metadata": {
  "kernelspec": {
   "display_name": "Python 3",
   "language": "python",
   "name": "python3"
  },
  "language_info": {
   "codemirror_mode": {
    "name": "ipython",
    "version": 3
   },
   "file_extension": ".py",
   "mimetype": "text/x-python",
   "name": "python",
   "nbconvert_exporter": "python",
   "pygments_lexer": "ipython3",
   "version": "3.12.8"
  }
 },
 "nbformat": 4,
 "nbformat_minor": 5
}
