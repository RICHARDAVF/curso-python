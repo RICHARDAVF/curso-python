{
 "cells": [
  {
   "cell_type": "code",
   "execution_count": 114,
   "id": "3b0833bb",
   "metadata": {},
   "outputs": [
    {
     "name": "stdout",
     "output_type": "stream",
     "text": [
      "Hola, mi nombre es Juan y tengo 30 años.\n",
      "Hola, mi nombre es Ana y tengo 22 años.\n",
      "Ana está estudiando la carrera Ingeniería de software.\n",
      "Juan, 30 años\n",
      "Estudiante(nombre=Ana,edad= 22,carrera=Ingeniería de software)\n",
      "Representación de p1: Persona(nombre=Juan, edad=30)\n",
      "Representación de e1: Persona(nombre=Ana, edad=22)\n"
     ]
    }
   ],
   "source": [
    "# Declaracion de una clase\n",
    "class Persona:\n",
    "    \"\"\"\n",
    "        Clase que representa a una persona con nombre y edad.\n",
    "    \"\"\"\n",
    "    def __init__(self,nombre,edad):\n",
    "        \"\"\"\n",
    "        Inicializa una instancia de la clase Persona.\n",
    "        :param nombre: Nombre de la persona.\n",
    "        :param edad: Edad de la persona.\n",
    "        \"\"\"\n",
    "        self.nombre = nombre\n",
    "        self.edad = edad\n",
    "    def saludar(self):\n",
    "        \"\"\"\n",
    "        Imprime un saludo personalizado.\n",
    "        \"\"\"\n",
    "        print(f\"Hola, mi nombre es {self.nombre} y tengo {self.edad} años.\")\n",
    "    def __str__(self):\n",
    "        \"\"\"\n",
    "        Devuelve una representación en cadena de la persona.\n",
    "        :return: Cadena con el nombre y la edad de la persona.\n",
    "        \"\"\"\n",
    "        return f\"{self.nombre}, {self.edad} años\"\n",
    "    def __repr__(self):\n",
    "        \"\"\"\n",
    "        Devuelve una representación en cadena de la persona para depuración.\n",
    "        :return: Cadena con el nombre y la edad de la persona.\n",
    "        \"\"\"\n",
    "        return f\"Persona(nombre={self.nombre}, edad={self.edad})\"\n",
    "### HERENCIA ###\n",
    "class Estudiante(Persona):\n",
    "    \"\"\"\n",
    "        Clase que representa a un estudiante, hereda de Persona.\n",
    "    \"\"\"\n",
    "    def __init__(self,nombre,edad,carrera):\n",
    "        \"\"\"\n",
    "        Inicializa una instancia de la clase Estudiante.\n",
    "        :param nombre: Nombre del estudiante.\n",
    "        :param edad: Edad del estudiante.\n",
    "        :param carrera: Carrera del estudiante.\n",
    "        \"\"\"\n",
    "        super().__init__(nombre,edad)\n",
    "        self.carrera = carrera\n",
    "    def estudiar(self):\n",
    "        \"\"\"\n",
    "        Imprime un mensaje indicando que el estudiante está estudiando.\n",
    "        \"\"\"\n",
    "        print(f\"{self.nombre} está estudiando la carrera {self.carrera}.\")\n",
    "    def __str__(self):\n",
    "        \"\"\"\n",
    "        Devuelve una representación en cadena del estudiante.\n",
    "        :return: Cadena con el nombre, la edad y la carrera del estudiante.\n",
    "        \"\"\"\n",
    "        return f\"Estudiante(nombre={self.nombre},edad= {self.edad},carrera={self.carrera})\"\n",
    "p1 = Persona(\"Juan\",30)\n",
    "e1 = Estudiante(\"Ana\",22,\"Ingeniería de software\")\n",
    "\n",
    "# LLamada a los métodos\n",
    "p1.saludar()\n",
    "e1.saludar()\n",
    "e1.estudiar()\n",
    "\n",
    "print(p1)\n",
    "print(e1)\n",
    "print(f\"Representación de p1: {repr(p1)}\")\n",
    "print(f\"Representación de e1: {repr(e1)}\")"
   ]
  },
  {
   "cell_type": "code",
   "execution_count": 115,
   "id": "45468eb0",
   "metadata": {},
   "outputs": [],
   "source": [
    "class CuentaBancaria:\n",
    "    \"\"\"\n",
    "        Clase que representa una cuenta bancaria.\n",
    "    \"\"\"\n",
    "    def __init__(self,propietario,saldo_inicial=0):\n",
    "        \"\"\"\n",
    "        Inicializa una instancia de la clase CuentaBancaria.\n",
    "        :param propietario: Nombre del propietario de la cuenta.\n",
    "        :param saldo_inicial: Saldo inicial de la cuenta (por defecto 0).\n",
    "        \"\"\"\n",
    "        self.propietario = propietario # atributo publico\n",
    "        self.__saldo = saldo_inicial # atributo protegido| privado\n",
    "    @property\n",
    "    def saldo(self):\n",
    "        return self.__saldo\n",
    "    def obtener_saldo(self):\n",
    "        return self.__saldo\n",
    "    def depositar(self,cantidad):\n",
    "        \"\"\"\n",
    "        Deposita una cantidad en la cuenta.\n",
    "        :param cantidad: Cantidad a depositar.\n",
    "        \"\"\"\n",
    "        if cantidad > 0:\n",
    "            self.__saldo += cantidad\n",
    "            print(f\"Depósito de {cantidad} realizado. Nuevo saldo: {self.__saldo}\")\n",
    "        else:\n",
    "            print(\"Cantidad a depositar debe ser mayor que 0.\")\n",
    "    def retirar(self,cantidad):\n",
    "        \"\"\"\n",
    "        Retira una cantidad de la cuenta.\n",
    "        :param cantidad: Cantidad a retirar.\n",
    "        \"\"\"\n",
    "        if 0 < cantidad <= self.__saldo:\n",
    "            self.__saldo -= cantidad\n",
    "            print(f\"Retiro de {cantidad} realizado. Nuevo saldo: {self.__saldo}\")\n",
    "        else:\n",
    "            print(\"Cantidad a retirar debe ser mayor que 0 y menor o igual al saldo actual.\")\n",
    "    def __str__(self):\n",
    "        \"\"\"\n",
    "        Devuelve una representación en cadena de la cuenta bancaria.\n",
    "        :return: Cadena con el propietario y el saldo de la cuenta.\n",
    "        \"\"\"\n",
    "        return f\"CuentaBancaria(propietario={self.propietario}, saldo={self.__saldo})\""
   ]
  },
  {
   "cell_type": "code",
   "execution_count": 116,
   "id": "ef8ee0f4",
   "metadata": {},
   "outputs": [
    {
     "name": "stdout",
     "output_type": "stream",
     "text": [
      "CuentaBancaria(propietario=Carlos, saldo=1000)\n"
     ]
    }
   ],
   "source": [
    "per1 = CuentaBancaria(\"Carlos\",1000)\n",
    "print(per1)"
   ]
  },
  {
   "cell_type": "code",
   "execution_count": 117,
   "id": "e7be5c6d",
   "metadata": {},
   "outputs": [
    {
     "name": "stdout",
     "output_type": "stream",
     "text": [
      "Depósito de 500 realizado. Nuevo saldo: 1500\n"
     ]
    }
   ],
   "source": [
    "per1.depositar(500)"
   ]
  },
  {
   "cell_type": "code",
   "execution_count": 118,
   "id": "ab734acd",
   "metadata": {},
   "outputs": [
    {
     "name": "stdout",
     "output_type": "stream",
     "text": [
      "Retiro de 200 realizado. Nuevo saldo: 1300\n"
     ]
    }
   ],
   "source": [
    "per1.retirar(200)"
   ]
  },
  {
   "cell_type": "code",
   "execution_count": 119,
   "id": "37823288",
   "metadata": {},
   "outputs": [
    {
     "data": {
      "text/plain": [
       "'Carlos'"
      ]
     },
     "execution_count": 119,
     "metadata": {},
     "output_type": "execute_result"
    }
   ],
   "source": [
    "per1.propietario"
   ]
  },
  {
   "cell_type": "code",
   "execution_count": 120,
   "id": "0e6d9964",
   "metadata": {},
   "outputs": [
    {
     "data": {
      "text/plain": [
       "(1300, 1300)"
      ]
     },
     "execution_count": 120,
     "metadata": {},
     "output_type": "execute_result"
    }
   ],
   "source": [
    "per1.saldo,per1.obtener_saldo()"
   ]
  },
  {
   "cell_type": "code",
   "execution_count": 121,
   "id": "e3d6ffcd",
   "metadata": {},
   "outputs": [
    {
     "name": "stdout",
     "output_type": "stream",
     "text": [
      "Retiro de 300 realizado. Nuevo saldo: 1000\n"
     ]
    }
   ],
   "source": [
    "per1.retirar(300)"
   ]
  },
  {
   "cell_type": "code",
   "execution_count": 122,
   "id": "6ca9ae7a",
   "metadata": {},
   "outputs": [
    {
     "name": "stdout",
     "output_type": "stream",
     "text": [
      "Saldo final de la cuenta de Carlos: 1000\n"
     ]
    }
   ],
   "source": [
    "saldo_final = per1.obtener_saldo()\n",
    "print(f\"Saldo final de la cuenta de {per1.propietario}: {saldo_final}\")\n"
   ]
  },
  {
   "cell_type": "code",
   "execution_count": 123,
   "id": "3d6b1f4e",
   "metadata": {},
   "outputs": [],
   "source": [
    "class Libro:\n",
    "    \"\"\"\n",
    "        Clase que representa un libro.\n",
    "    \"\"\"\n",
    "    def __init__(self,titulo,autor,year):\n",
    "        \"\"\"\n",
    "        Inicializa una instancia de la clase Libro.\n",
    "        :param titulo: Título del libro.\n",
    "        :param autor: Autor del libro.\n",
    "        \"\"\"\n",
    "        self.titulo = titulo\n",
    "        self.autor = autor\n",
    "        self.year = year\n",
    "    def __str__(self):\n",
    "        \"\"\"\n",
    "        Devuelve una representación en cadena del libro.\n",
    "        :return: Cadena con el título y el autor del libro.\n",
    "        \"\"\"\n",
    "        return f\"Libro(titulo={self.titulo}, autor={self.autor},year={self.year})\"\n",
    "class Biblioteca:\n",
    "    \"\"\"\n",
    "        Clase que representa una biblioteca.\n",
    "    \"\"\"\n",
    "    def __init__(self):\n",
    "        \"\"\"\n",
    "        Inicializa una instancia de la clase Biblioteca.\n",
    "        \"\"\"\n",
    "        self.libros = []\n",
    "    def agregar_libro(self,libro):\n",
    "        \"\"\"\n",
    "        Agrega un libro a la biblioteca.\n",
    "        :param libro: Instancia de la clase Libro a agregar.\n",
    "        \"\"\"\n",
    "        if isinstance(libro,Libro):\n",
    "            self.libros.append(libro)\n",
    "            print(f\"Libro '{libro.titulo}' agregado a la biblioteca.\")\n",
    "        else:\n",
    "            print(\"El objeto proporcionado no es una instancia de la clase Libro.\")\n",
    "    def mostrar_libros(self):\n",
    "        \"\"\"\n",
    "        Muestra todos los libros en la biblioteca.\n",
    "        \"\"\"\n",
    "        if not self.libros:\n",
    "            print(\"No hay libros en la biblioteca.\")\n",
    "            return\n",
    "        print(\"Libros en la biblioteca:\")\n",
    "        for libro in self.libros:\n",
    "            print(libro)\n",
    "    def buscar_por_titulo(self,titulo):\n",
    "        \"\"\"\n",
    "        Busca un libro por título en la biblioteca.\n",
    "        :param titulo: Título del libro a buscar.\n",
    "        :return: Lista de libros que coinciden con el título.\n",
    "        \"\"\"\n",
    "        resultados = [libro for libro in self.libros if libro.titulo.lower() == titulo.lower()]\n",
    "        return resultados"
   ]
  },
  {
   "cell_type": "code",
   "execution_count": 124,
   "id": "3c642937",
   "metadata": {},
   "outputs": [],
   "source": [
    "libro1 = Libro(\"1984\",\"George Orwell\",1949)\n",
    "libro2 = Libro(\"Cien años de soledad\",\"Gabriel García Márquez\",1967)\n",
    "libro3 = Libro(\"Don Quijote de la Mancha\",\"Miguel de Cervantes\",1605)\n",
    "mi_biblioteca = Biblioteca()\n"
   ]
  },
  {
   "cell_type": "code",
   "execution_count": 125,
   "id": "a0204f82",
   "metadata": {},
   "outputs": [
    {
     "name": "stdout",
     "output_type": "stream",
     "text": [
      "No hay libros en la biblioteca.\n"
     ]
    }
   ],
   "source": [
    "mi_biblioteca.mostrar_libros()"
   ]
  },
  {
   "cell_type": "code",
   "execution_count": 126,
   "id": "68c9ffe5",
   "metadata": {},
   "outputs": [
    {
     "name": "stdout",
     "output_type": "stream",
     "text": [
      "Libro '1984' agregado a la biblioteca.\n",
      "Libro 'Cien años de soledad' agregado a la biblioteca.\n",
      "Libro 'Don Quijote de la Mancha' agregado a la biblioteca.\n",
      "El objeto proporcionado no es una instancia de la clase Libro.\n"
     ]
    }
   ],
   "source": [
    "mi_biblioteca.agregar_libro(libro1)\n",
    "mi_biblioteca.agregar_libro(libro2)\n",
    "mi_biblioteca.agregar_libro(libro3)\n",
    "mi_biblioteca.agregar_libro(\"Coquito\")"
   ]
  },
  {
   "cell_type": "code",
   "execution_count": 127,
   "id": "1886e4ff",
   "metadata": {},
   "outputs": [
    {
     "name": "stdout",
     "output_type": "stream",
     "text": [
      "Libros en la biblioteca:\n",
      "Libro(titulo=1984, autor=George Orwell,year=1949)\n",
      "Libro(titulo=Cien años de soledad, autor=Gabriel García Márquez,year=1967)\n",
      "Libro(titulo=Don Quijote de la Mancha, autor=Miguel de Cervantes,year=1605)\n"
     ]
    }
   ],
   "source": [
    "mi_biblioteca.mostrar_libros()\n"
   ]
  },
  {
   "cell_type": "code",
   "execution_count": 129,
   "id": "356a9aed",
   "metadata": {},
   "outputs": [
    {
     "name": "stdout",
     "output_type": "stream",
     "text": [
      "Libros encontrados:\n",
      "Libro(titulo=1984, autor=George Orwell,year=1949)\n"
     ]
    }
   ],
   "source": [
    "resultados = mi_biblioteca.buscar_por_titulo(\"1984\")\n",
    "if resultados:\n",
    "    print(\"Libros encontrados:\")\n",
    "    for libro in resultados:\n",
    "        print(libro)    \n",
    "else:\n",
    "    print(\"No se encontraron libros con ese título.\")"
   ]
  },
  {
   "cell_type": "code",
   "execution_count": null,
   "id": "187e337a",
   "metadata": {},
   "outputs": [],
   "source": []
  }
 ],
 "metadata": {
  "kernelspec": {
   "display_name": "Python 3",
   "language": "python",
   "name": "python3"
  },
  "language_info": {
   "codemirror_mode": {
    "name": "ipython",
    "version": 3
   },
   "file_extension": ".py",
   "mimetype": "text/x-python",
   "name": "python",
   "nbconvert_exporter": "python",
   "pygments_lexer": "ipython3",
   "version": "3.12.8"
  }
 },
 "nbformat": 4,
 "nbformat_minor": 5
}
