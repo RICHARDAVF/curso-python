{
 "cells": [
  {
   "cell_type": "markdown",
   "id": "81666100",
   "metadata": {},
   "source": [
    "# Diccionarios"
   ]
  },
  {
   "cell_type": "markdown",
   "id": "b50a3d22",
   "metadata": {},
   "source": [
    "### Creación de diccionarios"
   ]
  },
  {
   "cell_type": "code",
   "execution_count": 127,
   "id": "8f946a86",
   "metadata": {},
   "outputs": [],
   "source": [
    "# creacion de un diccionario de personas\n",
    "\n",
    "persona = {\n",
    "    \"nombre\":\"Ana\",\n",
    "    \"edad\":28,\n",
    "    \"ciudad\":\"Madrid\",\n",
    "    # \"auto\":\"Toyota\"\n",
    "}"
   ]
  },
  {
   "cell_type": "code",
   "execution_count": 128,
   "id": "895577e2",
   "metadata": {},
   "outputs": [
    {
     "name": "stdout",
     "output_type": "stream",
     "text": [
      "Nombre:Ana\n",
      "Edad:28\n"
     ]
    }
   ],
   "source": [
    "# Accediendo a sus valores\n",
    "print(f\"Nombre:{persona['nombre']}\")\n",
    "print(f\"Edad:{persona['edad']}\")"
   ]
  },
  {
   "cell_type": "code",
   "execution_count": 129,
   "id": "a62a642d",
   "metadata": {},
   "outputs": [
    {
     "name": "stdout",
     "output_type": "stream",
     "text": [
      "Edad actualizada:29\n"
     ]
    }
   ],
   "source": [
    "# Modificar un valor\n",
    "persona[\"edad\"] = 29\n",
    "print(f\"Edad actualizada:{persona['edad']}\")"
   ]
  },
  {
   "cell_type": "code",
   "execution_count": 130,
   "id": "c1efaf32",
   "metadata": {},
   "outputs": [
    {
     "name": "stdout",
     "output_type": "stream",
     "text": [
      "Profesión:Ingeniera\n"
     ]
    }
   ],
   "source": [
    "# Agregar un nuevo valor\n",
    "persona[\"profesion\"] = \"Ingeniera\"\n",
    "print(f\"Profesión:{persona['profesion']}\")\n"
   ]
  },
  {
   "cell_type": "markdown",
   "id": "23d94e9b",
   "metadata": {},
   "source": [
    "### Uso del metodo `get`"
   ]
  },
  {
   "cell_type": "code",
   "execution_count": 131,
   "id": "93054d3b",
   "metadata": {},
   "outputs": [
    {
     "name": "stdout",
     "output_type": "stream",
     "text": [
      "Auto:No lo tiene\n",
      "Ciudad de residencia:Madrid\n",
      "Pais de residencia:No especificado\n"
     ]
    }
   ],
   "source": [
    "# Usar el metodo get() para acceder a un valor\n",
    "# Es util por que no lanza un error si la clave no existe\n",
    "# Podemos definir un valor po defecto si la clave no existe\n",
    "\n",
    "auto = persona.get(\"auto\",\"No lo tiene\")\n",
    "print(f\"Auto:{auto}\")\n",
    "\n",
    "print(f\"Ciudad de residencia:{persona.get('ciudad','No especificada')}\")\n",
    "print(f\"Pais de residencia:{persona.get('pais','No especificado')}\")"
   ]
  },
  {
   "cell_type": "markdown",
   "id": "7757cf57",
   "metadata": {},
   "source": [
    "### Metodos\n",
    " `keys()`, `values()`, `items()`"
   ]
  },
  {
   "cell_type": "code",
   "execution_count": 132,
   "id": "1ad8d1f3",
   "metadata": {},
   "outputs": [],
   "source": [
    "# Metodo para obtener las claves, los vlaores y los pares clave-valor\n",
    "invetario = {\n",
    "    \"manzanas\":50,\n",
    "    \"naranjas\":75,\n",
    "    \"platanos\":100\n",
    "}"
   ]
  },
  {
   "cell_type": "code",
   "execution_count": 133,
   "id": "0fd80654",
   "metadata": {},
   "outputs": [
    {
     "name": "stdout",
     "output_type": "stream",
     "text": [
      "La claves : ['manzanas', 'naranjas', 'platanos']\n"
     ]
    }
   ],
   "source": [
    "# Obtener todas las claves\n",
    "print(f\"La claves : {list(invetario.keys())}\")"
   ]
  },
  {
   "cell_type": "code",
   "execution_count": 134,
   "id": "7eaf9996",
   "metadata": {},
   "outputs": [
    {
     "name": "stdout",
     "output_type": "stream",
     "text": [
      "Los valores : [50, 75, 100]\n"
     ]
    }
   ],
   "source": [
    "# Obtener todos los valores\n",
    "print(f\"Los valores : {list(invetario.values())}\")"
   ]
  },
  {
   "cell_type": "code",
   "execution_count": 135,
   "id": "26f791dd",
   "metadata": {},
   "outputs": [
    {
     "name": "stdout",
     "output_type": "stream",
     "text": [
      "Pares clave-valor : [('manzanas', 50), ('naranjas', 75), ('platanos', 100)]\n"
     ]
    }
   ],
   "source": [
    "# Obtener los pares clave-valor\n",
    "items = invetario.items()\n",
    "print(f\"Pares clave-valor : {list(items)}\")"
   ]
  },
  {
   "cell_type": "code",
   "execution_count": 136,
   "id": "225a6fbe",
   "metadata": {},
   "outputs": [
    {
     "name": "stdout",
     "output_type": "stream",
     "text": [
      "\n",
      "Iterando sobre las claves:\n",
      "Producto: manzanas\n",
      "Producto: naranjas\n",
      "Producto: platanos\n"
     ]
    }
   ],
   "source": [
    "# Itetar sobre las claves.\n",
    "print(\"\\nIterando sobre las claves:\")\n",
    "for clave in invetario:\n",
    "    print(f\"Producto: {clave}\")"
   ]
  },
  {
   "cell_type": "code",
   "execution_count": 137,
   "id": "de8addc8",
   "metadata": {},
   "outputs": [
    {
     "name": "stdout",
     "output_type": "stream",
     "text": [
      "\n",
      "Iterando sobre los valores:\n",
      "Cantidad de manzanas: 50\n",
      "Cantidad de naranjas: 75\n",
      "Cantidad de platanos: 100\n"
     ]
    }
   ],
   "source": [
    "# Iterando sobre los valores\n",
    "print(\"\\nIterando sobre los valores:\")\n",
    "for clave in invetario:\n",
    "    print(f\"Cantidad de {clave}: {invetario[clave]}\")"
   ]
  },
  {
   "cell_type": "code",
   "execution_count": 138,
   "id": "e04e6ddc",
   "metadata": {},
   "outputs": [
    {
     "name": "stdout",
     "output_type": "stream",
     "text": [
      "\n",
      "Iterando sobre los pares clave-valor:\n",
      "El producto: manzanas,tiene un cantidad de: 50\n",
      "El producto: naranjas,tiene un cantidad de: 75\n",
      "El producto: platanos,tiene un cantidad de: 100\n"
     ]
    }
   ],
   "source": [
    "# Itarando sobre los pares clave-valor\n",
    "print(\"\\nIterando sobre los pares clave-valor:\")\n",
    "for clave,valor in invetario.items():\n",
    "    print(f\"El producto: {clave},tiene un cantidad de: {valor}\")"
   ]
  },
  {
   "cell_type": "markdown",
   "id": "3023a136",
   "metadata": {},
   "source": [
    "### Diccionarios anidados\n",
    "\n",
    "Los diccionarios anidados pueden contener otros diccionarios como valores."
   ]
  },
  {
   "cell_type": "code",
   "execution_count": 139,
   "id": "0670d522",
   "metadata": {},
   "outputs": [],
   "source": [
    "# Diccionario anidado para representar informacion de estudiantes\n",
    "estudiantes = {\n",
    "    \"101\":{\n",
    "        \"nombre\":\"Luis\",\n",
    "        \"carrera\":\"Ingenieria\",\n",
    "        \"notas\":[14,15,19]\n",
    "    },\n",
    "    \"102\":{\n",
    "        \"nombre\":\"Maria\",\n",
    "        \"carrera\":\"Medicina\",\n",
    "        \"notas\":[18,17,20]\n",
    "    }\n",
    "}"
   ]
  },
  {
   "cell_type": "code",
   "execution_count": 140,
   "id": "aff007bc",
   "metadata": {},
   "outputs": [
    {
     "name": "stdout",
     "output_type": "stream",
     "text": [
      "NOmbre del estudiante 101: Luis\n",
      "NOmbre del estudiante 102: Maria\n"
     ]
    }
   ],
   "source": [
    "# Acceder a los datos del estudiante\n",
    "\n",
    "print(f\"NOmbre del estudiante 101: {estudiantes['101']['nombre']}\")\n",
    "print(f\"NOmbre del estudiante 102: {estudiantes['102']['nombre']}\")"
   ]
  },
  {
   "cell_type": "code",
   "execution_count": 141,
   "id": "5da40f94",
   "metadata": {},
   "outputs": [
    {
     "name": "stdout",
     "output_type": "stream",
     "text": [
      "La nueva carrera de Luis es: Arquitectura\n"
     ]
    }
   ],
   "source": [
    "# Modificar un dato\n",
    "estudiantes[\"101\"][\"carrera\"] = \"Arquitectura\"\n",
    "print(f\"La nueva carrera de Luis es: {estudiantes['101']['carrera']}\")"
   ]
  },
  {
   "cell_type": "markdown",
   "id": "fc66d38f",
   "metadata": {},
   "source": [
    "### Iterando sobre diccionarios"
   ]
  },
  {
   "cell_type": "code",
   "execution_count": 142,
   "id": "cc0ff05f",
   "metadata": {},
   "outputs": [],
   "source": [
    "# Iteracion simple sobre un diccionario\n",
    "productos = {\n",
    "    \"codigo01\":\"Laptop\",\n",
    "    \"codigo02\":\"Smartphone\",\n",
    "    \"codigo03\":\"Tablet\"\n",
    "}\n"
   ]
  },
  {
   "cell_type": "code",
   "execution_count": 143,
   "id": "adfa6e2a",
   "metadata": {},
   "outputs": [
    {
     "name": "stdout",
     "output_type": "stream",
     "text": [
      "El producto con codigo codigo01 es un(a) Laptop\n",
      "El producto con codigo codigo02 es un(a) Smartphone\n",
      "El producto con codigo codigo03 es un(a) Tablet\n"
     ]
    }
   ],
   "source": [
    "# Iteracion usando items() para obtener claves y valores\n",
    "for codigo,producto in productos.items():\n",
    "    print(f\"El producto con codigo {codigo} es un(a) {producto}\")"
   ]
  },
  {
   "cell_type": "markdown",
   "id": "c844f348",
   "metadata": {},
   "source": [
    "### Ejercicios"
   ]
  },
  {
   "cell_type": "code",
   "execution_count": 144,
   "id": "ada3c026",
   "metadata": {},
   "outputs": [],
   "source": [
    "# 1. Agenda de contactos\n",
    "agenda = {}\n",
    "def agregar_contacto(nombre,telefono,email):\n",
    "    agenda[nombre]= {\n",
    "        \"telefono\":telefono,\n",
    "        \"email\":email\n",
    "    }\n",
    "    print(f\"Contacto {nombre} agregado a la agenda.\")"
   ]
  },
  {
   "cell_type": "code",
   "execution_count": 145,
   "id": "0ed04644",
   "metadata": {},
   "outputs": [
    {
     "name": "stdout",
     "output_type": "stream",
     "text": [
      "Contacto Richard agregado a la agenda.\n"
     ]
    }
   ],
   "source": [
    "agregar_contacto(\"Richard\",\"999999999\",\"example@gmail.com\")"
   ]
  },
  {
   "cell_type": "code",
   "execution_count": 146,
   "id": "a8d05a17",
   "metadata": {},
   "outputs": [
    {
     "data": {
      "text/plain": [
       "{'Richard': {'telefono': '999999999', 'email': 'example@gmail.com'}}"
      ]
     },
     "execution_count": 146,
     "metadata": {},
     "output_type": "execute_result"
    }
   ],
   "source": [
    "agenda"
   ]
  },
  {
   "cell_type": "code",
   "execution_count": 147,
   "id": "9774da34",
   "metadata": {},
   "outputs": [
    {
     "name": "stdout",
     "output_type": "stream",
     "text": [
      "Contacto Juan agregado a la agenda.\n"
     ]
    }
   ],
   "source": [
    "agregar_contacto(\"Juan\",\"9888888888\",\"micorreo@gmail.com\")\n"
   ]
  },
  {
   "cell_type": "code",
   "execution_count": 148,
   "id": "7332bdcf",
   "metadata": {},
   "outputs": [
    {
     "data": {
      "text/plain": [
       "{'Richard': {'telefono': '999999999', 'email': 'example@gmail.com'},\n",
       " 'Juan': {'telefono': '9888888888', 'email': 'micorreo@gmail.com'}}"
      ]
     },
     "execution_count": 148,
     "metadata": {},
     "output_type": "execute_result"
    }
   ],
   "source": [
    "agenda"
   ]
  },
  {
   "cell_type": "code",
   "execution_count": 149,
   "id": "f6127d36",
   "metadata": {},
   "outputs": [
    {
     "name": "stdout",
     "output_type": "stream",
     "text": [
      "La frase es: Python es un lenguaje de programacion. Python es facil de aprender.\n",
      "La palabra 'python' aparece 2 veces.\n",
      "La palabra 'es' aparece 2 veces.\n",
      "La palabra 'un' aparece 1 veces.\n",
      "La palabra 'lenguaje' aparece 1 veces.\n",
      "La palabra 'de' aparece 2 veces.\n",
      "La palabra 'programacion' aparece 1 veces.\n",
      "La palabra 'facil' aparece 1 veces.\n",
      "La palabra 'aprender' aparece 1 veces.\n"
     ]
    }
   ],
   "source": [
    "# Ejercicio 2. Contador de palabras\n",
    "frase = \"Python es un lenguaje de programacion. Python es facil de aprender.\"\n",
    "palabras = frase.lower().replace(\",\",\"\").replace(\".\",\"\").split()\n",
    "contador_palabras = {}\n",
    "for palabra in palabras:\n",
    "    contador_palabras[palabra] = contador_palabras.get(palabra,0)+1\n",
    "print(f\"La frase es: {frase}\")\n",
    "for palabra,conteo in contador_palabras.items():\n",
    "    print(f\"La palabra '{palabra}' aparece {conteo} veces.\")"
   ]
  },
  {
   "cell_type": "code",
   "execution_count": 150,
   "id": "1e31f493",
   "metadata": {},
   "outputs": [],
   "source": [
    "# Ejercicio 3: Sistema de invetarios\n",
    "invetario = {\n",
    "    \"manzanas\":50,\n",
    "    \"naranjas\":75,\n",
    "    \"platanos\":100\n",
    "}\n",
    "\n",
    "def agregar_producto(producto,cantidad):\n",
    "    invetario[producto] = invetario.get(producto,0)+cantidad\n",
    "    print(f\"\\nSe agregaron {cantidad} unidades de {producto}.\")\n",
    "    print(f\"Nuevo inventario de {producto}: {invetario[producto]}\")\n",
    "def vender_producto(producto,cantidad):\n",
    "    if producto in invetario and invetario[producto]>=cantidad:\n",
    "        invetario[producto]-=cantidad\n",
    "        print(f\"\\nSe vendieron {cantidad} unidades de {producto}.\")\n",
    "        print(f\"Inventario restante de {producto}: {invetario[producto]}\")\n",
    "    elif producto not in invetario:\n",
    "        print(f\"\\nEl producto {producto} no existe en el inventario.\")\n",
    "    else:\n",
    "        print(f\"\\nNo hay suficiente inventario de {producto} para vender {cantidad} unidades.\")\n",
    "def mostrar_inventario():\n",
    "    print(\"\\nInventario actual:\")\n",
    "    for producto,cantidad in invetario.items():\n",
    "        print(f\"Producto:{producto}: {cantidad} unidades\")"
   ]
  },
  {
   "cell_type": "code",
   "execution_count": 151,
   "id": "e4e13510",
   "metadata": {},
   "outputs": [
    {
     "name": "stdout",
     "output_type": "stream",
     "text": [
      "\n",
      "Se agregaron 10 unidades de manzanas.\n",
      "Nuevo inventario de manzanas: 60\n"
     ]
    }
   ],
   "source": [
    "agregar_producto(\"manzanas\",10)"
   ]
  },
  {
   "cell_type": "code",
   "execution_count": 152,
   "id": "71cf0034",
   "metadata": {},
   "outputs": [
    {
     "name": "stdout",
     "output_type": "stream",
     "text": [
      "\n",
      "Se vendieron 20 unidades de naranjas.\n",
      "Inventario restante de naranjas: 55\n"
     ]
    }
   ],
   "source": [
    "vender_producto(\"naranjas\",20)"
   ]
  },
  {
   "cell_type": "code",
   "execution_count": 153,
   "id": "6f9310f3",
   "metadata": {},
   "outputs": [
    {
     "name": "stdout",
     "output_type": "stream",
     "text": [
      "\n",
      "El producto uvas no existe en el inventario.\n"
     ]
    }
   ],
   "source": [
    "vender_producto(\"uvas\",50)\n"
   ]
  },
  {
   "cell_type": "code",
   "execution_count": 154,
   "id": "b9711f6b",
   "metadata": {},
   "outputs": [
    {
     "name": "stdout",
     "output_type": "stream",
     "text": [
      "\n",
      "Inventario actual:\n",
      "Producto:manzanas: 60 unidades\n",
      "Producto:naranjas: 55 unidades\n",
      "Producto:platanos: 100 unidades\n"
     ]
    }
   ],
   "source": [
    "mostrar_inventario()"
   ]
  },
  {
   "cell_type": "code",
   "execution_count": null,
   "id": "2e519f2b",
   "metadata": {},
   "outputs": [],
   "source": []
  }
 ],
 "metadata": {
  "kernelspec": {
   "display_name": "Python 3",
   "language": "python",
   "name": "python3"
  },
  "language_info": {
   "codemirror_mode": {
    "name": "ipython",
    "version": 3
   },
   "file_extension": ".py",
   "mimetype": "text/x-python",
   "name": "python",
   "nbconvert_exporter": "python",
   "pygments_lexer": "ipython3",
   "version": "3.12.8"
  }
 },
 "nbformat": 4,
 "nbformat_minor": 5
}
