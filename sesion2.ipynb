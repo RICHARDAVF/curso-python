{
 "cells": [
  {
   "cell_type": "markdown",
   "id": "3f688b30",
   "metadata": {},
   "source": [
    "# Estructuras de control-Condicionales"
   ]
  },
  {
   "cell_type": "markdown",
   "id": "66749561",
   "metadata": {},
   "source": [
    "### 1. Declaracion if, elif, else\n",
    "La estrutura if, elif, else permite ejecutar diferentes bloques de codigo segun una o varias condiciones"
   ]
  },
  {
   "cell_type": "code",
   "execution_count": 7,
   "id": "f6a98ce8",
   "metadata": {},
   "outputs": [
    {
     "name": "stdout",
     "output_type": "stream",
     "text": [
      "La escala corresponde a C\n"
     ]
    }
   ],
   "source": [
    "# Ejemplo 1: SIstema de calificaciones simple\n",
    "nota = 0.6\n",
    "#ESCALAS AD,A,B,C\n",
    "if nota ==20:\n",
    "    print(\"La escala corresponde a AD\")\n",
    "elif nota >=13 and nota <20:\n",
    "    print(\"La escala corresponde a A\")\n",
    "elif nota >=10 and nota <13:\n",
    "    print(\"La escala corresponde a B\")\n",
    "elif nota >=0 and nota <10:\n",
    "    print(\"La escala corresponde a C\")\n",
    "else:\n",
    "    print(\"Nota no valida\")"
   ]
  },
  {
   "cell_type": "code",
   "execution_count": 10,
   "id": "fe806410",
   "metadata": {},
   "outputs": [
    {
     "name": "stdout",
     "output_type": "stream",
     "text": [
      "Eres mayor de edad\n"
     ]
    }
   ],
   "source": [
    "# Ejemplo 2: Verificar si es mayor de edad\n",
    "edad = 50\n",
    "if edad>=18:\n",
    "    print(\"Eres mayor de edad\")\n",
    "else:\n",
    "    print(\"Eres menor de edad\")\n"
   ]
  },
  {
   "cell_type": "markdown",
   "id": "4318ad17",
   "metadata": {},
   "source": [
    "### 2. Operaciones de comparacion multiple"
   ]
  },
  {
   "cell_type": "code",
   "execution_count": 13,
   "id": "bd436996",
   "metadata": {},
   "outputs": [
    {
     "name": "stdout",
     "output_type": "stream",
     "text": [
      "El temperatura no es agradable\n"
     ]
    }
   ],
   "source": [
    "# Ejemplo 1: Verificar rango de temperatura con 'and'\n",
    "temperatura = 10\n",
    "if temperatura>=20 and temperatura<=30:\n",
    "    print(\"El temperatura es agradable\")\n",
    "else:\n",
    "    print(\"El temperatura no es agradable\")"
   ]
  },
  {
   "cell_type": "code",
   "execution_count": 15,
   "id": "e3ea7475",
   "metadata": {},
   "outputs": [
    {
     "name": "stdout",
     "output_type": "stream",
     "text": [
      "No puedes comunicarte en Francia\n"
     ]
    }
   ],
   "source": [
    "# EJemplo 2: Verficacion de codiciones multiples con 'or'\n",
    "pais = \"Francia\"\n",
    "idioma = \"Español\"\n",
    "if pais==\"Francia\" and (idioma==\"Frances\" or idioma==\"Ingles\"):\n",
    "    print(\"Puedes comunicarte en Francia\")\n",
    "else:\n",
    "    print(\"No puedes comunicarte en Francia\")"
   ]
  },
  {
   "cell_type": "markdown",
   "id": "22e00df4",
   "metadata": {},
   "source": [
    "### 3. Condiciones anidadas "
   ]
  },
  {
   "cell_type": "code",
   "execution_count": 18,
   "id": "beeda522",
   "metadata": {},
   "outputs": [
    {
     "name": "stdout",
     "output_type": "stream",
     "text": [
      "Eres menor de edad, no puedes entrar.\n"
     ]
    }
   ],
   "source": [
    "edad = 17\n",
    "es_estudiante = True\n",
    "if edad>=18:\n",
    "    print(\"Eres mayor de edad\")\n",
    "    if es_estudiante:\n",
    "        print(\"Tienes derecho a descuento estudiantil\")\n",
    "    else:\n",
    "        print(\"No tienes derecho a descuento estudiantil\")\n",
    "else:\n",
    "    print(\"Eres menor de edad, no puedes entrar.\")"
   ]
  },
  {
   "cell_type": "markdown",
   "id": "3b5bb6fb",
   "metadata": {},
   "source": [
    "### Operadores ternarios"
   ]
  },
  {
   "cell_type": "code",
   "execution_count": 22,
   "id": "ee7871d3",
   "metadata": {},
   "outputs": [
    {
     "name": "stdout",
     "output_type": "stream",
     "text": [
      "Mayor de edad\n",
      "Mayor de edad\n"
     ]
    }
   ],
   "source": [
    "# Ejemplo 1: Determinar el estado de una persona\n",
    "edad = 20\n",
    "estado = \"Mayor de edad\" if edad >= 18 else \"Menor de edad\"\n",
    "print(estado)\n",
    "\n",
    "if edad>=18:\n",
    "    estado = \"Mayor de edad\"\n",
    "else:\n",
    "    estado = \"Menor de edad\"\n",
    "print(estado)"
   ]
  },
  {
   "cell_type": "code",
   "execution_count": 24,
   "id": "fb015485",
   "metadata": {},
   "outputs": [
    {
     "name": "stdout",
     "output_type": "stream",
     "text": [
      "Nivel del jugador: Basico\n"
     ]
    }
   ],
   "source": [
    "# Ejemplo 2: ASignar valor basado en una condicion\n",
    "puntuacion = 50\n",
    "nivel = \"Avanzado\" if puntuacion > 80 else \"Basico\"\n",
    "print(f\"Nivel del jugador: {nivel}\")"
   ]
  },
  {
   "cell_type": "markdown",
   "id": "155b446d",
   "metadata": {},
   "source": [
    "### Ejercicios"
   ]
  },
  {
   "cell_type": "code",
   "execution_count": 28,
   "id": "33f36530",
   "metadata": {},
   "outputs": [
    {
     "name": "stdout",
     "output_type": "stream",
     "text": [
      "Calificacion Deficiente\n"
     ]
    }
   ],
   "source": [
    "# Ejercicio 1. Sistema de calificaciones, solicitar la nota del estudiante (0-20)\n",
    "nota = float(input(\"Ingrese la nota del estudiante (0-20): \"))\n",
    "if nota==20:\n",
    "    print(\"Calificacion sobresaliente\")\n",
    "elif 13<=nota<20:\n",
    "    print(\"Calificacion Aprobatoria\")\n",
    "elif 10<=nota<13:\n",
    "    print(\"Calificacion Regular\")\n",
    "elif 0<=nota<10:\n",
    "    print(\"Calificacion Deficiente\")\n",
    "else:\n",
    "    print(\"Nota no valida\")"
   ]
  },
  {
   "cell_type": "code",
   "execution_count": 34,
   "id": "010225f5",
   "metadata": {},
   "outputs": [
    {
     "name": "stdout",
     "output_type": "stream",
     "text": [
      "El precio original del producto es: $150.00\n",
      "El descuento aplicado es: 20.0%\n",
      "El precio final con descuento es: $120.00\n"
     ]
    }
   ],
   "source": [
    "# Ejercicio 2: Calculadora de decuentos, Definir precio y las categorias de los productos\n",
    "precio_producto = 150\n",
    "categoria_producto = \"Ropa\"  # Puede ser \"Ropa\", \"Alimentos\", \"Electronica\n",
    "descuento = 0\n",
    "# Asinganar descuento basado en la categoria\n",
    "if categoria_producto==\"Electronica\":\n",
    "    descuento = 0.10  # 10% de descuento\n",
    "elif categoria_producto==\"Ropa\":\n",
    "    descuento = 0.20  # 20% de descuento\n",
    "elif categoria_producto==\"Alimentos\":\n",
    "    descuento = 0.05\n",
    "else:\n",
    "    print(\"Categoria no valida\")\n",
    "# Calcular precio final\n",
    "precio_final = precio_producto * (1 - descuento)\n",
    "print(f\"El precio original del producto es: ${precio_producto:.2f}\")\n",
    "print(f\"El descuento aplicado es: {descuento*100}%\")\n",
    "print(f\"El precio final con descuento es: ${precio_final:.2f}\")\n",
    "\n"
   ]
  },
  {
   "cell_type": "code",
   "execution_count": 38,
   "id": "0b6e5de0",
   "metadata": {},
   "outputs": [
    {
     "name": "stdout",
     "output_type": "stream",
     "text": [
      "Tu adivinanza es mayor que el numero secreto\n"
     ]
    }
   ],
   "source": [
    "# Ejercicio 3: Juego de adivinanza, genera un numero aleatorio entre 1 y 10\n",
    "import random\n",
    "# generamos el numero aleatorio\n",
    "numero_secreto = random.randint(1, 10)\n",
    "# Solicitamos al usuario que adivine el numero\n",
    "adivinanza = int(input(\"Adivina el numero secreto entre 1 y 10: \"))\n",
    "\n",
    "# comprobar si la adivinanza es correcta\n",
    "if adivinanza==numero_secreto:\n",
    "    print(f\"¡Felicidades! Adivinaste el numero secreto.: {numero_secreto}\")\n",
    "elif adivinanza>numero_secreto:\n",
    "    print(f\"Tu adivinanza es mayor que el numero secreto\")\n",
    "else:\n",
    "    print(f\"Tu adivinanza es menor que el numero secreto\")"
   ]
  },
  {
   "cell_type": "code",
   "execution_count": null,
   "id": "51a8691b",
   "metadata": {},
   "outputs": [],
   "source": []
  }
 ],
 "metadata": {
  "kernelspec": {
   "display_name": "Python 3",
   "language": "python",
   "name": "python3"
  },
  "language_info": {
   "codemirror_mode": {
    "name": "ipython",
    "version": 3
   },
   "file_extension": ".py",
   "mimetype": "text/x-python",
   "name": "python",
   "nbconvert_exporter": "python",
   "pygments_lexer": "ipython3",
   "version": "3.12.8"
  }
 },
 "nbformat": 4,
 "nbformat_minor": 5
}
