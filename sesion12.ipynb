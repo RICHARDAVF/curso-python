{
 "cells": [
  {
   "cell_type": "markdown",
   "id": "3c2a8cb5",
   "metadata": {},
   "source": [
    "# Manejo de  Errores y Excepciones "
   ]
  },
  {
   "cell_type": "markdown",
   "id": "39656faf",
   "metadata": {},
   "source": [
    "### Ejercicio 1"
   ]
  },
  {
   "cell_type": "code",
   "execution_count": 3,
   "id": "9e6e5400",
   "metadata": {},
   "outputs": [],
   "source": [
    "def validar_datos():\n",
    "    \"Valida los campos de un formulario\"\n",
    "    datos = {}\n",
    "    # Validacion de nombres\n",
    "    while True:\n",
    "        try:\n",
    "            nombre = input(\"Ingrese tu nombre: \")\n",
    "            if not nombre.isalpha():\n",
    "                raise ValueError(\"El nombre debe tener solo letras\")\n",
    "            datos[\"nombre\"] = nombre\n",
    "            break\n",
    "        except Exception as e:\n",
    "            print(f\"Error: {str(e)}\")\n",
    "    # Validacion de edad\n",
    "    while True:\n",
    "        try:\n",
    "            edad_str = input(\"Ingrese su edad: \")\n",
    "            edad = int(edad_str)\n",
    "            if edad<0 or edad> 120:\n",
    "                raise ValueError(\"La edad de estar entre 0 y 120\")\n",
    "            datos[\"edad\"] = edad\n",
    "            break\n",
    "        except Exception as e:\n",
    "            print(f\"Error: {str(e)}\")\n",
    "    # Validacion de correo electronico\n",
    "    while True:\n",
    "        try:\n",
    "            email = input(\"Ingresa tu correo electronico: \")\n",
    "            if \"@\" not in email or \".\" not in email:\n",
    "                raise ValueError(\"El correo no es valido\")\n",
    "            datos[\"email\"]= email\n",
    "            break\n",
    "        except Exception as e:\n",
    "            print(f\"Error: {str(e)}\")\n",
    "    print(\"\\nFormulario completado\")\n",
    "    print(datos)\n",
    "    "
   ]
  },
  {
   "cell_type": "code",
   "execution_count": 4,
   "id": "aab91395",
   "metadata": {},
   "outputs": [
    {
     "name": "stdout",
     "output_type": "stream",
     "text": [
      "\n",
      "Formulario completado\n",
      "{'nombre': 'Richard', 'edad': 27, 'email': 'example@gmail.com'}\n"
     ]
    }
   ],
   "source": [
    "validar_datos()"
   ]
  },
  {
   "cell_type": "markdown",
   "id": "f8ceca29",
   "metadata": {},
   "source": [
    "### Ejercicio 2"
   ]
  },
  {
   "cell_type": "code",
   "execution_count": 3,
   "id": "7edc2306",
   "metadata": {},
   "outputs": [],
   "source": [
    "def calculadora():\n",
    "    \"\"\"Calculadora que maneja errores de entrada y division por cero\"\"\"\n",
    "    while True:\n",
    "        print(\"\\nCalculadora simple\".center(14,'-'))\n",
    "        try:\n",
    "            num1_str = input(\"Ingre el primer numero: \")\n",
    "            num1 = float(num1_str)\n",
    "            operador = input(\"Ingrese el operador: (+,-,*,/): \")\n",
    "            if operador == \"s\":\n",
    "                break\n",
    "            if operador not in [\"+\",\"-\",\"*\",\"/\"]:\n",
    "                raise ValueError(\"operador no válido\")\n",
    "            num2_str = input(\"Ingrese el segundo número: \")\n",
    "            num2 = float(num2_str)\n",
    "\n",
    "            if operador==\"+\":\n",
    "                resultado = num1+num2\n",
    "            elif operador == \"-\":\n",
    "                resultado = num1-num2\n",
    "            elif operador==\"*\":\n",
    "                resultado = num1*num2\n",
    "            elif operador==\"/\":\n",
    "                if num2==0:\n",
    "                    raise ZeroDivisionError(\"No se puede dividir entre 0\")\n",
    "                resultado = num1/num2\n",
    "            print(f\"El resultaso es:{num1:.1f}{operador}{num2:.1f}= {resultado:.1f}\")\n",
    "           \n",
    "        except Exception as e:\n",
    "            print(f\"Error: {str(e)}\")\n",
    "    "
   ]
  },
  {
   "cell_type": "code",
   "execution_count": 5,
   "id": "e94d81e0",
   "metadata": {},
   "outputs": [
    {
     "name": "stdout",
     "output_type": "stream",
     "text": [
      "\n",
      "Calculadora simple\n",
      "Error: operador no válido\n",
      "\n",
      "Calculadora simple\n",
      "El resultaso es:4.0+6.0= 10.0\n",
      "\n",
      "Calculadora simple\n"
     ]
    }
   ],
   "source": [
    "calculadora()"
   ]
  },
  {
   "cell_type": "markdown",
   "id": "2be4bc1d",
   "metadata": {},
   "source": [
    "### Ejercicio 3"
   ]
  },
  {
   "cell_type": "code",
   "execution_count": 8,
   "id": "69af004d",
   "metadata": {},
   "outputs": [],
   "source": [
    "# Sistema de backups\n",
    "import os\n",
    "import shutil\n",
    "def sistema_backups(origen,destino):\n",
    "    \"\"\"Sistema que simula de backup de archivos\"\"\"\n",
    "    try:\n",
    "        if not os.path.exists(origen):\n",
    "            raise FileNotFoundError(f\"El archivo de origen no se encontro: {origen}\")\n",
    "        directorio_destino = os.path.dirname(destino)\n",
    "        if directorio_destino and not os.path.exists(directorio_destino):\n",
    "            os.makedirs(directorio_destino)\n",
    "            print(f\"Directorio de destino {directorio_destino} creado\")\n",
    "        shutil.copyfile(origen,destino)\n",
    "        print(f\"Backup exitoso: {origen} copaido a {destino}\")\n",
    "    except FileNotFoundError as e:\n",
    "        print(f\"Error: {str(e)} \")\n",
    "    except PermissionError as e:\n",
    "        print(f\"Error de permiso: No tienes permiso para escrinir este arhivo en el destino: {str(e)}\")\n",
    "    except Exception as e:\n",
    "        print(f\"Error: {str(e)}\")\n",
    "    finally:\n",
    "        print(\"Proceso de backup finalizado\")\n",
    "\n",
    "        "
   ]
  },
  {
   "cell_type": "code",
   "execution_count": 10,
   "id": "3dd6ffd8",
   "metadata": {},
   "outputs": [
    {
     "name": "stdout",
     "output_type": "stream",
     "text": [
      "Directorio de destino backup creado\n",
      "Backup exitoso: archivo_origen.txt copaido a backup/backup_archivo_origen.txt\n",
      "Proceso de backup finalizado\n"
     ]
    }
   ],
   "source": [
    "with open(\"archivo_origen.txt\",\"w\") as f:\n",
    "    f.write(\"Este es un archivo de prueba para el backup\")\n",
    "sistema_backups(\"archivo_origen.txt\",\"backup/backup_archivo_origen.txt\")\n"
   ]
  },
  {
   "cell_type": "code",
   "execution_count": null,
   "id": "0c99c0a4",
   "metadata": {},
   "outputs": [],
   "source": []
  }
 ],
 "metadata": {
  "kernelspec": {
   "display_name": "Python 3",
   "language": "python",
   "name": "python3"
  },
  "language_info": {
   "codemirror_mode": {
    "name": "ipython",
    "version": 3
   },
   "file_extension": ".py",
   "mimetype": "text/x-python",
   "name": "python",
   "nbconvert_exporter": "python",
   "pygments_lexer": "ipython3",
   "version": "3.12.8"
  }
 },
 "nbformat": 4,
 "nbformat_minor": 5
}
