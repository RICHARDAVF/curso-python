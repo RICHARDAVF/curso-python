{
 "cells": [
  {
   "cell_type": "markdown",
   "id": "9c5c7247",
   "metadata": {},
   "source": [
    "# Concurrencias"
   ]
  },
  {
   "cell_type": "code",
   "execution_count": 12,
   "id": "da3fb780",
   "metadata": {},
   "outputs": [],
   "source": [
    "import threading\n",
    "import requests\n",
    "import time\n",
    "import os"
   ]
  },
  {
   "cell_type": "code",
   "execution_count": 13,
   "id": "ba85657c",
   "metadata": {},
   "outputs": [],
   "source": [
    "urls = [\n",
    "    'https://www.python.org/static/img/python-logo.png',\n",
    "    'https://www.djangoproject.com/m/img/logos/django-logo-positive.png',\n",
    "    \"https://media.istockphoto.com/id/2162643372/photo/beautiful-planet-earth-with-night-lights-of-asian-cities-views-from-space-amazing-night.jpg?s=612x612&w=is&k=20&c=Bd9k4eYYlV17G36lfy175gdBI5ITfK50URbeRy-MG3I=\",\n",
    "    \"https://plus.unsplash.com/premium_photo-1710965560034-778eedc929ff?q=80&w=715&auto=format&fit=crop&ixlib=rb-4.1.0&ixid=M3wxMjA3fDB8MHxwaG90by1wYWdlfHx8fGVufDB8fHx8fA%3D%3D\"\n",
    "]"
   ]
  },
  {
   "cell_type": "code",
   "execution_count": 14,
   "id": "ec4fd959",
   "metadata": {},
   "outputs": [
    {
     "name": "stdout",
     "output_type": "stream",
     "text": [
      "Iniciando descarga de imagen0.png\n",
      "Descarga de imagen0.png completada. Tamaño : 15770 bytes\n",
      "Iniciando descarga de imagen1.png\n",
      "Descarga de imagen1.png completada. Tamaño : 16735 bytes\n",
      "Iniciando descarga de imagen2.png\n",
      "Descarga de imagen2.png completada. Tamaño : 35967 bytes\n",
      "Iniciando descarga de imagen3.png\n",
      "Descarga de imagen3.png completada. Tamaño : 234507 bytes\n",
      "Tiempo total de descarga: 1.96\n",
      "Iniciando descarga de imagen0.png\n",
      "Iniciando descarga de imagen1.png\n",
      "Iniciando descarga de imagen2.png\n",
      "Iniciando descarga de imagen3.png\n",
      "Descarga de imagen0.png completada. Tamaño : 15770 bytes\n",
      "Descarga de imagen3.png completada. Tamaño : 234507 bytes\n",
      "Descarga de imagen1.png completada. Tamaño : 16735 bytes\n",
      "Descarga de imagen2.png completada. Tamaño : 35967 bytes\n",
      "Todas las descargas han finalizado\n",
      "Tiempo total de ejecucion 0.80 segundos\n"
     ]
    }
   ],
   "source": [
    "def download_file(url,cont,output_folder=\"backup/img\"):\n",
    "    if not os.path.exists(output_folder):\n",
    "        os.makedirs(output_folder)\n",
    "    try:\n",
    "        filename =f\"imagen{cont}.png\"\n",
    "        filepath = os.path.join(output_folder,filename)\n",
    "        print(f\"Iniciando descarga de {filename}\")\n",
    "        response = requests.get(url,stream=True)\n",
    "        response.raise_for_status()\n",
    "        with open(filepath,\"wb\") as f:\n",
    "            for chunk in response.iter_content(chunk_size=8192):\n",
    "                f.write(chunk)\n",
    "        print(f\"Descarga de {filename} completada. Tamaño : {os.path.getsize(filepath)} bytes\")\n",
    "    except Exception as e:\n",
    "        print(str(e))\n",
    "tasks = []\n",
    "start_time = time.time()\n",
    "cont = 0\n",
    "\n",
    "# Descarga en serie\n",
    "for url in urls:\n",
    "    download_file(url,cont)\n",
    "    cont+=1\n",
    "mean_time = time.time()\n",
    "print(f\"Tiempo total de descarga: {mean_time-start_time:.2f}\")\n",
    "    \n",
    "    \n",
    "cont = 0\n",
    "# Descargando de manera concurrente\n",
    "for url in urls:\n",
    "    task = threading.Thread(target=download_file,args=(url,cont,))\n",
    "    tasks.append(task)\n",
    "    task.start()\n",
    "    cont+=1\n",
    "for thread in tasks:\n",
    "    thread.join()\n",
    "end_time = time.time()\n",
    "print(f\"Todas las descargas han finalizado\")\n",
    "print(f\"Tiempo total de ejecucion {end_time-mean_time:.2f} segundos\")\n",
    "\n",
    "    \n"
   ]
  },
  {
   "cell_type": "markdown",
   "id": "27766f19",
   "metadata": {},
   "source": [
    "# SIMULADOR DE PRODUCTOS CONSUMIDOR"
   ]
  },
  {
   "cell_type": "code",
   "execution_count": 15,
   "id": "cd2ed018",
   "metadata": {},
   "outputs": [],
   "source": [
    "import random\n",
    "import queue\n",
    "q = queue.Queue()\n",
    "class Producer(threading.Thread):\n",
    "    def __init__(self,name,item_to_produce):\n",
    "        super().__init__(name=name)\n",
    "        self.item_to_produce = item_to_produce\n",
    "    def run(self):\n",
    "        print(f\"Productor {self.name} iniciado\")\n",
    "        for i in range(self.item_to_produce):\n",
    "            item = f\"Item_{i+1}\"\n",
    "            print(f\"Productor {self.name}: Poniedo {item} en la cola\")\n",
    "            q.put(item)\n",
    "            time.sleep(random.uniform(0.1,0.5))\n",
    "        print(f\"Productor {self.name} ha terminado el producto\")\n",
    "    \n",
    "class Consumer(threading.Thread):\n",
    "    def __init__(self,name):\n",
    "        super().__init__(name=name)\n",
    "    def run(self):\n",
    "        while True:\n",
    "            try:\n",
    "                item = q.get(timeout=10)\n",
    "                print(f\"Consumidor {self.name} Tomado {item} de la cola\")\n",
    "                time.sleep(random.uniform(0.2,0.8))\n",
    "                q.task_done()\n",
    "            except queue.Empty:\n",
    "                print(f\"Consumidor {self.name} . Cola vacia\")\n",
    "                break     "
   ]
  },
  {
   "cell_type": "code",
   "execution_count": 16,
   "id": "b9bd37fa",
   "metadata": {},
   "outputs": [
    {
     "name": "stdout",
     "output_type": "stream",
     "text": [
      "Iniciando simulador de Producto-Consumidor\n",
      "Productor Producto_1 iniciado\n",
      "Productor Producto_1: Poniedo Item_1 en la cola\n",
      "Consumidor Consumidor_1 Tomado Item_1 de la cola\n",
      "Productor Producto_1: Poniedo Item_2 en la cola\n",
      "Productor Producto_1: Poniedo Item_3 en la cola\n",
      "Consumidor Consumidor_1 Tomado Item_2 de la cola\n",
      "Productor Producto_1: Poniedo Item_4 en la cola\n",
      "Productor Producto_1: Poniedo Item_5 en la cola\n",
      "Consumidor Consumidor_1 Tomado Item_3 de la cola\n",
      "Productor Producto_1: Poniedo Item_6 en la cola\n",
      "Productor Producto_1: Poniedo Item_7 en la cola\n",
      "Consumidor Consumidor_1 Tomado Item_4 de la cola\n",
      "Productor Producto_1: Poniedo Item_8 en la cola\n",
      "Consumidor Consumidor_1 Tomado Item_5 de la cola\n",
      "Productor Producto_1: Poniedo Item_9 en la cola\n",
      "Consumidor Consumidor_1 Tomado Item_6 de la cola\n",
      "Productor Producto_1: Poniedo Item_10 en la cola\n",
      "Consumidor Consumidor_1 Tomado Item_7 de la cola\n",
      "Productor Producto_1 ha terminado el producto\n",
      "Consumidor Consumidor_1 Tomado Item_8 de la cola\n",
      "Consumidor Consumidor_1 Tomado Item_9 de la cola\n",
      "Consumidor Consumidor_1 Tomado Item_10 de la cola\n",
      "Simulacion completada\n"
     ]
    }
   ],
   "source": [
    "def main():\n",
    "    print(\"Iniciando simulador de Producto-Consumidor\")\n",
    "    \n",
    "    producer = Producer(name=\"Producto_1\",item_to_produce=10)\n",
    "    consumer = Consumer(name=\"Consumidor_1\")\n",
    "    producer.start()\n",
    "    consumer.start()\n",
    "    \n",
    "    # Esperar a que el producto termine de producir\n",
    "    \n",
    "    producer.join()\n",
    "    q.join()\n",
    "    print(f\"Simulacion completada\")\n",
    "if __name__==\"__main__\":\n",
    "    main()"
   ]
  },
  {
   "cell_type": "code",
   "execution_count": null,
   "id": "f6f3a26a",
   "metadata": {},
   "outputs": [
    {
     "name": "stdout",
     "output_type": "stream",
     "text": [
      "Tarea principal en ejecucion\n",
      "Estado del sistema : CPU: 26.2% | Memoria: 49.3%\n",
      "Estado del sistema : CPU: 24.3% | Memoria: 49.2%\n",
      "Estado del sistema : CPU: 18.8% | Memoria: 49.3%\n",
      "Estado del sistema : CPU: 29.5% | Memoria: 49.3%\n",
      "Estado del sistema : CPU: 20.8% | Memoria: 49.2%\n",
      "Estado del sistema : CPU: 21.3% | Memoria: 49.3%\n",
      "Estado del sistema : CPU: 24.6% | Memoria: 49.2%\n",
      "Tarea principal terminada\n",
      "Monitor de sistema detenido\n",
      "Programa finalizado\n"
     ]
    }
   ],
   "source": [
    "import psutil\n",
    "stop_event = threading.Event()\n",
    "\n",
    "def system_monitor():\n",
    "    while not stop_event.is_set():\n",
    "        cpu_usage = psutil.cpu_percent(interval=1)\n",
    "        mem_info = psutil.virtual_memory()\n",
    "        print(f\"Estado del sistema : CPU: {cpu_usage:.1f}% | Memoria: {mem_info.percent:.1f}%\")\n",
    "        time.sleep(2)\n",
    "    print(\"Monitor de sistema detenido\")\n",
    "def long_running_task():\n",
    "    print(\"Tarea principal en ejecucion\")\n",
    "    total_time = 20\n",
    "    start_time = time.time()\n",
    "    while time.time()-start_time<total_time:\n",
    "        _= [i*i for i in range(1000000)]\n",
    "        time.sleep(0.1)\n",
    "    print(\"Tarea principal terminada\")\n",
    "def main():\n",
    "    monitor = threading.Thread(target=system_monitor)\n",
    "    monitor.start()\n",
    "    try:\n",
    "        long_running_task()\n",
    "    except KeyboardInterrupt:\n",
    "        print(\"Señal de interruccion\")\n",
    "    finally:\n",
    "        stop_event.set()\n",
    "        monitor.join()\n",
    "        print(\"Programa finalizado\")\n",
    "main()\n",
    "        "
   ]
  },
  {
   "cell_type": "code",
   "execution_count": null,
   "id": "c1aec2a0",
   "metadata": {},
   "outputs": [],
   "source": []
  }
 ],
 "metadata": {
  "kernelspec": {
   "display_name": "Python 3",
   "language": "python",
   "name": "python3"
  },
  "language_info": {
   "codemirror_mode": {
    "name": "ipython",
    "version": 3
   },
   "file_extension": ".py",
   "mimetype": "text/x-python",
   "name": "python",
   "nbconvert_exporter": "python",
   "pygments_lexer": "ipython3",
   "version": "3.12.8"
  }
 },
 "nbformat": 4,
 "nbformat_minor": 5
}
