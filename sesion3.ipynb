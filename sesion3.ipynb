{
 "cells": [
  {
   "cell_type": "markdown",
   "id": "c795634d",
   "metadata": {},
   "source": [
    "# Estructuras de control- bucles"
   ]
  },
  {
   "cell_type": "markdown",
   "id": "3f1cde62",
   "metadata": {},
   "source": [
    "# for"
   ]
  },
  {
   "cell_type": "code",
   "execution_count": 24,
   "id": "be6e557e",
   "metadata": {},
   "outputs": [
    {
     "name": "stdout",
     "output_type": "stream",
     "text": [
      "--- Bucle for con range()---\n",
      "Numero: 0\n",
      "Numero: 1\n",
      "Numero: 2\n",
      "Numero: 3\n",
      "Numero: 4\n",
      "Numero: 5\n",
      "Numero: 6\n",
      "Numero: 7\n",
      "Numero: 8\n",
      "Numero: 9\n"
     ]
    }
   ],
   "source": [
    "# Bucle for con range\n",
    "# Itera sobre una secuencia de numeros del 0 al 9\n",
    "print(\"--- Bucle for con range()---\")\n",
    "for i in range(10): \n",
    "    print(f\"Numero: {i}\")"
   ]
  },
  {
   "cell_type": "code",
   "execution_count": 25,
   "id": "046e6b97",
   "metadata": {},
   "outputs": [
    {
     "name": "stdout",
     "output_type": "stream",
     "text": [
      "Numero: 5\n",
      "Numero: 6\n",
      "Numero: 7\n",
      "Numero: 8\n",
      "Numero: 9\n"
     ]
    }
   ],
   "source": [
    "# Bucle form con range() y un inicio y fin especifico\n",
    "# Itera 5 al 9\n",
    "for i in range(5,10):\n",
    "    print(f\"Numero: {i}\")\n",
    "    "
   ]
  },
  {
   "cell_type": "code",
   "execution_count": 26,
   "id": "0ccd8305",
   "metadata": {},
   "outputs": [
    {
     "name": "stdout",
     "output_type": "stream",
     "text": [
      "Numero: 2\n",
      "Numero: 4\n",
      "Numero: 6\n",
      "Numero: 8\n",
      "Numero: 10\n"
     ]
    }
   ],
   "source": [
    "# Bucle con range() y con inicio,fin y paso especifico\n",
    "# Itera del 2 al 10 con un paso de 2\n",
    "for i in range(2,11,2):\n",
    "    print(f\"Numero: {i}\")"
   ]
  },
  {
   "cell_type": "markdown",
   "id": "8937c3d6",
   "metadata": {},
   "source": [
    "# while"
   ]
  },
  {
   "cell_type": "code",
   "execution_count": 27,
   "id": "c890a060",
   "metadata": {},
   "outputs": [
    {
     "name": "stdout",
     "output_type": "stream",
     "text": [
      "Contador: 0, Suma: 0\n",
      "Contador: 1, Suma: 1\n",
      "Contador: 2, Suma: 3\n",
      "Contador: 3, Suma: 6\n",
      "Contador: 4, Suma: 10\n",
      "Suma final: 10\n"
     ]
    }
   ],
   "source": [
    "# Bucle while\n",
    "# Suma numeros hasta que el contador llegue a 5\n",
    "contador = 0\n",
    "suma = 0\n",
    "while contador<5:\n",
    "    suma+=contador\n",
    "    print(f\"Contador: {contador}, Suma: {suma}\")\n",
    "    contador+=1\n",
    "print(f\"Suma final: {suma}\")"
   ]
  },
  {
   "cell_type": "markdown",
   "id": "f56a4d59",
   "metadata": {},
   "source": [
    "# Instrucciones `break` and `continue`"
   ]
  },
  {
   "cell_type": "code",
   "execution_count": 28,
   "id": "cf3bb6b7",
   "metadata": {},
   "outputs": [
    {
     "name": "stdout",
     "output_type": "stream",
     "text": [
      "Numero: 0\n",
      "Numero: 1\n",
      "Numero: 2\n",
      "Numero: 3\n",
      "Numero: 4\n",
      "Se encontro el 5, rompiendo el bucle\n"
     ]
    }
   ],
   "source": [
    "# Uso del break\n",
    "# Rompe el bucle form cuando i es igual a 5\n",
    "for i in range(10):\n",
    "    if i==5:\n",
    "        print(f\"Se encontro el 5, rompiendo el bucle\")\n",
    "        break\n",
    "    print(f\"Numero: {i}\")\n"
   ]
  },
  {
   "cell_type": "code",
   "execution_count": 29,
   "id": "08f268a8",
   "metadata": {},
   "outputs": [
    {
     "name": "stdout",
     "output_type": "stream",
     "text": [
      "Numero: 0\n",
      "Numero: 1\n",
      "Numero: 2\n",
      "Numero: 3\n",
      "Numero: 4\n",
      "Saltando el 5, continuando con el siguiente\n",
      "Numero: 6\n",
      "Numero: 7\n",
      "Numero: 8\n",
      "Numero: 9\n"
     ]
    }
   ],
   "source": [
    "# Uso del continue\n",
    "# Salta el numero 5 y continua con el siguiente\n",
    "for i in range(10):\n",
    "    if i ==5:\n",
    "        print(f\"Saltando el 5, continuando con el siguiente\")\n",
    "        continue\n",
    "    print(f\"Numero: {i}\")"
   ]
  },
  {
   "cell_type": "code",
   "execution_count": 30,
   "id": "47b198dd",
   "metadata": {},
   "outputs": [
    {
     "name": "stdout",
     "output_type": "stream",
     "text": [
      "Coordenada: (0,0)\n",
      "Coordenada: (0,1)\n",
      "Coordenada: (0,2)\n",
      "Coordenada: (0,3)\n",
      "\n",
      "Coordenada: (1,0)\n",
      "Coordenada: (1,1)\n",
      "Coordenada: (1,2)\n",
      "Coordenada: (1,3)\n",
      "\n",
      "Coordenada: (2,0)\n",
      "Coordenada: (2,1)\n",
      "Coordenada: (2,2)\n",
      "Coordenada: (2,3)\n",
      "\n"
     ]
    }
   ],
   "source": [
    "# Bucles anidados\n",
    "# Imprime un patron de coordenadas (fila,columna)\n",
    "filas = 3\n",
    "columnas = 4\n",
    "for fila in range(filas):\n",
    "    for columna in range(columnas):\n",
    "        print(f\"Coordenada: ({fila},{columna})\")\n",
    "    print()"
   ]
  },
  {
   "cell_type": "markdown",
   "id": "5997809f",
   "metadata": {},
   "source": [
    "# Ejercicios"
   ]
  },
  {
   "cell_type": "code",
   "execution_count": null,
   "id": "12a05354",
   "metadata": {},
   "outputs": [
    {
     "name": "stdout",
     "output_type": "stream",
     "text": [
      "---Tabla de multiplicar del 17---\n",
      "17 x 1 = 17\n",
      "17 x 2 = 34\n",
      "17 x 3 = 51\n",
      "17 x 4 = 68\n",
      "17 x 5 = 85\n",
      "17 x 6 = 102\n",
      "17 x 7 = 119\n",
      "17 x 8 = 136\n",
      "17 x 9 = 153\n",
      "17 x 10 = 170\n"
     ]
    }
   ],
   "source": [
    "#Ejercicio 1. Tabla de multiplicar: Genera la tabla de un numero dado por el usuario\n",
    "numero_table = int(input(\"Ingrese un numero para generar su tabla de multiplicar: \"))\n",
    "print(f\"---Tabla de multiplicar del {numero_table}---\")\n",
    "for i in range(1,11):\n",
    "    print(f\"{numero_table} x {i} = {numero_table * i}\")"
   ]
  },
  {
   "cell_type": "code",
   "execution_count": 33,
   "id": "de29e767",
   "metadata": {},
   "outputs": [
    {
     "name": "stdout",
     "output_type": "stream",
     "text": [
      "\n",
      "-- Suma de Pares e Impares hasta 10 --\n",
      "Suma de numeros pares: 30\n",
      "Suma de numeros impares: 25\n"
     ]
    }
   ],
   "source": [
    "# Ejercicio 2. Suma de numeros pares e impares: Suma los numeros pares e inpares hasta un limite dado\n",
    "limite = 10\n",
    "suma_pares = 0\n",
    "suma_impares = 0\n",
    "for i in range(limite+1):\n",
    "    if i%2==0:\n",
    "        suma_pares+=i\n",
    "    else:\n",
    "        suma_impares+=i\n",
    "print(f\"\\n-- Suma de Pares e Impares hasta {limite} --\")\n",
    "print(f\"Suma de numeros pares: {suma_pares}\")\n",
    "print(f\"Suma de numeros impares: {suma_impares}\")"
   ]
  },
  {
   "cell_type": "code",
   "execution_count": 34,
   "id": "d281a7fb",
   "metadata": {},
   "outputs": [
    {
     "name": "stdout",
     "output_type": "stream",
     "text": [
      "\n",
      "-- Patron de Asteriscos --\n",
      "*\n",
      "**\n",
      "***\n",
      "****\n",
      "*****\n"
     ]
    }
   ],
   "source": [
    "# Ejercicio 3. Patron de asteriscos: Dibuja un triangulo de asteriscos\n",
    "print(\"\\n-- Patron de Asteriscos --\")\n",
    "altura = 5\n",
    "for i in range(1,altura+1):\n",
    "    print(\"*\"*i)"
   ]
  },
  {
   "cell_type": "code",
   "execution_count": null,
   "id": "7a002be6",
   "metadata": {},
   "outputs": [],
   "source": []
  }
 ],
 "metadata": {
  "kernelspec": {
   "display_name": "Python 3",
   "language": "python",
   "name": "python3"
  },
  "language_info": {
   "codemirror_mode": {
    "name": "ipython",
    "version": 3
   },
   "file_extension": ".py",
   "mimetype": "text/x-python",
   "name": "python",
   "nbconvert_exporter": "python",
   "pygments_lexer": "ipython3",
   "version": "3.12.8"
  }
 },
 "nbformat": 4,
 "nbformat_minor": 5
}
