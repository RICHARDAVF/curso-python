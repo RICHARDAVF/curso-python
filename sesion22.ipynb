{
 "cells": [
  {
   "cell_type": "code",
   "execution_count": 77,
   "id": "4b0db012",
   "metadata": {},
   "outputs": [],
   "source": [
    "import sqlite3\n",
    "class SQLiteDBConnection:\n",
    "    def __init__(self,db_name):\n",
    "        self.db_name = db_name\n",
    "        self.conn = None\n",
    "        self.cursor = None\n",
    "    def __enter__(self):\n",
    "        try:\n",
    "            self.conn = sqlite3.connect(self.db_name)\n",
    "            self.cursor = self.conn.cursor()\n",
    "            return self.cursor\n",
    "        except sqlite3.Error as e:\n",
    "            print(f\"Ocurrio un erro :{str(e)}\")\n",
    "            return None\n",
    "    def __exit__(self,exc_type,exc_va,exc_db):\n",
    "        if self.conn:\n",
    "            if exc_type:\n",
    "                self.conn.rollback()\n",
    "            else:\n",
    "                self.conn.commit()\n",
    "            self.conn.close()\n"
   ]
  },
  {
   "cell_type": "code",
   "execution_count": 78,
   "id": "9586fba5",
   "metadata": {},
   "outputs": [
    {
     "name": "stdout",
     "output_type": "stream",
     "text": [
      "(1, 'Richard')\n",
      "(2, 'Valeria')\n",
      "(3, 'Richard')\n",
      "(4, 'Valeria')\n",
      "(5, 'Richard')\n",
      "(6, 'Valeria')\n",
      "(7, 'Richard')\n",
      "(8, 'Valeria')\n",
      "(9, 'Richard')\n",
      "(10, 'Valeria')\n",
      "(11, 'Richard')\n",
      "(12, 'Valeria')\n",
      "(13, 'Richard')\n",
      "(14, 'Valeria')\n",
      "(15, 'Richard')\n",
      "(16, 'Valeria')\n",
      "(17, 'Richard')\n",
      "(18, 'Valeria')\n",
      "(19, 'Richard')\n",
      "(20, 'Valeria')\n",
      "(21, 'Richard')\n",
      "(22, 'Valeria')\n",
      "(23, 'Richard')\n",
      "(24, 'Valeria')\n",
      "(25, 'Richard')\n",
      "(26, 'Valeria')\n",
      "(27, 'Richard')\n",
      "(28, 'Valeria')\n",
      "(29, 'Richard')\n",
      "(30, 'Valeria')\n",
      "(31, 'Richard')\n",
      "(32, 'Valeria')\n",
      "(33, 'Richard')\n",
      "(34, 'Valeria')\n",
      "(35, 'Richard')\n",
      "(36, 'Valeria')\n",
      "(37, 'Richard')\n",
      "(38, 'Valeria')\n",
      "(39, 'Richard')\n",
      "(40, 'Valeria')\n"
     ]
    }
   ],
   "source": [
    "db_name = \"ejemplo.db\"\n",
    "with SQLiteDBConnection(db_name) as cursor:\n",
    "    if cursor:\n",
    "        cursor.execute(\"CREATE TABLE IF NOT EXISTS usuarios(id INTEGER PRIMARY KEY, nombre TEXT)\")\n",
    "        cursor.execute(\"INSERT INTO usuarios (nombre) VALUES (?)\",(\"Richard\",))\n",
    "        cursor.execute(\"INSERT INTO usuarios (nombre) VALUES (?)\",(\"Valeria\",))\n",
    "        cursor.execute(\"SELECT*FROM usuarios\")\n",
    "        rows = cursor.fetchall()\n",
    "        for row in rows:\n",
    "            print(row)\n",
    "            "
   ]
  },
  {
   "cell_type": "code",
   "execution_count": 79,
   "id": "510adbcc",
   "metadata": {},
   "outputs": [
    {
     "name": "stdout",
     "output_type": "stream",
     "text": [
      "Error capturado : Error simulador para probar el rollback\n",
      "[(1, 'Richard'), (2, 'Valeria'), (3, 'Richard'), (4, 'Valeria'), (5, 'Richard'), (6, 'Valeria'), (7, 'Richard'), (8, 'Valeria'), (9, 'Richard'), (10, 'Valeria'), (11, 'Richard'), (12, 'Valeria'), (13, 'Richard'), (14, 'Valeria'), (15, 'Richard'), (16, 'Valeria'), (17, 'Richard'), (18, 'Valeria'), (19, 'Richard'), (20, 'Valeria'), (21, 'Richard'), (22, 'Valeria'), (23, 'Richard'), (24, 'Valeria'), (25, 'Richard'), (26, 'Valeria'), (27, 'Richard'), (28, 'Valeria'), (29, 'Richard'), (30, 'Valeria'), (31, 'Richard'), (32, 'Valeria'), (33, 'Richard'), (34, 'Valeria'), (35, 'Richard'), (36, 'Valeria'), (37, 'Richard'), (38, 'Valeria'), (39, 'Richard'), (40, 'Valeria')]\n"
     ]
    }
   ],
   "source": [
    "try:\n",
    "    with SQLiteDBConnection(db_name) as cursor:\n",
    "        if cursor:\n",
    "            cursor.execute(\"INSERT INTO usuarios (nombre) VALUES ('Pedro')\")\n",
    "            raise ValueError(\"Error simulador para probar el rollback\")\n",
    "except ValueError as e:\n",
    "    print(f\"Error capturado : {str(e)}\")\n",
    "finally:\n",
    "    with SQLiteDBConnection(db_name) as cursor:\n",
    "        if cursor:\n",
    "            cursor.execute(\"SELECT*FROM usuarios\")\n",
    "            rows = cursor.fetchall()\n",
    "            print(rows)"
   ]
  },
  {
   "cell_type": "markdown",
   "id": "3d1a52a4",
   "metadata": {},
   "source": [
    "### Sistema de validacion de atributos"
   ]
  },
  {
   "cell_type": "code",
   "execution_count": 80,
   "id": "ba1f3d01",
   "metadata": {},
   "outputs": [
    {
     "data": {
      "text/plain": [
       "(89, 90, 9)"
      ]
     },
     "execution_count": 80,
     "metadata": {},
     "output_type": "execute_result"
    }
   ],
   "source": [
    "class ValdidarEntero:\n",
    "    def __init__(self,min_value=None,max_value=None):\n",
    "        self.min_value = min_value\n",
    "        self.max_value = max_value\n",
    "        self.name = None\n",
    "    def __set_name__(self,owner,name):\n",
    "        self.name = name\n",
    "    def __get__(self,obj,obj_type=None):\n",
    "        if obj is None:\n",
    "            return self\n",
    "        return obj.__dict__.get(self.name,None)\n",
    "    def __set__(self,obj,value):\n",
    "        if not isinstance(value,int):\n",
    "            raise TypeError(f\"EL valor de {self.name} debe ser un entero\")\n",
    "        if self.min_value is not None and value<self.min_value:\n",
    "            raise ValueError(f\"El valor de {self.name} ({value}) debe ser >= {self.min_value}\")\n",
    "        if self.max_value is not None and value>self.max_value:\n",
    "            raise ValueError(f\"El valor de {self.name} ({value}) debe ser <= {self.max_value}\")\n",
    "        obj.__dict__[self.name] = value\n",
    "class Producto:\n",
    "    precio = ValdidarEntero(min_value=10,max_value=100)\n",
    "    stock = ValdidarEntero(min_value=0)\n",
    "    id_producto= ValdidarEntero()\n",
    "    def __init__(self,precio,stock,id_producto):\n",
    "        self.precio = precio\n",
    "        self.stock = stock\n",
    "        self.id_producto = id_producto\n",
    "p1 = Producto(precio=89,stock=90,id_producto=9)\n",
    "p1.precio,p1.stock,p1.id_producto"
   ]
  },
  {
   "cell_type": "code",
   "execution_count": null,
   "id": "6b3e7a28",
   "metadata": {},
   "outputs": [],
   "source": []
  }
 ],
 "metadata": {
  "kernelspec": {
   "display_name": "Python 3",
   "language": "python",
   "name": "python3"
  },
  "language_info": {
   "codemirror_mode": {
    "name": "ipython",
    "version": 3
   },
   "file_extension": ".py",
   "mimetype": "text/x-python",
   "name": "python",
   "nbconvert_exporter": "python",
   "pygments_lexer": "ipython3",
   "version": "3.12.8"
  }
 },
 "nbformat": 4,
 "nbformat_minor": 5
}
