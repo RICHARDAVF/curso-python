{
 "cells": [
  {
   "cell_type": "markdown",
   "id": "2b6e2608",
   "metadata": {},
   "source": [
    "# Protocolo de iterador\n"
   ]
  },
  {
   "cell_type": "code",
   "execution_count": 88,
   "id": "300aa292",
   "metadata": {},
   "outputs": [],
   "source": [
    "class CuentaRegresiva:\n",
    "    def __init__(self,inicio):\n",
    "        self.actual = inicio\n",
    "    def __iter__(self):\n",
    "        return self\n",
    "    def __next__(self):\n",
    "        if self.actual<=0:\n",
    "            raise StopIteration\n",
    "        valor_retornado = self.actual\n",
    "        self.actual-=1\n",
    "        return valor_retornado\n"
   ]
  },
  {
   "cell_type": "code",
   "execution_count": 89,
   "id": "ffd62253",
   "metadata": {},
   "outputs": [
    {
     "name": "stdout",
     "output_type": "stream",
     "text": [
      "0\n",
      "1\n",
      "2\n",
      "3\n",
      "4\n"
     ]
    }
   ],
   "source": [
    "for i in range(5):\n",
    "    print(i)"
   ]
  },
  {
   "cell_type": "code",
   "execution_count": 90,
   "id": "5f9d75e8",
   "metadata": {},
   "outputs": [
    {
     "name": "stdout",
     "output_type": "stream",
     "text": [
      "6\n",
      "5\n",
      "4\n",
      "3\n",
      "2\n",
      "1\n"
     ]
    }
   ],
   "source": [
    "for numero in CuentaRegresiva(6):\n",
    "    print(numero)"
   ]
  },
  {
   "cell_type": "markdown",
   "id": "df569e2a",
   "metadata": {},
   "source": [
    "# Generadores infinitos"
   ]
  },
  {
   "cell_type": "code",
   "execution_count": 91,
   "id": "cab1e8eb",
   "metadata": {},
   "outputs": [
    {
     "name": "stdout",
     "output_type": "stream",
     "text": [
      "0\n",
      "2\n",
      "4\n",
      "6\n",
      "8\n"
     ]
    }
   ],
   "source": [
    "def secuencia_infinita():\n",
    "    numero = 0\n",
    "    while True:\n",
    "        yield numero\n",
    "        numero+=2\n",
    "gen_numeros_pares = secuencia_infinita()\n",
    "for _ in range(5):\n",
    "    print(next(gen_numeros_pares))"
   ]
  },
  {
   "cell_type": "markdown",
   "id": "39e2b17f",
   "metadata": {},
   "source": [
    "### Generador principal"
   ]
  },
  {
   "cell_type": "code",
   "execution_count": 92,
   "id": "53adbdc4",
   "metadata": {},
   "outputs": [
    {
     "name": "stdout",
     "output_type": "stream",
     "text": [
      "1\n",
      "2\n",
      "3\n",
      "4\n",
      "5\n",
      "6\n",
      "Fin\n"
     ]
    }
   ],
   "source": [
    "def generador_principal():\n",
    "    yield from [1,2,3]\n",
    "    yield from (x for x in range(4,7))\n",
    "    yield 'Fin'\n",
    "for valor in generador_principal():\n",
    "    print(valor)"
   ]
  },
  {
   "cell_type": "code",
   "execution_count": 93,
   "id": "1a93c01a",
   "metadata": {},
   "outputs": [],
   "source": [
    "import itertools"
   ]
  },
  {
   "cell_type": "code",
   "execution_count": 94,
   "id": "0e2fd53b",
   "metadata": {},
   "outputs": [
    {
     "name": "stdout",
     "output_type": "stream",
     "text": [
      "('a', 1)\n",
      "('a', 2)\n",
      "('b', 1)\n",
      "('b', 2)\n",
      "('c', 1)\n",
      "('c', 2)\n"
     ]
    }
   ],
   "source": [
    "letras = [\"a\",\"b\",\"c\"]\n",
    "numeros = [1,2]\n",
    "combinacion = itertools.product(letras,numeros)\n",
    "for combi in combinacion:\n",
    "    print(combi)"
   ]
  },
  {
   "cell_type": "code",
   "execution_count": 95,
   "id": "59003f0f",
   "metadata": {},
   "outputs": [
    {
     "name": "stdout",
     "output_type": "stream",
     "text": [
      "('A', 'B')\n",
      "('A', 'C')\n",
      "('A', 'D')\n",
      "('B', 'C')\n",
      "('B', 'D')\n",
      "('C', 'D')\n"
     ]
    }
   ],
   "source": [
    "puntos  = [\"A\",\"B\",\"C\",\"D\"]\n",
    "subconjutons = itertools.combinations(puntos,2)\n",
    "for subconju in subconjutons:\n",
    "    print(subconju)"
   ]
  },
  {
   "cell_type": "code",
   "execution_count": 96,
   "id": "dab85ce0",
   "metadata": {},
   "outputs": [],
   "source": [
    "def fibonacci_gen():\n",
    "    a,b=0,1\n",
    "    while True:\n",
    "        yield a\n",
    "        a,b = b,a+b\n",
    "\n",
    "\n",
    "sec = fibonacci_gen()"
   ]
  },
  {
   "cell_type": "code",
   "execution_count": 97,
   "id": "7f9d2eda",
   "metadata": {},
   "outputs": [
    {
     "name": "stdout",
     "output_type": "stream",
     "text": [
      "0\n",
      "1\n",
      "1\n",
      "2\n",
      "3\n",
      "5\n",
      "8\n",
      "13\n",
      "21\n",
      "34\n"
     ]
    }
   ],
   "source": [
    "for _ in range(10):\n",
    "    print(next(sec))"
   ]
  },
  {
   "cell_type": "markdown",
   "id": "fdf2612a",
   "metadata": {},
   "source": [
    "### STREAM"
   ]
  },
  {
   "cell_type": "code",
   "execution_count": 98,
   "id": "e7f5e082",
   "metadata": {},
   "outputs": [],
   "source": [
    "def datos_crudos(n):\n",
    "    for i in range(n):\n",
    "        yield f\"item_{i},{i*10},{i+10}\"\n",
    "def procesar_datos(datos):\n",
    "    for linea in datos:\n",
    "        partes = linea.split(\",\")\n",
    "        id_item  = partes[0]\n",
    "        valor1 = int(partes[1].strip())\n",
    "        valor2 = int(partes[2].strip())\n",
    "        yield (id_item,valor1,valor2)\n",
    "def filtrar_datos(datos):\n",
    "    for item in datos:\n",
    "        if item[1]>20:\n",
    "            yield item"
   ]
  },
  {
   "cell_type": "code",
   "execution_count": 99,
   "id": "90580b86",
   "metadata": {},
   "outputs": [
    {
     "name": "stdout",
     "output_type": "stream",
     "text": [
      "elemento filtrado ('item_3', 30, 13)\n",
      "elemento filtrado ('item_4', 40, 14)\n",
      "elemento filtrado ('item_5', 50, 15)\n",
      "elemento filtrado ('item_6', 60, 16)\n",
      "elemento filtrado ('item_7', 70, 17)\n",
      "elemento filtrado ('item_8', 80, 18)\n",
      "elemento filtrado ('item_9', 90, 19)\n"
     ]
    }
   ],
   "source": [
    "for elemento in filtrar_datos(procesar_datos(datos_crudos(10))):\n",
    "    print(f\"elemento filtrado {elemento}\")"
   ]
  },
  {
   "cell_type": "code",
   "execution_count": 100,
   "id": "2f381cfd",
   "metadata": {},
   "outputs": [
    {
     "data": {
      "text/plain": [
       "<generator object datos_crudos at 0x0000022DD7DC5E40>"
      ]
     },
     "execution_count": 100,
     "metadata": {},
     "output_type": "execute_result"
    }
   ],
   "source": [
    "datos =datos_crudos(6)\n",
    "datos"
   ]
  },
  {
   "cell_type": "code",
   "execution_count": 101,
   "id": "833aca05",
   "metadata": {},
   "outputs": [
    {
     "data": {
      "text/plain": [
       "'item_0,0,10'"
      ]
     },
     "execution_count": 101,
     "metadata": {},
     "output_type": "execute_result"
    }
   ],
   "source": [
    "next(datos)"
   ]
  },
  {
   "cell_type": "code",
   "execution_count": 102,
   "id": "d8efbb15",
   "metadata": {},
   "outputs": [
    {
     "data": {
      "text/plain": [
       "'item_1,10,11'"
      ]
     },
     "execution_count": 102,
     "metadata": {},
     "output_type": "execute_result"
    }
   ],
   "source": [
    "next(datos)"
   ]
  },
  {
   "cell_type": "code",
   "execution_count": 103,
   "id": "abfce5fb",
   "metadata": {},
   "outputs": [
    {
     "data": {
      "text/plain": [
       "'item_2,20,12'"
      ]
     },
     "execution_count": 103,
     "metadata": {},
     "output_type": "execute_result"
    }
   ],
   "source": [
    "next(datos)"
   ]
  },
  {
   "cell_type": "code",
   "execution_count": 104,
   "id": "5726277b",
   "metadata": {},
   "outputs": [
    {
     "data": {
      "text/plain": [
       "'item_3,30,13'"
      ]
     },
     "execution_count": 104,
     "metadata": {},
     "output_type": "execute_result"
    }
   ],
   "source": [
    "next(datos)"
   ]
  },
  {
   "cell_type": "code",
   "execution_count": null,
   "id": "4d1438f3",
   "metadata": {},
   "outputs": [],
   "source": []
  }
 ],
 "metadata": {
  "kernelspec": {
   "display_name": "Python 3",
   "language": "python",
   "name": "python3"
  },
  "language_info": {
   "codemirror_mode": {
    "name": "ipython",
    "version": 3
   },
   "file_extension": ".py",
   "mimetype": "text/x-python",
   "name": "python",
   "nbconvert_exporter": "python",
   "pygments_lexer": "ipython3",
   "version": "3.12.8"
  }
 },
 "nbformat": 4,
 "nbformat_minor": 5
}
