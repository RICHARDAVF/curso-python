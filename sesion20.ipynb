{
 "cells": [
  {
   "cell_type": "markdown",
   "id": "52245a64",
   "metadata": {},
   "source": [
    "# Pipeline de procesamiento de datos "
   ]
  },
  {
   "cell_type": "code",
   "execution_count": 114,
   "id": "38642288",
   "metadata": {},
   "outputs": [],
   "source": [
    "from functools import reduce\n",
    "# dataset\n",
    "\n",
    "numeros = [1,2,3,4,5,6,7,8,9,10]\n"
   ]
  },
  {
   "cell_type": "markdown",
   "id": "9c5acf95",
   "metadata": {},
   "source": [
    "### `map()`, `filter()`, `reduce()`"
   ]
  },
  {
   "cell_type": "code",
   "execution_count": 115,
   "id": "113e89a5",
   "metadata": {},
   "outputs": [
    {
     "data": {
      "text/plain": [
       "[2, 4, 6, 8, 10]"
      ]
     },
     "execution_count": 115,
     "metadata": {},
     "output_type": "execute_result"
    }
   ],
   "source": [
    "# Filtra los numeros pares\n",
    "numeros_pares = list(filter(lambda x: x%2==0,numeros))\n",
    "numeros_pares"
   ]
  },
  {
   "cell_type": "code",
   "execution_count": 116,
   "id": "5d4c334e",
   "metadata": {},
   "outputs": [
    {
     "data": {
      "text/plain": [
       "[1, 4, 9, 16, 25, 36, 49, 64, 81, 100]"
      ]
     },
     "execution_count": 116,
     "metadata": {},
     "output_type": "execute_result"
    }
   ],
   "source": [
    "# Mapea la lista al cuadrado\n",
    "numeros_cuadrados = list(map(lambda x:x**2,numeros))\n",
    "numeros_cuadrados"
   ]
  },
  {
   "cell_type": "code",
   "execution_count": 117,
   "id": "7dfb6813",
   "metadata": {},
   "outputs": [
    {
     "name": "stdout",
     "output_type": "stream",
     "text": [
      "55\n"
     ]
    }
   ],
   "source": [
    "# reducir a la suma total\n",
    "\n",
    "suma_total = sum(numeros)\n",
    "print(suma_total)"
   ]
  },
  {
   "cell_type": "code",
   "execution_count": 118,
   "id": "d1c9f85c",
   "metadata": {},
   "outputs": [
    {
     "name": "stdout",
     "output_type": "stream",
     "text": [
      "55\n"
     ]
    }
   ],
   "source": [
    "suma_total1 = reduce(lambda acc,x:acc+x,numeros)\n",
    "print(suma_total1)"
   ]
  },
  {
   "cell_type": "code",
   "execution_count": 119,
   "id": "de31dbba",
   "metadata": {},
   "outputs": [
    {
     "data": {
      "text/plain": [
       "220"
      ]
     },
     "execution_count": 119,
     "metadata": {},
     "output_type": "execute_result"
    }
   ],
   "source": [
    "resultado_pipeline = reduce(lambda acc,x:acc+x,map(lambda x:x**2,filter(lambda x:x%2==0,numeros)))\n",
    "resultado_pipeline"
   ]
  },
  {
   "cell_type": "code",
   "execution_count": 120,
   "id": "b47eed05",
   "metadata": {},
   "outputs": [],
   "source": [
    "from functools import lru_cache\n",
    "import time"
   ]
  },
  {
   "cell_type": "code",
   "execution_count": 121,
   "id": "7d311de3",
   "metadata": {},
   "outputs": [],
   "source": [
    "@lru_cache(maxsize=None)\n",
    "def fibonnaci(n):\n",
    "    if n<=1:\n",
    "        return n\n",
    "    return fibonnaci(n-1)+fibonnaci(n-2)\n"
   ]
  },
  {
   "cell_type": "code",
   "execution_count": 122,
   "id": "bc9ec9c3",
   "metadata": {},
   "outputs": [
    {
     "data": {
      "text/plain": [
       "1134903170"
      ]
     },
     "execution_count": 122,
     "metadata": {},
     "output_type": "execute_result"
    }
   ],
   "source": [
    "fibonnaci(45)"
   ]
  },
  {
   "cell_type": "code",
   "execution_count": 123,
   "id": "b3872af3",
   "metadata": {},
   "outputs": [
    {
     "data": {
      "text/plain": [
       "9227465"
      ]
     },
     "execution_count": 123,
     "metadata": {},
     "output_type": "execute_result"
    }
   ],
   "source": [
    "fibonnaci(35)"
   ]
  },
  {
   "cell_type": "code",
   "execution_count": 124,
   "id": "3c64430b",
   "metadata": {},
   "outputs": [
    {
     "data": {
      "text/plain": [
       "9227465"
      ]
     },
     "execution_count": 124,
     "metadata": {},
     "output_type": "execute_result"
    }
   ],
   "source": [
    "fibonnaci(35)"
   ]
  },
  {
   "cell_type": "code",
   "execution_count": 125,
   "id": "a7da9f5e",
   "metadata": {},
   "outputs": [
    {
     "name": "stdout",
     "output_type": "stream",
     "text": [
      "El 35 numero de fibonnaci es :4.93e-05 segundos\n",
      "Estado de la cache: CacheInfo(hits=46, misses=46, maxsize=None, currsize=46)\n"
     ]
    }
   ],
   "source": [
    "inicio = time.perf_counter()\n",
    "resultado = fibonnaci(35)\n",
    "fin = time.perf_counter()\n",
    "print(f\"El 35 numero de fibonnaci es :{fin-inicio:.6} segundos\")\n",
    "print(f\"Estado de la cache: {fibonnaci.cache_info()}\")"
   ]
  },
  {
   "cell_type": "markdown",
   "id": "3c288da7",
   "metadata": {},
   "source": [
    "# Trasnformador funcional"
   ]
  },
  {
   "cell_type": "code",
   "execution_count": 126,
   "id": "bcfe8907",
   "metadata": {},
   "outputs": [],
   "source": [
    "personas = [\n",
    "    {\"nombre\":\"ana\",\"edad\":20,\"ciudad\":\"Lima\"},\n",
    "    {\"nombre\":\"juan\",\"edad\":30,\"ciudad\":\"medellin\"},\n",
    "    {\"nombre\":\"lucia\",\"edad\":23,\"ciudad\":\"cali\"}\n",
    "            ]\n",
    "\n",
    "def capitalizar_nombre(persona):\n",
    "    persona[\"nombre\"] = persona[\"nombre\"].capitalize()\n",
    "    return persona\n",
    "def incrementar_idad(persona):\n",
    "    persona[\"edad\"]+=1\n",
    "    return persona\n",
    "def convertir_ciudad_mayuscula(persona):\n",
    "    persona[\"ciudad\"] = persona[\"ciudad\"].upper()\n",
    "    return persona\n",
    "def transformar_datos(datos,funciones_trasformacion):\n",
    "    \n",
    "    datos_transformados = [dict(item) for item in datos]\n",
    "    for fun in funciones_trasformacion:\n",
    "        datos_transformados = [fun(item) for item in datos_transformados]\n",
    "    return datos_transformados\n",
    "        "
   ]
  },
  {
   "cell_type": "code",
   "execution_count": 127,
   "id": "d59bb2ff",
   "metadata": {},
   "outputs": [
    {
     "data": {
      "text/plain": [
       "[{'nombre': 'Ana', 'edad': 21, 'ciudad': 'LIMA'},\n",
       " {'nombre': 'Juan', 'edad': 31, 'ciudad': 'MEDELLIN'},\n",
       " {'nombre': 'Lucia', 'edad': 24, 'ciudad': 'CALI'}]"
      ]
     },
     "execution_count": 127,
     "metadata": {},
     "output_type": "execute_result"
    }
   ],
   "source": [
    "funciones_transformacion = [capitalizar_nombre,incrementar_idad,convertir_ciudad_mayuscula]\n",
    "personas_transformadas = transformar_datos(personas,funciones_transformacion)\n",
    "personas_transformadas"
   ]
  },
  {
   "cell_type": "code",
   "execution_count": null,
   "id": "70c2c6a2",
   "metadata": {},
   "outputs": [],
   "source": []
  }
 ],
 "metadata": {
  "kernelspec": {
   "display_name": "Python 3",
   "language": "python",
   "name": "python3"
  },
  "language_info": {
   "codemirror_mode": {
    "name": "ipython",
    "version": 3
   },
   "file_extension": ".py",
   "mimetype": "text/x-python",
   "name": "python",
   "nbconvert_exporter": "python",
   "pygments_lexer": "ipython3",
   "version": "3.12.8"
  }
 },
 "nbformat": 4,
 "nbformat_minor": 5
}
