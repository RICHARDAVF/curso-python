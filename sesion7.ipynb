{
 "cells": [
  {
   "cell_type": "markdown",
   "id": "d2d63f63",
   "metadata": {},
   "source": [
    "# String y manipulacion de textos"
   ]
  },
  {
   "cell_type": "markdown",
   "id": "d9f6ae5a",
   "metadata": {},
   "source": [
    "### Metodos `upper()`, `lower()`,`strip()`, `split()`,`join()`,`replace()`"
   ]
  },
  {
   "cell_type": "code",
   "execution_count": 6,
   "id": "28bb42ed",
   "metadata": {},
   "outputs": [
    {
     "name": "stdout",
     "output_type": "stream",
     "text": [
      "Original: Hola Mundo\n",
      "Mayusculas: HOLA MUNDO\n",
      "Minusculas: hola mundo\n"
     ]
    }
   ],
   "source": [
    "# lower(), upper()\n",
    "cadena = \"Hola Mundo\"\n",
    "print(f\"Original: {cadena}\")\n",
    "print(f\"Mayusculas: {cadena.upper()}\")\n",
    "print(f\"Minusculas: {cadena.lower()}\")"
   ]
  },
  {
   "cell_type": "code",
   "execution_count": 7,
   "id": "1f918dc2",
   "metadata": {},
   "outputs": [
    {
     "name": "stdout",
     "output_type": "stream",
     "text": [
      "Cadena original con espacios: '     Hola mundo     '\n",
      "Cadena sin espacios: 'Hola mundo'\n"
     ]
    }
   ],
   "source": [
    "# strip()\n",
    "cadena_con_espacios = \"     Hola mundo     \"\n",
    "print(f\"Cadena original con espacios: '{cadena_con_espacios}'\")\n",
    "print(f\"Cadena sin espacios: '{cadena_con_espacios.strip()}'\")"
   ]
  },
  {
   "cell_type": "code",
   "execution_count": 15,
   "id": "29db3f83",
   "metadata": {},
   "outputs": [
    {
     "data": {
      "text/plain": [
       "['Python', 'es', 'un', 'lenguaje', 'de', 'programaccion', 'muy', 'popular']"
      ]
     },
     "execution_count": 15,
     "metadata": {},
     "output_type": "execute_result"
    }
   ],
   "source": [
    "# split()\n",
    "frase = \"Python es un lenguaje de programaccion muy popular\"\n",
    "palabras = frase.split()\n",
    "palabras"
   ]
  },
  {
   "cell_type": "code",
   "execution_count": 17,
   "id": "b2330c82",
   "metadata": {},
   "outputs": [
    {
     "data": {
      "text/plain": [
       "'Python es un lenguaje de programaccion muy popular'"
      ]
     },
     "execution_count": 17,
     "metadata": {},
     "output_type": "execute_result"
    }
   ],
   "source": [
    "# join()\n",
    "palabras_unidas = \" \".join(palabras)\n",
    "palabras_unidas"
   ]
  },
  {
   "cell_type": "code",
   "execution_count": 20,
   "id": "cd0f1baa",
   "metadata": {},
   "outputs": [
    {
     "name": "stdout",
     "output_type": "stream",
     "text": [
      "Python es genial\n",
      "Python es increible\n"
     ]
    }
   ],
   "source": [
    "# replace()\n",
    "otra_cadena = \"Python es genial\"\n",
    "print(otra_cadena)\n",
    "nueva_cadena = otra_cadena.replace(\"genial\", \"increible\")\n",
    "print(nueva_cadena)"
   ]
  },
  {
   "cell_type": "markdown",
   "id": "77fb6491",
   "metadata": {},
   "source": [
    "Formateo de string (`f-strings`,`format()`) el `f-string` es el metodo mas moderno y recomendado"
   ]
  },
  {
   "cell_type": "code",
   "execution_count": 25,
   "id": "a7359b5a",
   "metadata": {},
   "outputs": [
    {
     "name": "stdout",
     "output_type": "stream",
     "text": [
      "Hola, mi nombre es Ana y tengo 30 años.\n",
      "Hola, mi nombre es Ana y tengo 30 años.\n",
      "Hola, mi nombre es Ana y tengo 30 años.\n"
     ]
    }
   ],
   "source": [
    "nombre = \"Ana\"\n",
    "edad = 30\n",
    "saludo = \"Hola, mi nombre es {} y tengo {} años.\".format(nombre,edad)\n",
    "print(saludo)\n",
    "saludo = f\"Hola, mi nombre es {nombre} y tengo {edad} años.\"\n",
    "print(saludo)\n",
    "saludo = \"Hola, mi nombre es \"+nombre+\" y tengo \"+str(edad)+\" años.\"\n",
    "print(saludo)"
   ]
  },
  {
   "cell_type": "markdown",
   "id": "e22312f6",
   "metadata": {},
   "source": [
    "### Empresiones regulares \n",
    "Las expresiones regulares son utiles para patrones complejos"
   ]
  },
  {
   "cell_type": "code",
   "execution_count": null,
   "id": "fa280c6e",
   "metadata": {},
   "outputs": [
    {
     "name": "stdout",
     "output_type": "stream",
     "text": [
      "Número de teléfono encontrado: 123-457-7890\n"
     ]
    }
   ],
   "source": [
    "import re\n",
    "\n",
    "# patron de busqueda\n",
    "texto = \"El número de teléfono es 123-457-7890\"\n",
    "patron = r\"\\d{3}-\\d{3}-\\d{4}\"\n",
    "coincidencia = re.search(patron,texto)\n",
    "if coincidencia:\n",
    "    print(f\"Número de teléfono encontrado: {coincidencia.group()}\")\n"
   ]
  },
  {
   "cell_type": "code",
   "execution_count": 36,
   "id": "95747efc",
   "metadata": {},
   "outputs": [
    {
     "name": "stdout",
     "output_type": "stream",
     "text": [
      "Texto original: Contacto en correo1@ejemplo.com y correo2@dominio.com\n",
      "Texto con correos ocultos: Contacto en [CORREO OCULTO] y [CORREO OCULTO]\n"
     ]
    }
   ],
   "source": [
    "# Reemplazar un patron\n",
    "texto_con_correo = \"Contacto en correo1@ejemplo.com y correo2@dominio.com\"\n",
    "patron_correo = r\"[a-zA-Z0-9.%+-]+@[a-zA-Z0-9.-]+\\.[a-zA-Z]{2,}\"\n",
    "texto_anonimo = re.sub(patron_correo,\"[CORREO OCULTO]\",texto_con_correo)\n",
    "print(f\"Texto original: {texto_con_correo}\")\n",
    "print(f\"Texto con correos ocultos: {texto_anonimo}\")"
   ]
  },
  {
   "cell_type": "markdown",
   "id": "641f6d6e",
   "metadata": {},
   "source": [
    "### Validacion de datos de entrada\n",
    " Uso de bucles while"
   ]
  },
  {
   "cell_type": "code",
   "execution_count": 39,
   "id": "31153d24",
   "metadata": {},
   "outputs": [
    {
     "name": "stdout",
     "output_type": "stream",
     "text": [
      "Entrada invalida. Intentalo de nuevo.\n"
     ]
    }
   ],
   "source": [
    "def obtener_numero_entero():\n",
    "    \"\"\"Solicita al usuario un número entero y lo devuelve.\"\"\"\n",
    "    while True:\n",
    "        entrada = input(\"Por favor, introduce un numero entero:\")\n",
    "        if entrada.isdigit():\n",
    "            return int(entrada)\n",
    "        else:\n",
    "            print(\"Entrada invalida. Intentalo de nuevo.\")\n",
    "            break\n",
    "obtener_numero_entero()"
   ]
  },
  {
   "cell_type": "markdown",
   "id": "0a3c5f93",
   "metadata": {},
   "source": [
    "### Ejercicios"
   ]
  },
  {
   "cell_type": "code",
   "execution_count": null,
   "id": "32299ce6",
   "metadata": {},
   "outputs": [
    {
     "data": {
      "text/plain": [
       "False"
      ]
     },
     "execution_count": 42,
     "metadata": {},
     "output_type": "execute_result"
    }
   ],
   "source": [
    "# Ejercicio 1: Validar un correo electrónico\n",
    "import re\n",
    "def validar_email(email):\n",
    "    \"\"\"Valida si el email tiene un formato correcto.\"\"\"\n",
    "    patron = r\"^[a-zA-Z0-9._%+-]+@[a-zA-Z0-9.-]+\\.[a-zA-Z]{2,}$\"\n",
    "    if re.match(patron, email):\n",
    "        return True\n",
    "    return False\n"
   ]
  },
  {
   "cell_type": "code",
   "execution_count": 44,
   "id": "ee1c790d",
   "metadata": {},
   "outputs": [
    {
     "data": {
      "text/plain": [
       "True"
      ]
     },
     "execution_count": 44,
     "metadata": {},
     "output_type": "execute_result"
    }
   ],
   "source": [
    "# correo valido\n",
    "email1 = \"usuario@dominio.com\"\n",
    "validar_email(email1)\n"
   ]
  },
  {
   "cell_type": "code",
   "execution_count": 45,
   "id": "4cd657d1",
   "metadata": {},
   "outputs": [
    {
     "data": {
      "text/plain": [
       "False"
      ]
     },
     "execution_count": 45,
     "metadata": {},
     "output_type": "execute_result"
    }
   ],
   "source": [
    "# correo invalido\n",
    "email2 = \"usuariodominio.com\"\n",
    "validar_email(email2)"
   ]
  },
  {
   "cell_type": "code",
   "execution_count": null,
   "id": "2f542af2",
   "metadata": {},
   "outputs": [
    {
     "name": "stdout",
     "output_type": "stream",
     "text": [
      "El texto tiene 49 caracteres y 8 palabras.\n"
     ]
    }
   ],
   "source": [
    "# Ejercicio 2: Contar caracteres y palabras en un texto\n",
    "def contador(texto):\n",
    "    \"\"\"Cuenta la cantidad de palabras en un texto.\"\"\"\n",
    "    caracteres = len(texto)\n",
    "    palabras = len(texto.split())\n",
    "    return caracteres, palabras\n",
    "mi_texto = \"Python es un lenguaje de programacion muy popular\"\n",
    "numero_caracteres,numero_palabras = contador(mi_texto)\n",
    "print(f\"El texto tiene {numero_caracteres} caracteres y {numero_palabras} palabras.\")\n"
   ]
  },
  {
   "cell_type": "code",
   "execution_count": 47,
   "id": "230a6af8",
   "metadata": {},
   "outputs": [],
   "source": [
    "# Ejerccio 3: Generador de contraseñas\n",
    "import random\n",
    "import string\n",
    "def generador_contrasena(longitud=12):\n",
    "    \"\"\"Genera una contraseña aleatoria de una longitud especificada.\"\"\"\n",
    "    caracteres = string.ascii_letters+string.digits+string.punctuation\n",
    "    password = \"\".join(random.choice(caracteres) for _ in range(longitud))\n",
    "    return password"
   ]
  },
  {
   "cell_type": "code",
   "execution_count": 50,
   "id": "9ae48d10",
   "metadata": {},
   "outputs": [
    {
     "data": {
      "text/plain": [
       "\"/$'cWNAhD?MDfiBeE1&o2$<a)jJIs|\""
      ]
     },
     "execution_count": 50,
     "metadata": {},
     "output_type": "execute_result"
    }
   ],
   "source": [
    "generador_contrasena(30)"
   ]
  },
  {
   "cell_type": "code",
   "execution_count": null,
   "id": "f9602e24",
   "metadata": {},
   "outputs": [],
   "source": []
  }
 ],
 "metadata": {
  "kernelspec": {
   "display_name": "Python 3",
   "language": "python",
   "name": "python3"
  },
  "language_info": {
   "codemirror_mode": {
    "name": "ipython",
    "version": 3
   },
   "file_extension": ".py",
   "mimetype": "text/x-python",
   "name": "python",
   "nbconvert_exporter": "python",
   "pygments_lexer": "ipython3",
   "version": "3.12.8"
  }
 },
 "nbformat": 4,
 "nbformat_minor": 5
}
