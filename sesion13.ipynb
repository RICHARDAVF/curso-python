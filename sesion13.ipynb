{
 "cells": [
  {
   "cell_type": "markdown",
   "id": "6f9f9cbb",
   "metadata": {},
   "source": [
    "# Importacion de Modulos y Creacion de modulos propios"
   ]
  },
  {
   "cell_type": "code",
   "execution_count": 14,
   "id": "e2b4f0df",
   "metadata": {},
   "outputs": [],
   "source": [
    "from  utilidades_maths import area_circulo,perimetro_circulo,sumar,PI"
   ]
  },
  {
   "cell_type": "code",
   "execution_count": 11,
   "id": "beed84b0",
   "metadata": {},
   "outputs": [
    {
     "data": {
      "text/plain": [
       "314.159"
      ]
     },
     "execution_count": 11,
     "metadata": {},
     "output_type": "execute_result"
    }
   ],
   "source": [
    "radio = 10\n",
    "area_circulo(radio)"
   ]
  },
  {
   "cell_type": "code",
   "execution_count": 12,
   "id": "7f69716e",
   "metadata": {},
   "outputs": [
    {
     "data": {
      "text/plain": [
       "62.8318"
      ]
     },
     "execution_count": 12,
     "metadata": {},
     "output_type": "execute_result"
    }
   ],
   "source": [
    "perimetro_circulo(radio)"
   ]
  },
  {
   "cell_type": "code",
   "execution_count": 13,
   "id": "a0c815b0",
   "metadata": {},
   "outputs": [
    {
     "data": {
      "text/plain": [
       "9"
      ]
     },
     "execution_count": 13,
     "metadata": {},
     "output_type": "execute_result"
    }
   ],
   "source": [
    "a = 4\n",
    "b = 5\n",
    "sumar(a,b)"
   ]
  },
  {
   "cell_type": "code",
   "execution_count": 15,
   "id": "909f89f1",
   "metadata": {},
   "outputs": [
    {
     "data": {
      "text/plain": [
       "3.14159"
      ]
     },
     "execution_count": 15,
     "metadata": {},
     "output_type": "execute_result"
    }
   ],
   "source": [
    "PI"
   ]
  },
  {
   "cell_type": "code",
   "execution_count": 16,
   "id": "058cdca2",
   "metadata": {},
   "outputs": [],
   "source": [
    "from estudiantes.crud import listar_estudiantes,agregar"
   ]
  },
  {
   "cell_type": "code",
   "execution_count": 17,
   "id": "903b6610",
   "metadata": {},
   "outputs": [],
   "source": [
    "estudiantes = []"
   ]
  },
  {
   "cell_type": "code",
   "execution_count": 19,
   "id": "8abc02d1",
   "metadata": {},
   "outputs": [
    {
     "data": {
      "text/plain": [
       "['Richard']"
      ]
     },
     "execution_count": 19,
     "metadata": {},
     "output_type": "execute_result"
    }
   ],
   "source": [
    "agregar(estudiantes,\"Richard\")"
   ]
  },
  {
   "cell_type": "code",
   "execution_count": 20,
   "id": "fef8418f",
   "metadata": {},
   "outputs": [
    {
     "data": {
      "text/plain": [
       "['Richard', 'Juan']"
      ]
     },
     "execution_count": 20,
     "metadata": {},
     "output_type": "execute_result"
    }
   ],
   "source": [
    "agregar(estudiantes,\"Juan\")"
   ]
  },
  {
   "cell_type": "code",
   "execution_count": 21,
   "id": "8473d48d",
   "metadata": {},
   "outputs": [
    {
     "data": {
      "text/plain": [
       "['Richard', 'Juan', 'Pedro']"
      ]
     },
     "execution_count": 21,
     "metadata": {},
     "output_type": "execute_result"
    }
   ],
   "source": [
    "agregar(estudiantes,\"Pedro\")"
   ]
  },
  {
   "cell_type": "code",
   "execution_count": 22,
   "id": "f97d07f9",
   "metadata": {},
   "outputs": [
    {
     "name": "stdout",
     "output_type": "stream",
     "text": [
      "Mi lista de estudiantes\n",
      "1: Richard\n",
      "2: Juan\n",
      "3: Pedro\n"
     ]
    }
   ],
   "source": [
    "listar_estudiantes(estudiantes)"
   ]
  },
  {
   "cell_type": "markdown",
   "id": "99d7b3f9",
   "metadata": {},
   "source": [
    "### Modulos estandar de Python"
   ]
  },
  {
   "cell_type": "code",
   "execution_count": 2,
   "id": "ac750a29",
   "metadata": {},
   "outputs": [
    {
     "data": {
      "text/plain": [
       "'c:\\\\Users\\\\richa\\\\Desktop\\\\COURSE'"
      ]
     },
     "execution_count": 2,
     "metadata": {},
     "output_type": "execute_result"
    }
   ],
   "source": [
    "import os\n",
    "\n",
    "directorio_actual = os.getcwd()\n",
    "directorio_actual"
   ]
  },
  {
   "cell_type": "code",
   "execution_count": 3,
   "id": "600aab5c",
   "metadata": {},
   "outputs": [
    {
     "data": {
      "text/plain": [
       "['archivo_origen.txt',\n",
       " 'backup',\n",
       " 'ejemplo1.txt',\n",
       " 'ejemplo2.txt',\n",
       " 'estudiantes',\n",
       " 'logs',\n",
       " 'reporte_ventas.json',\n",
       " 'sesion1.ipynb',\n",
       " 'sesion10.ipynb',\n",
       " 'sesion11.ipynb',\n",
       " 'sesion12.ipynb',\n",
       " 'sesion13.ipynb',\n",
       " 'sesion13.py',\n",
       " 'sesion2.ipynb',\n",
       " 'sesion3.ipynb',\n",
       " 'sesion4.ipynb',\n",
       " 'sesion5.ipynb',\n",
       " 'sesion6.ipynb',\n",
       " 'sesion7.ipynb',\n",
       " 'sesion8.ipynb',\n",
       " 'sesion9.ipynb',\n",
       " 'utilidades_maths.py',\n",
       " 'ventas.csv',\n",
       " '__pycache__']"
      ]
     },
     "execution_count": 3,
     "metadata": {},
     "output_type": "execute_result"
    }
   ],
   "source": [
    "# listar archivos u dorectorios\n",
    "contenido = os.listdir('.')\n",
    "contenido"
   ]
  },
  {
   "cell_type": "code",
   "execution_count": 5,
   "id": "f75fac4b",
   "metadata": {},
   "outputs": [
    {
     "name": "stdout",
     "output_type": "stream",
     "text": [
      "El archivo si existe\n"
     ]
    }
   ],
   "source": [
    "if os.path.exists(\"ventas.csv\"):\n",
    "    print(\"El archivo si existe\")\n",
    "else:\n",
    "    print(\"El archivo no existe\")"
   ]
  },
  {
   "cell_type": "code",
   "execution_count": 7,
   "id": "5b94cbf1",
   "metadata": {},
   "outputs": [
    {
     "data": {
      "text/plain": [
       "['C:\\\\Users\\\\richa\\\\AppData\\\\Roaming\\\\Python\\\\Python312\\\\site-packages\\\\ipykernel_launcher.py',\n",
       " '--f=c:\\\\Users\\\\richa\\\\AppData\\\\Roaming\\\\jupyter\\\\runtime\\\\kernel-v3107295ad1d1cb40c5c9313e5aeff6c70e236c7da.json']"
      ]
     },
     "execution_count": 7,
     "metadata": {},
     "output_type": "execute_result"
    }
   ],
   "source": [
    "import sys\n",
    "\n",
    "sys.argv"
   ]
  },
  {
   "cell_type": "code",
   "execution_count": 8,
   "id": "d2321936",
   "metadata": {},
   "outputs": [
    {
     "data": {
      "text/plain": [
       "'3.12.8 (tags/v3.12.8:2dc476b, Dec  3 2024, 19:30:04) [MSC v.1942 64 bit (AMD64)]'"
      ]
     },
     "execution_count": 8,
     "metadata": {},
     "output_type": "execute_result"
    }
   ],
   "source": [
    "sys.version"
   ]
  },
  {
   "cell_type": "code",
   "execution_count": 15,
   "id": "3f3a2bfa",
   "metadata": {},
   "outputs": [],
   "source": [
    "from  datetime import datetime,date"
   ]
  },
  {
   "cell_type": "code",
   "execution_count": 20,
   "id": "af7e0b22",
   "metadata": {},
   "outputs": [
    {
     "data": {
      "text/plain": [
       "datetime.datetime(2025, 8, 18, 20, 45, 32, 645677)"
      ]
     },
     "execution_count": 20,
     "metadata": {},
     "output_type": "execute_result"
    }
   ],
   "source": [
    "ahora = datetime.now()\n",
    "ahora"
   ]
  },
  {
   "cell_type": "code",
   "execution_count": 18,
   "id": "54079f4e",
   "metadata": {},
   "outputs": [
    {
     "name": "stdout",
     "output_type": "stream",
     "text": [
      "Mi fecha de nacimientos es: 1998-08-13\n"
     ]
    }
   ],
   "source": [
    "fecha_nacimiento = date(1998,8,13)\n",
    "print(f\"Mi fecha de nacimientos es: {fecha_nacimiento}\")"
   ]
  },
  {
   "cell_type": "code",
   "execution_count": 21,
   "id": "052a9d19",
   "metadata": {},
   "outputs": [
    {
     "data": {
      "text/plain": [
       "datetime.timedelta(days=9867)"
      ]
     },
     "execution_count": 21,
     "metadata": {},
     "output_type": "execute_result"
    }
   ],
   "source": [
    "diferencia = ahora.date()-fecha_nacimiento\n",
    "diferencia"
   ]
  },
  {
   "cell_type": "code",
   "execution_count": 30,
   "id": "0cd35ba2",
   "metadata": {},
   "outputs": [
    {
     "data": {
      "text/plain": [
       "9"
      ]
     },
     "execution_count": 30,
     "metadata": {},
     "output_type": "execute_result"
    }
   ],
   "source": [
    "import random\n",
    "numero_aleatorio = random.randint(1,10)\n",
    "numero_aleatorio"
   ]
  },
  {
   "cell_type": "code",
   "execution_count": 36,
   "id": "8feeb709",
   "metadata": {},
   "outputs": [
    {
     "data": {
      "text/plain": [
       "'manzana'"
      ]
     },
     "execution_count": 36,
     "metadata": {},
     "output_type": "execute_result"
    }
   ],
   "source": [
    "lista = [\"manzana\",\"pera\",\"uva\"]\n",
    "random.choice(lista)"
   ]
  }
 ],
 "metadata": {
  "kernelspec": {
   "display_name": "Python 3",
   "language": "python",
   "name": "python3"
  },
  "language_info": {
   "codemirror_mode": {
    "name": "ipython",
    "version": 3
   },
   "file_extension": ".py",
   "mimetype": "text/x-python",
   "name": "python",
   "nbconvert_exporter": "python",
   "pygments_lexer": "ipython3",
   "version": "3.12.8"
  }
 },
 "nbformat": 4,
 "nbformat_minor": 5
}
