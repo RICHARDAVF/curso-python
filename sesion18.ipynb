{
 "cells": [
  {
   "cell_type": "code",
   "execution_count": 368,
   "id": "8698b868",
   "metadata": {},
   "outputs": [],
   "source": [
    "class Vehiculo:\n",
    "    def __init__(self,marca:str,modelo:str,year:int):\n",
    "        self.marca = marca\n",
    "        self.modelo = modelo\n",
    "        self.year = year\n",
    "    def mostrar_info(self)->str:\n",
    "        return f\"Marca: {self.marca}, Modelo: {self.modelo}, Año: {self.year}\"\n",
    "    def __str__(self)->str:\n",
    "        return f\"{self.marca}-{self.modelo}-{self.year}\"\n",
    "\n",
    "class Coche(Vehiculo):\n",
    "    def __init__(self,marca:str,modelo:str,year:int,numero_puertas:int):\n",
    "        super().__init__(marca,modelo,year)\n",
    "        self.numero_puertas = numero_puertas\n",
    "    def mostrar_info(self):\n",
    "        return f\"Marca:{self.marca}. Modelo: {self.modelo},Año:{self.year}, # de puertas: {self.numero_puertas}\"\n",
    "    \n",
    "    \n",
    "class Motocicleta(Vehiculo):\n",
    "    def __init__(self,marca:str,modelo:str,year:int,tipo_motor:str):\n",
    "        super().__init__(marca,modelo,year)\n",
    "        self.tipo_motor = tipo_motor\n",
    "    def mostrar_info(self):\n",
    "        return f\"Marca:{self.marca}. Modelo: {self.modelo},Año:{self.year}, Tipo de motor: {self.tipo_motor}\"\n",
    "coche = Coche(\"Toyota\",\"Corolla\",2022,4)\n",
    "moto = Motocicleta(\"Honda\",\"CBR500\",2023,\"Gasolina\")\n"
   ]
  },
  {
   "cell_type": "code",
   "execution_count": 369,
   "id": "ca303567",
   "metadata": {},
   "outputs": [
    {
     "data": {
      "text/plain": [
       "'Marca:Toyota. Modelo: Corolla,Año:2022, # de puertas: 4'"
      ]
     },
     "execution_count": 369,
     "metadata": {},
     "output_type": "execute_result"
    }
   ],
   "source": [
    "coche.mostrar_info()\n"
   ]
  },
  {
   "cell_type": "code",
   "execution_count": 370,
   "id": "4247dccb",
   "metadata": {},
   "outputs": [
    {
     "data": {
      "text/plain": [
       "'Marca:Honda. Modelo: CBR500,Año:2023, Tipo de motor: Gasolina'"
      ]
     },
     "execution_count": 370,
     "metadata": {},
     "output_type": "execute_result"
    }
   ],
   "source": [
    "moto.mostrar_info()"
   ]
  },
  {
   "cell_type": "code",
   "execution_count": 371,
   "id": "5bcbddde",
   "metadata": {},
   "outputs": [],
   "source": [
    "class Empleado:\n",
    "    def __init__(self,nombre:str,id_empleado:str,salario_base:float)->None:\n",
    "        self.nombre = nombre\n",
    "        self.__id_empleado = id_empleado # Atributo privado\n",
    "        self.salario_base = salario_base\n",
    "    def _calcular_salario(self): # Metodo privado | Metodo prote\n",
    "        return self.salario_base\n",
    "    def get_id_empleado(self):\n",
    "        return self.__id_empleado\n",
    "    def mostrar_info(self):\n",
    "        return f\"Nombre: {self.nombre}, ID: {self.get_id_empleado()},Salario: {self._calcular_salario()}\"\n",
    "class Gerente(Empleado):\n",
    "    def __init__(self,nombre:str,id_empleado:str,salario_base:float,bono:float)->None:\n",
    "        super().__init__(nombre,id_empleado,salario_base)\n",
    "        self.bono = bono\n",
    "    def _calcular_salario(self):\n",
    "        return self.salario_base+self.bono\n",
    "class Desarrollador(Empleado):\n",
    "    def __init__(self,nombre:str,id_empleado:str,salario_base:float,horas_extra:float,tarifa_hora_extra:float)->None:\n",
    "        super().__init__(nombre,id_empleado,salario_base)\n",
    "        self.horas_extra = horas_extra\n",
    "        self.tarifa_hora_extra = tarifa_hora_extra\n",
    "    def _calcular_salario(self):\n",
    "        salario = self.salario_base+(self.horas_extra*self.tarifa_hora_extra)\n",
    "        return salario\n",
    "    "
   ]
  },
  {
   "cell_type": "code",
   "execution_count": 372,
   "id": "3146fd28",
   "metadata": {},
   "outputs": [
    {
     "data": {
      "text/plain": [
       "'Nombre: Richard, ID: GR0001,Salario: 11500'"
      ]
     },
     "execution_count": 372,
     "metadata": {},
     "output_type": "execute_result"
    }
   ],
   "source": [
    "gerente = Gerente(\"Richard\",\"GR0001\",10000,1500)\n",
    "gerente.mostrar_info()"
   ]
  },
  {
   "cell_type": "code",
   "execution_count": 373,
   "id": "279fcbc3",
   "metadata": {},
   "outputs": [
    {
     "data": {
      "text/plain": [
       "'Nombre: Ana, ID: DEV0001,Salario: 5225.0'"
      ]
     },
     "execution_count": 373,
     "metadata": {},
     "output_type": "execute_result"
    }
   ],
   "source": [
    "dev = Desarrollador(\"Ana\",\"DEV0001\",5000,4.5,50)\n",
    "dev.mostrar_info()"
   ]
  },
  {
   "cell_type": "code",
   "execution_count": 374,
   "id": "a29d79f1",
   "metadata": {},
   "outputs": [],
   "source": [
    "import math\n",
    "from abc import abstractmethod,ABC\n",
    "class Forma(ABC):\n",
    "    @property\n",
    "    def area(self):\n",
    "        raise NotImplementedError(\"La subclase debe implementar el metodo\")\n",
    "    @abstractmethod\n",
    "    def perimetro(self):\n",
    "        raise NotImplementedError(\"La subclase debe implementar el metodo\")\n",
    "class Circulo(Forma):\n",
    "    def __init__(self,radio:int)->None:\n",
    "        super().__init__()\n",
    "        self.radio = radio\n",
    "    @property\n",
    "    def area(self):\n",
    "        return math.pi*self.radio**2\n",
    "    # @property\n",
    "    @property\n",
    "    def perimetro(self):\n",
    "        return math.pi*self.radio\n",
    "class Rectangulo(Forma):\n",
    "    def __init__(self,ancho:int,alto:int)->None:\n",
    "        self.ancho = ancho\n",
    "        self.alto = alto\n",
    "    @property\n",
    "    def area(self):\n",
    "        return self.ancho*self.alto\n",
    "    # @property\n",
    "    @property\n",
    "    def perimetro(self):\n",
    "        return 2*(self.ancho+self.alto)\n",
    "class Triangulo(Forma):\n",
    "    def __init__(self,l1:int,l2:int,l3:int,altura:int)->None:\n",
    "        self.l1 = l1\n",
    "        self.l2 = l2\n",
    "        self.l3 = l3\n",
    "        self.altura = altura\n",
    "    @property\n",
    "    def area(self)->float:\n",
    "        return float(self.l3*self.altura/2)\n",
    "    @property\n",
    "    def perimetro(self):\n",
    "        return self.l1+self.l2+self.l3\n",
    "    \n",
    "        "
   ]
  },
  {
   "cell_type": "code",
   "execution_count": 375,
   "id": "dbaee11a",
   "metadata": {},
   "outputs": [
    {
     "data": {
      "text/plain": [
       "50.26548245743669"
      ]
     },
     "execution_count": 375,
     "metadata": {},
     "output_type": "execute_result"
    }
   ],
   "source": [
    "circulo = Circulo(4)\n",
    "circulo.area"
   ]
  },
  {
   "cell_type": "code",
   "execution_count": 376,
   "id": "4324e5cd",
   "metadata": {},
   "outputs": [
    {
     "data": {
      "text/plain": [
       "12.566370614359172"
      ]
     },
     "execution_count": 376,
     "metadata": {},
     "output_type": "execute_result"
    }
   ],
   "source": [
    "circulo.perimetro"
   ]
  },
  {
   "cell_type": "code",
   "execution_count": 377,
   "id": "56facf7e",
   "metadata": {},
   "outputs": [
    {
     "data": {
      "text/plain": [
       "20"
      ]
     },
     "execution_count": 377,
     "metadata": {},
     "output_type": "execute_result"
    }
   ],
   "source": [
    "rect = Rectangulo(4,5)\n",
    "rect.area"
   ]
  },
  {
   "cell_type": "code",
   "execution_count": 378,
   "id": "b50fcfcf",
   "metadata": {},
   "outputs": [
    {
     "data": {
      "text/plain": [
       "18"
      ]
     },
     "execution_count": 378,
     "metadata": {},
     "output_type": "execute_result"
    }
   ],
   "source": [
    "rect.perimetro"
   ]
  },
  {
   "cell_type": "code",
   "execution_count": 379,
   "id": "3d8059ba",
   "metadata": {},
   "outputs": [],
   "source": [
    "class Utilitario:\n",
    "    # def __init__(self):\n",
    "    #     self.bb = \"hola\"\n",
    "    @staticmethod\n",
    "    def saludar(nombre):\n",
    "        return f\"Hola, soy un metodo estatico definido por {nombre}\"\n",
    "    @classmethod\n",
    "    def crear_forma(cls,tipo,*args):\n",
    "        if tipo==\"circulo\":\n",
    "            return Circulo(*args)\n",
    "        elif tipo==\"rectangulo\":\n",
    "            return Rectangulo(*args)\n",
    "        elif tipo==\"triangulo\":\n",
    "            return Triangulo(*args)\n",
    "        else:\n",
    "            return None\n"
   ]
  },
  {
   "cell_type": "code",
   "execution_count": 380,
   "id": "1ae18f3a",
   "metadata": {},
   "outputs": [
    {
     "data": {
      "text/plain": [
       "'Hola, soy un metodo estatico definido por Richard'"
      ]
     },
     "execution_count": 380,
     "metadata": {},
     "output_type": "execute_result"
    }
   ],
   "source": [
    "Utilitario.saludar(\"Richard\")\n"
   ]
  },
  {
   "cell_type": "code",
   "execution_count": 381,
   "id": "01ef0725",
   "metadata": {},
   "outputs": [
    {
     "data": {
      "text/plain": [
       "25.132741228718345"
      ]
     },
     "execution_count": 381,
     "metadata": {},
     "output_type": "execute_result"
    }
   ],
   "source": [
    "u = Utilitario.crear_forma(\"circulo\",8)\n",
    "u.perimetro\n"
   ]
  },
  {
   "cell_type": "code",
   "execution_count": 382,
   "id": "bb954f67",
   "metadata": {},
   "outputs": [
    {
     "data": {
      "text/plain": [
       "201.06192982974676"
      ]
     },
     "execution_count": 382,
     "metadata": {},
     "output_type": "execute_result"
    }
   ],
   "source": [
    "u.area"
   ]
  },
  {
   "cell_type": "code",
   "execution_count": 383,
   "id": "964b6600",
   "metadata": {},
   "outputs": [
    {
     "data": {
      "text/plain": [
       "50"
      ]
     },
     "execution_count": 383,
     "metadata": {},
     "output_type": "execute_result"
    }
   ],
   "source": [
    "r = Utilitario.crear_forma(\"rectangulo\",10,5)\n",
    "r.area"
   ]
  },
  {
   "cell_type": "code",
   "execution_count": 384,
   "id": "e57b0988",
   "metadata": {},
   "outputs": [
    {
     "data": {
      "text/plain": [
       "30"
      ]
     },
     "execution_count": 384,
     "metadata": {},
     "output_type": "execute_result"
    }
   ],
   "source": [
    "r.perimetro"
   ]
  },
  {
   "cell_type": "code",
   "execution_count": 385,
   "id": "03b0bd79",
   "metadata": {},
   "outputs": [
    {
     "name": "stdout",
     "output_type": "stream",
     "text": [
      "28.0\n",
      "14\n"
     ]
    }
   ],
   "source": [
    "t = Utilitario.crear_forma(\"triangulo\",3,4,7,8)\n",
    "if t:\n",
    "    print(t.area)\n",
    "    print(t.perimetro)\n",
    "else:\n",
    "    print(\"La figura no fue creada\")"
   ]
  },
  {
   "cell_type": "code",
   "execution_count": null,
   "id": "b8aca287",
   "metadata": {},
   "outputs": [],
   "source": []
  }
 ],
 "metadata": {
  "kernelspec": {
   "display_name": "Python 3",
   "language": "python",
   "name": "python3"
  },
  "language_info": {
   "codemirror_mode": {
    "name": "ipython",
    "version": 3
   },
   "file_extension": ".py",
   "mimetype": "text/x-python",
   "name": "python",
   "nbconvert_exporter": "python",
   "pygments_lexer": "ipython3",
   "version": "3.12.8"
  }
 },
 "nbformat": 4,
 "nbformat_minor": 5
}
