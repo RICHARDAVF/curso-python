{
 "cells": [
  {
   "cell_type": "markdown",
   "id": "019c9f55",
   "metadata": {},
   "source": [
    "# Tuplas"
   ]
  },
  {
   "cell_type": "markdown",
   "id": "e0192c5e",
   "metadata": {},
   "source": [
    "### Creacion y Acceso\n",
    " Las tuplas son colecciones ordenadas e inmutables. Se definen con `()`, separado por comas y requiere de una coma final `,` cuando tiene un solo elemento"
   ]
  },
  {
   "cell_type": "code",
   "execution_count": null,
   "id": "2882483a",
   "metadata": {},
   "outputs": [],
   "source": [
    "# Creacion de una tupla\n",
    "mi_tupla = (1,\"Hola\",3.14,True)\n",
    "# Tupla de un solo elemento (require de una coma final)\n",
    "tupla_de_un_elemento = (\"Python\",) # En listas [\"Python\"] en tuplas no funciona asi"
   ]
  },
  {
   "cell_type": "code",
   "execution_count": 4,
   "id": "c77582b6",
   "metadata": {},
   "outputs": [
    {
     "name": "stdout",
     "output_type": "stream",
     "text": [
      "1\n",
      "True\n"
     ]
    }
   ],
   "source": [
    "print(mi_tupla[0])\n",
    "print(mi_tupla[-1])"
   ]
  },
  {
   "cell_type": "code",
   "execution_count": 6,
   "id": "8c0d8df8",
   "metadata": {},
   "outputs": [
    {
     "name": "stdout",
     "output_type": "stream",
     "text": [
      "('Hola', 3.14)\n"
     ]
    }
   ],
   "source": [
    "# Slicing de tuplas\n",
    "print(mi_tupla[1:3])  # Imprime desde el segundo hasta el tercer elemento (excluyendo el cuarto)"
   ]
  },
  {
   "cell_type": "code",
   "execution_count": 7,
   "id": "ac273fdf",
   "metadata": {},
   "outputs": [
    {
     "name": "stdout",
     "output_type": "stream",
     "text": [
      "(1, 'Hola')\n"
     ]
    }
   ],
   "source": [
    "print(mi_tupla[:2])"
   ]
  },
  {
   "cell_type": "markdown",
   "id": "a1ae636c",
   "metadata": {},
   "source": [
    "### Inmutabilidad"
   ]
  },
  {
   "cell_type": "code",
   "execution_count": 9,
   "id": "e28348ae",
   "metadata": {},
   "outputs": [],
   "source": [
    "# Intento de moficar un elemnto de la tupla (esto causará un error)\n",
    "# mi_tupla[0]=10\n",
    "# 'tuple' object does not support item assignment"
   ]
  },
  {
   "cell_type": "code",
   "execution_count": 10,
   "id": "ce3fb142",
   "metadata": {},
   "outputs": [
    {
     "data": {
      "text/plain": [
       "[10, 'Hola', 3.14, True]"
      ]
     },
     "execution_count": 10,
     "metadata": {},
     "output_type": "execute_result"
    }
   ],
   "source": [
    "lista = [1, \"Hola\", 3.14, True]\n",
    "lista[0]=10\n",
    "lista"
   ]
  },
  {
   "cell_type": "markdown",
   "id": "c6c2f6b1",
   "metadata": {},
   "source": [
    "# Conjuntos\n",
    "\n",
    "Los conjuntos son coleciones desordenados de elementos únicos. Se define con llaves `{}` o con la funcion `set()`"
   ]
  },
  {
   "cell_type": "code",
   "execution_count": 16,
   "id": "cc78f27b",
   "metadata": {},
   "outputs": [
    {
     "name": "stdout",
     "output_type": "stream",
     "text": [
      "{1, 2, 3, 4}\n"
     ]
    }
   ],
   "source": [
    "# Creación de un conjunto\n",
    "mi_conjunto = {1,2,3,4,2,1}\n",
    "print(mi_conjunto)\n"
   ]
  },
  {
   "cell_type": "code",
   "execution_count": 17,
   "id": "eb5e6fc3",
   "metadata": {},
   "outputs": [
    {
     "data": {
      "text/plain": [
       "{1, 2, 3, 4, 5}"
      ]
     },
     "execution_count": 17,
     "metadata": {},
     "output_type": "execute_result"
    }
   ],
   "source": [
    "# Metodo de argegar `add()`\n",
    "mi_conjunto.add(5)\n",
    "mi_conjunto"
   ]
  },
  {
   "cell_type": "code",
   "execution_count": 18,
   "id": "5b72ff56",
   "metadata": {},
   "outputs": [
    {
     "data": {
      "text/plain": [
       "{2, 3, 4, 5}"
      ]
     },
     "execution_count": 18,
     "metadata": {},
     "output_type": "execute_result"
    }
   ],
   "source": [
    "# Método de `remove`\n",
    "mi_conjunto.remove(1)\n",
    "mi_conjunto"
   ]
  },
  {
   "cell_type": "markdown",
   "id": "2f29d9f9",
   "metadata": {},
   "source": [
    "### Union e Interseccion"
   ]
  },
  {
   "cell_type": "code",
   "execution_count": 19,
   "id": "14b985cb",
   "metadata": {},
   "outputs": [],
   "source": [
    "conjunto_a = {1,2,3,4}\n",
    "conjunto_b = {3,4,5,6}\n"
   ]
  },
  {
   "cell_type": "code",
   "execution_count": 20,
   "id": "0907dd72",
   "metadata": {},
   "outputs": [
    {
     "name": "stdout",
     "output_type": "stream",
     "text": [
      "Union: {1, 2, 3, 4, 5, 6}\n"
     ]
    }
   ],
   "source": [
    "# Union\n",
    "union_conjuntos = conjunto_a.union(conjunto_b)\n",
    "print(\"Union:\", union_conjuntos)"
   ]
  },
  {
   "cell_type": "code",
   "execution_count": 21,
   "id": "e54324fd",
   "metadata": {},
   "outputs": [
    {
     "name": "stdout",
     "output_type": "stream",
     "text": [
      "Interseccion: {3, 4}\n"
     ]
    }
   ],
   "source": [
    "# Interseccion\n",
    "interseccion_conjuntos = conjunto_a.intersection(conjunto_b)\n",
    "print(\"Interseccion:\", interseccion_conjuntos)"
   ]
  },
  {
   "cell_type": "code",
   "execution_count": 23,
   "id": "31145df1",
   "metadata": {},
   "outputs": [
    {
     "name": "stdout",
     "output_type": "stream",
     "text": [
      "Diferencia: {5, 6}\n"
     ]
    }
   ],
   "source": [
    "# Diferencia\n",
    "diferencia_conjuntos = conjunto_b.difference(conjunto_a)\n",
    "print(\"Diferencia:\", diferencia_conjuntos)"
   ]
  },
  {
   "cell_type": "markdown",
   "id": "a78d1feb",
   "metadata": {},
   "source": [
    "### Conversiones entre tipos de colecciones\n",
    "Es posible convertir entre tuplas, listas y conjuntos"
   ]
  },
  {
   "cell_type": "code",
   "execution_count": 31,
   "id": "15ddc503",
   "metadata": {},
   "outputs": [],
   "source": [
    "mi_lista = [1, 2, 3, 4,5]\n",
    "mi_tupla = (6,7,8)\n",
    "mi_conjunto = {9, 10, 11}\n"
   ]
  },
  {
   "cell_type": "code",
   "execution_count": 32,
   "id": "5ba47eaf",
   "metadata": {},
   "outputs": [
    {
     "name": "stdout",
     "output_type": "stream",
     "text": [
      "Lista a Tupla: (1, 2, 3, 4, 5)\n"
     ]
    }
   ],
   "source": [
    "# Lista a tupla []->()\n",
    "lista_a_tupla = tuple(mi_lista)\n",
    "print(\"Lista a Tupla:\", lista_a_tupla)"
   ]
  },
  {
   "cell_type": "code",
   "execution_count": 33,
   "id": "3a7f119e",
   "metadata": {},
   "outputs": [
    {
     "name": "stdout",
     "output_type": "stream",
     "text": [
      "Tupla a Conjunto: {8, 6, 7}\n"
     ]
    }
   ],
   "source": [
    "# Tupla a conjutno (los duplicados se eliminan) ()->{}\n",
    "tupla_a_conjunto = set(mi_tupla)\n",
    "print(\"Tupla a Conjunto:\", tupla_a_conjunto)"
   ]
  },
  {
   "cell_type": "code",
   "execution_count": 34,
   "id": "c0fef040",
   "metadata": {},
   "outputs": [
    {
     "name": "stdout",
     "output_type": "stream",
     "text": [
      "Conjunto a Lista: [9, 10, 11]\n"
     ]
    }
   ],
   "source": [
    "# Conjunto a lista {}->[]\n",
    "conjunto_a_lista = list(mi_conjunto)\n",
    "print(\"Conjunto a Lista:\", conjunto_a_lista)"
   ]
  },
  {
   "cell_type": "markdown",
   "id": "ef76eaec",
   "metadata": {},
   "source": [
    "### Cuando usar cada tipo\n",
    "- Tuplas: \n",
    "    - Cuando los datos deben permanecer inmutables. Por ejemplo, para alamcenar coordenadas\n",
    "    - Cuando se necesita una clave de diccionario que contenga varios valores, ya que las tuplas son hasheables (a diferencia de listas)\n"
   ]
  },
  {
   "cell_type": "code",
   "execution_count": 36,
   "id": "7e6988ca",
   "metadata": {},
   "outputs": [
    {
     "name": "stdout",
     "output_type": "stream",
     "text": [
      "Punto B\n"
     ]
    }
   ],
   "source": [
    "# Ejemplo de uso de tuplas como calves de diccionarios\n",
    "coordenadas = {(10,20):\"Punto A\",(30,40):\"Punto B\"}\n",
    "print(coordenadas[(30,40)])"
   ]
  },
  {
   "cell_type": "markdown",
   "id": "6725366b",
   "metadata": {},
   "source": [
    "- Conjuntos\n",
    "    - Cuando necesitamos una coleccion de elementos únicos, ejemplo, para eliminar duplicados\n",
    "    - Cuando se realizan operaciones matematicas con conjuntos como union, interseccion y diferencia\n",
    "    - Cuando la pertenencia de un elemento es una operacion crucial, ya que la busqueda en un conjunto es muy eficiente\n",
    "    orden `O(1)`"
   ]
  },
  {
   "cell_type": "code",
   "execution_count": 39,
   "id": "f3da7360",
   "metadata": {},
   "outputs": [
    {
     "name": "stdout",
     "output_type": "stream",
     "text": [
      "Elementos unicos: {1, 2, 3, 4, 5}\n"
     ]
    }
   ],
   "source": [
    "# Ejemplo para encontrar elementos unicos\n",
    "lista_con_duplicados = [1,5,2,5,3,1,4]\n",
    "elementos_unicos = set(lista_con_duplicados)\n",
    "print(\"Elementos unicos:\", elementos_unicos)"
   ]
  },
  {
   "cell_type": "code",
   "execution_count": 43,
   "id": "f87dd9e0",
   "metadata": {},
   "outputs": [
    {
     "name": "stdout",
     "output_type": "stream",
     "text": [
      "El elemento 3 está en el conjunto de elementos únicos.\n"
     ]
    }
   ],
   "source": [
    "if 3 in elementos_unicos:\n",
    "    print(\"El elemento 3 está en el conjunto de elementos únicos.\")"
   ]
  },
  {
   "cell_type": "code",
   "execution_count": null,
   "id": "e49ba405",
   "metadata": {},
   "outputs": [],
   "source": []
  }
 ],
 "metadata": {
  "kernelspec": {
   "display_name": "Python 3",
   "language": "python",
   "name": "python3"
  },
  "language_info": {
   "codemirror_mode": {
    "name": "ipython",
    "version": 3
   },
   "file_extension": ".py",
   "mimetype": "text/x-python",
   "name": "python",
   "nbconvert_exporter": "python",
   "pygments_lexer": "ipython3",
   "version": "3.12.8"
  }
 },
 "nbformat": 4,
 "nbformat_minor": 5
}
